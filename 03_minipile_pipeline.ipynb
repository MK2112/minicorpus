{
 "cells": [
  {
   "cell_type": "markdown",
   "metadata": {},
   "source": [
    "# Recreating and Improving MiniPile Dataset Creation\n",
    "\n",
    "**Objectives:**\n",
    "- [x] Implement and verify MiniPile’s filtering pipeline according to [Kaddour (2023)](https://arxiv.org/abs/2304.08442), but intended for decoder-only model use\n",
    "- [x] Evaluate and compare performances of Pythia $160\\text{M}$ pretrained on The Pile vs. trained on the *newly, self-created MiniPile* on MMLU and ARC-Challenge\n",
    "- [.] Evaluate and compare performances of Pythia $1.4\\text{B}$ pretrained on The Pile vs. trained on the *newly, self-created MiniPile* on MMLU and ARC-Challenge\n",
    "- [.] Improve the dataset creation process, create new SuperMiniPile dataset (ideally smaller and more information-retaining)\n",
    "- [] Evaluate Pythia $160\\text{M}$ on SuperMiniPile on MMLU and ARC-Challenge\n",
    "- [] Evaluate and compare performances of Pythia $1.4\\text{B}$ pretrained on The Pile vs. trained on SuperMiniPile on the MMLU and ARC benchmarks"
   ]
  },
  {
   "cell_type": "code",
   "execution_count": null,
   "metadata": {},
   "outputs": [],
   "source": [
    "#! pip install sentence-transformers"
   ]
  },
  {
   "cell_type": "code",
   "execution_count": 5,
   "metadata": {},
   "outputs": [],
   "source": [
    "import os\n",
    "import torch\n",
    "import numpy as np\n",
    "from tqdm import tqdm\n",
    "from pathlib import Path\n",
    "from datasets import load_dataset\n",
    "from huggingface_hub import snapshot_download\n",
    "from sentence_transformers import SentenceTransformer\n",
    "\n",
    "base_dir = \"/vol/tmp/koppelmm\"\n",
    "base_path = Path(base_dir)"
   ]
  },
  {
   "cell_type": "code",
   "execution_count": 2,
   "metadata": {},
   "outputs": [],
   "source": [
    "def download_model(down_dir: str, target_folder: str, cache_folder: str, repo_id: str, branch: str = \"main\") -> None:\n",
    "    down_dir = Path(down_dir)\n",
    "    target_dir = down_dir / target_folder\n",
    "    cache_dir = down_dir / cache_folder\n",
    "\n",
    "    os.makedirs(target_dir, exist_ok=True)\n",
    "    os.makedirs(cache_dir, exist_ok=True)\n",
    "\n",
    "    print(f\"Downloading {repo_id}/{branch}...\")\n",
    "\n",
    "    while True:\n",
    "        try:\n",
    "            snapshot_download(\n",
    "                repo_id,\n",
    "                repo_type=\"model\",\n",
    "                revision=branch,\n",
    "                cache_dir=str(cache_dir),\n",
    "                local_dir=str(target_dir)\n",
    "            )\n",
    "            break\n",
    "        except Exception as e:\n",
    "            print(f\"Download attempt failed: {e}\")\n",
    "            continue"
   ]
  },
  {
   "cell_type": "markdown",
   "metadata": {},
   "source": [
    "---\n",
    "\n",
    "## Recreating The MiniPile Dataset Creation Pipeline\n",
    "\n",
    "(1) document embedding extraction,<br>\n",
    "(2) clustering of embeddings, and<br>\n",
    "(3) human-guided exclusion of unwanted clusters<br>\n",
    "(4) mini-pile distillation\n",
    "\n",
    "- 22 data subset sources\n",
    "- 5.91 KiB mean document size (before deduplication)\n",
    "\n",
    "### Document Embedding Extraction\n",
    "\n",
    "- MiniPile paper uses term \"document\": This refers to individual training examples from \"The Pile-Deduplicated\"\n",
    "- \"The Pile Deduplicated\" predominantly contains english text, as stated in the Pile paper\n",
    "- `E5-Large` does not require performing sentence-splitting beforehand, I was misguided by the example code at https://huggingface.co/intfloat/e5-large\n",
    "- `E5-Large` scales poorly to the dataset size under the conditions imposed by the HU Berlin cluster. I will use `E5-Base-4k` instead.\n",
    "- `E5-Base-4k` performs slightly worse than `E5-Large`, but has roughly half the parameter count and is therefore more efficient to use\n",
    "- We attempt to mitigate the reported/expectable performance losses by using a larger text window size of $1024$ tokens instead of the $512$ tokens used by `E5-Large` by default.\n",
    "\n",
    "Given the smaller model and The Pile, we iterate through the dataset and extract the embedding for each document.<br>\n",
    "The script I initially implemented for the embedding step is `03_embed_pile_dedup.py`.<br>\n",
    "The approach layed out therein conceptually worked, but it had to be thoroughly memory-optimized to run for as long as needed for our Pile dataset.<br>\n",
    "The optimized script I ultimately ran for this step is `03_embed_pile_dedup_turbo.py`.\n",
    "\n",
    "The embedding step produces as artifact a copy of the original dataset with the embeddings added as a column.<br>\n",
    "The embedding process is resumable, results are persisted in multiple parquet files, one after another, in the folder `Pile_Deduplicated_Embd`.<br>\n",
    "\n",
    "**Note that I intended to upload this embedded version of the Pile to HuggingFace for strict reproducibility.**<br>\n",
    "**This idea was cut short by a change in HuggingFace's pricing policy, effective January 2025, prohibiting the free sharing of datasets >500GB - a threshold which this new dataset crosses (801 GB) due to the added embeddings.**\n",
    "\n",
    "Furthermore, note that the embedding step, through its parallel processing, is in no way guaranteed to maintain the original order of the documents.<br>\n",
    "In fact, this is the reason for why I elected to build the dataset copy with the embeddings as a column in the first place, to ensure the correct alignment of the embeddings with the documents while still being able to leverage parallel processing. Because, after all, time was the deciding factor.<br>\n",
    "The shuffling is therefore not a problem as such, but we have to base the clustering and therefore all following processes on this new, shuffled dataset.\n",
    "\n",
    "In other words, all artifacts produced after the embedding step will relate not to the original dataset, but the embedded dataset, e.g. when referring to entries by index."
   ]
  },
  {
   "cell_type": "markdown",
   "metadata": {},
   "source": [
    "### Clustering of Embeddings\n",
    "\n",
    "- Batchified $k$-means clustering, a term only used in the MiniPile paper: This must stand for **mini-batch k-means clustering**\n",
    "- Cosine distance between normalized embeddings\n",
    "- Cluster Count of $k=220$ ($10$ clusters per source)\n",
    "- Batch size $16384$\n",
    "\n",
    "Architecturally, I built the clustering step to be fully independent of the embedding step, so as to be able to run the partial fitting concurrently with the latter, saving ~4 days of processing time total.\n",
    "\n",
    "The clustering step is implemented in `03_cluster_pile_embed.py`. As soon as the embedding step finishes, a text file is produced, signaling the clustering step to conclude model fitting and start predicting. The centroids are saved and can be found in `MiniPile_BatchKMeans/cluster_centers.npy`. Intermediary centroid results have been omitted from this repository.\n",
    "\n",
    "Each embedding from the newly created dataset is assigned to one of the $220$ clusters. This cluster information as well as the distance of the data point to the centroid are stored in JSONL files, with the entries in order of appearance in the embedded Pile dataset.<br>\n",
    "Each clustering result looks like this: `{\"idx\": 0, \"cluster\": 5, \"distance\": 0.20949329195756128}`.<br>\n",
    "Each Pile-Embedded document is referred to only by its index, crunching the cluster results' memory requirements down.\n",
    "\n",
    "Beyond the JSONL files containing the cluster assignments, the clustering step produces a verification file `MiniPile_BatchKMeans/cluster_results_metadata.json` to indicate whether all chunks and all data points therein have been processed and how results have been saved. We can see from this file that the original dataset size of $134,318,121$ documents has been captured and thus processed, lending more credibility to the clustering results.\n",
    "\n",
    "Additionally, the clustering step produces a file `MiniPile_BatchKMeans/cluster_info_for_inspection.json`.<br>\n",
    "Per cluster index, this file contains the following information:\n",
    "- `closest`: The top 5 closest documents to the cluster centroid\n",
    "    - `text`: The associated text excerpt (for memory reasons)\n",
    "    - `distance`: The cosine distance to the cluster centroid\n",
    "- `farthest`: The top 5 farthest documents from the cluster centroid (again, excerpts, in same format)\n",
    "- `total_examples`: The number of documents assigned to this cluster\n",
    "- `average_distance`: The average cosine distance of all documents to the cluster centroid\n",
    "- `sum_distance`: The sum of all cosine distances of all documents to the cluster centroid\n",
    "\n",
    "The three latter information points are intended to help with the human-guided exclusion of unwanted clusters, but moreover, they may help in improving the dataset creation process later on, as they can provide insights into the spread of the data.\n",
    "\n",
    "After these files were attained, I ran `03_sort_pile_clusters.py` to save the cluster assignment entries organized into one file per cluster / separated by cluster. This is to facilitate a more effective cluster exclusion process during later minipile creation steps.\n",
    "\n",
    "For now, the clustering step is concluded, producing one JSONL file per cluster with information about each cluster assignment per document.<br>\n",
    "This intermediary dataset can be found here: [https://huggingface.co/datasets/Marcus2112/pile_dedup_embeddings_clusters](https://huggingface.co/datasets/Marcus2112/pile_dedup_embeddings_clusters).\n",
    "\n",
    "Note that while the entry count is exactly identical, the size is not. Where the original MiniPile occupied $3.14GB$, we now require $3.71GB$.\n",
    "Several factors play into this:\n",
    "- We use a slightly different embedding model, which may cause (at least occasional) devations in embedding and thus may lead to differently shaped clusters\n",
    "- We select clusters by hand, allowing interpretation of selection categories to roam free. I thus may have selected $38$ clusters according to the paper's categories, but my understanding of enforcing them during selection may differ from the author.\n",
    "- The random sampling happened to select different examples per cluster.\n",
    "\n",
    "Again, note that these indices are not per-se applicable to the original dataset, but to the embedded dataset.\n",
    "\n",
    "### Human-Guided Cluster Exclusion\n",
    "\n",
    "At this point, especially due to the `MiniPile_BatchKMeans/cluster_info_for_inspection.json` file, we can start the human-guided exclusion of unwanted clusters.<br>\n",
    "I strictly adhered to the paper and only sorted out clusters of the layed out categories, which I found to be well identifyable through the 10 examples per cluster.\n",
    "\n",
    "The categories with the clusters I sorted out are as follows:\n",
    "- Near Duplicates ($10, 15, 16, 22, 26, 28, 35, 37, 46, 51, 57, 64, 86, 87, 64, 102, 111, 114, 152, 163, 166, 218$)\n",
    "- Pornography ($167$)\n",
    "- Navigation Bars ($39, 88, 101, 155$)\n",
    "- Product Specifications ($61, 200$)\n",
    "- Long lists of named entities ($40, 44, 78, 90, 99, 103, 181, 196, 219$)\n",
    "\n",
    "### MiniPile Distillation\n",
    "\n",
    "With the cluster analysis concluded, we can now proceed to the distillation of the MiniPile dataset.<br>\n",
    "This dataset touches on all the artifacts produced in the previous steps:<br>\n",
    "- The embedded Pile dataset, from which we extract the documents\n",
    "- The cluster assignments, from which we extract the documents assigned to the remaining clusters\n",
    "- The cluster exclusion list, from which we exclude the documents assigned to the unwanted clusters\n",
    "\n",
    "The distillation step is implemented in `03_distill_pile_embed.py`.<br>\n",
    "The script is written to most exactly and efficiently (we have loads of I/O to perform) extract the correct documents according to our random sampling across the remaining clusters.\n",
    "\n",
    "The distillation step produces a new dataset, the MiniPile, which is a subset of the original Pile dataset.<br>\n",
    "The created dataset is exactly $1,010,500$ documents large, as intended. The dataset is shuffled, to spread cluster entries evenly across the dataset's splits.<br>\n",
    "Additionally, I added a column `pile_idx` to each entry, denoting the original index of the document in the Pile dataset.<br>\n",
    "This helped in making sure that the dataset actually captures a subset derived from across the entire embedded Pile.\n",
    "\n",
    "The resulting self-created MiniPile can be found here: [https://huggingface.co/datasets/Marcus2112/minipile_recreation](https://huggingface.co/datasets/Marcus2112/minipile_recreation).\n",
    "\n",
    "I now went on and adapted the `02_train_160M.py` script to train Pythia $160\\text{M}$ on the newly created MiniPile.<br>\n",
    "The adapted script is `03_train_160M_recreation.py`."
   ]
  },
  {
   "cell_type": "markdown",
   "metadata": {},
   "source": [
    "---\n",
    "\n",
    "## Evaluate Pythia $160\\text{M}$ Pile vs. Pythia $160\\text{M}$ MiniPile (recreated)\n",
    "\n",
    "We will use an exact copy of the training and the test setup previously used for benchmarking Pythia $160\\text{M}$-Pile and $160\\text{M}$-MiniPile-Original.<br>\n",
    "Training is performed with the script `03_train_160M_recreation.py`.\n",
    "\n",
    "The trained model can be found here: [https://huggingface.co/Marcus2112/pythia-160m-minipile_recreation](https://huggingface.co/Marcus2112/pythia-160m-minipile_recreation)"
   ]
  },
  {
   "cell_type": "code",
   "execution_count": 3,
   "metadata": {},
   "outputs": [],
   "source": [
    "import torch\n",
    "from transformers import AutoModelForCausalLM, AutoTokenizer\n",
    "\n",
    "from lm_eval import utils, simple_evaluate\n",
    "from lm_eval.models.huggingface import HFLM"
   ]
  },
  {
   "cell_type": "code",
   "execution_count": 6,
   "metadata": {},
   "outputs": [
    {
     "name": "stderr",
     "output_type": "stream",
     "text": [
      "2024-12-05:15:20:16,148 WARNING  [huggingface.py:95] `pretrained` model kwarg is not of type `str`. Many other model arguments may be ignored. Please do not launch via accelerate or use `parallelize=True` if passing an existing model this way.\n",
      "2024-12-05:15:20:16,151 INFO     [huggingface.py:481] Using model type 'default'\n",
      "2024-12-05:15:20:16,163 WARNING  [huggingface.py:275] Passed an already-initialized model through `pretrained`, assuming single-process call to evaluate() or custom distributed integration\n",
      "2024-12-05:15:20:16,177 INFO     [evaluator.py:164] Setting random seed to 0 | Setting numpy seed to 1234 | Setting torch manual seed to 1234 | Setting fewshot manual seed to 1234\n",
      "2024-12-05:15:20:16,178 INFO     [evaluator.py:217] Using pre-initialized model\n"
     ]
    },
    {
     "data": {
      "application/vnd.jupyter.widget-view+json": {
       "model_id": "7b1ed3ab72ce4313a3e63c589289cb53",
       "version_major": 2,
       "version_minor": 0
      },
      "text/plain": [
       "README.md:   0%|          | 0.00/9.00k [00:00<?, ?B/s]"
      ]
     },
     "metadata": {},
     "output_type": "display_data"
    },
    {
     "data": {
      "application/vnd.jupyter.widget-view+json": {
       "model_id": "eed7b4ad87854b5797cd1236742eee93",
       "version_major": 2,
       "version_minor": 0
      },
      "text/plain": [
       "train-00000-of-00001.parquet:   0%|          | 0.00/190k [00:00<?, ?B/s]"
      ]
     },
     "metadata": {},
     "output_type": "display_data"
    },
    {
     "data": {
      "application/vnd.jupyter.widget-view+json": {
       "model_id": "c21d3fe9d04a49a4a57a66ffd90071dd",
       "version_major": 2,
       "version_minor": 0
      },
      "text/plain": [
       "test-00000-of-00001.parquet:   0%|          | 0.00/204k [00:00<?, ?B/s]"
      ]
     },
     "metadata": {},
     "output_type": "display_data"
    },
    {
     "data": {
      "application/vnd.jupyter.widget-view+json": {
       "model_id": "40a6b0a8a54f4539b1e38a5e142f66a1",
       "version_major": 2,
       "version_minor": 0
      },
      "text/plain": [
       "validation-00000-of-00001.parquet:   0%|          | 0.00/55.7k [00:00<?, ?B/s]"
      ]
     },
     "metadata": {},
     "output_type": "display_data"
    },
    {
     "data": {
      "application/vnd.jupyter.widget-view+json": {
       "model_id": "42f66b49791443a8b459598900d9cac7",
       "version_major": 2,
       "version_minor": 0
      },
      "text/plain": [
       "Generating train split:   0%|          | 0/1119 [00:00<?, ? examples/s]"
      ]
     },
     "metadata": {},
     "output_type": "display_data"
    },
    {
     "data": {
      "application/vnd.jupyter.widget-view+json": {
       "model_id": "ccb7444cbe7645b0a0aa51e25169b7da",
       "version_major": 2,
       "version_minor": 0
      },
      "text/plain": [
       "Generating test split:   0%|          | 0/1172 [00:00<?, ? examples/s]"
      ]
     },
     "metadata": {},
     "output_type": "display_data"
    },
    {
     "data": {
      "application/vnd.jupyter.widget-view+json": {
       "model_id": "90f2b905fae84393af3fee94904e9283",
       "version_major": 2,
       "version_minor": 0
      },
      "text/plain": [
       "Generating validation split:   0%|          | 0/299 [00:00<?, ? examples/s]"
      ]
     },
     "metadata": {},
     "output_type": "display_data"
    },
    {
     "data": {
      "application/vnd.jupyter.widget-view+json": {
       "model_id": "a7ea56764bff4f6aaead3bbabcde416a",
       "version_major": 2,
       "version_minor": 0
      },
      "text/plain": [
       "README.md:   0%|          | 0.00/1.11k [00:00<?, ?B/s]"
      ]
     },
     "metadata": {},
     "output_type": "display_data"
    },
    {
     "data": {
      "application/vnd.jupyter.widget-view+json": {
       "model_id": "d8f71ae787e348b48702dce62163dad2",
       "version_major": 2,
       "version_minor": 0
      },
      "text/plain": [
       "mmlu_no_train.py:   0%|          | 0.00/5.86k [00:00<?, ?B/s]"
      ]
     },
     "metadata": {},
     "output_type": "display_data"
    },
    {
     "data": {
      "application/vnd.jupyter.widget-view+json": {
       "model_id": "223861e89c1f41feb52ba96dd730533b",
       "version_major": 2,
       "version_minor": 0
      },
      "text/plain": [
       "data.tar:   0%|          | 0.00/166M [00:00<?, ?B/s]"
      ]
     },
     "metadata": {},
     "output_type": "display_data"
    },
    {
     "data": {
      "application/vnd.jupyter.widget-view+json": {
       "model_id": "3322430492924d91a2062b4b004eee6d",
       "version_major": 2,
       "version_minor": 0
      },
      "text/plain": [
       "Generating test split: 0 examples [00:00, ? examples/s]"
      ]
     },
     "metadata": {},
     "output_type": "display_data"
    },
    {
     "data": {
      "application/vnd.jupyter.widget-view+json": {
       "model_id": "a4cfbccc71c145beb423c50bfa35202a",
       "version_major": 2,
       "version_minor": 0
      },
      "text/plain": [
       "Generating validation split: 0 examples [00:00, ? examples/s]"
      ]
     },
     "metadata": {},
     "output_type": "display_data"
    },
    {
     "data": {
      "application/vnd.jupyter.widget-view+json": {
       "model_id": "d2000bcd2bb347f1aca6073a54f5b2fe",
       "version_major": 2,
       "version_minor": 0
      },
      "text/plain": [
       "Generating dev split: 0 examples [00:00, ? examples/s]"
      ]
     },
     "metadata": {},
     "output_type": "display_data"
    },
    {
     "data": {
      "application/vnd.jupyter.widget-view+json": {
       "model_id": "c1e43c9cf9e74abd906795e30fd4a662",
       "version_major": 2,
       "version_minor": 0
      },
      "text/plain": [
       "Generating test split: 0 examples [00:00, ? examples/s]"
      ]
     },
     "metadata": {},
     "output_type": "display_data"
    },
    {
     "data": {
      "application/vnd.jupyter.widget-view+json": {
       "model_id": "1ae5093d2eab418693c95832abb52b59",
       "version_major": 2,
       "version_minor": 0
      },
      "text/plain": [
       "Generating validation split: 0 examples [00:00, ? examples/s]"
      ]
     },
     "metadata": {},
     "output_type": "display_data"
    },
    {
     "data": {
      "application/vnd.jupyter.widget-view+json": {
       "model_id": "441fda5bc74e4bcc8ede94246af312e6",
       "version_major": 2,
       "version_minor": 0
      },
      "text/plain": [
       "Generating dev split: 0 examples [00:00, ? examples/s]"
      ]
     },
     "metadata": {},
     "output_type": "display_data"
    },
    {
     "data": {
      "application/vnd.jupyter.widget-view+json": {
       "model_id": "9aecdc06567e4500a8ad72726da4d62d",
       "version_major": 2,
       "version_minor": 0
      },
      "text/plain": [
       "Generating test split: 0 examples [00:00, ? examples/s]"
      ]
     },
     "metadata": {},
     "output_type": "display_data"
    },
    {
     "data": {
      "application/vnd.jupyter.widget-view+json": {
       "model_id": "0cb5e54f79944f62b187e474dcfcd2ff",
       "version_major": 2,
       "version_minor": 0
      },
      "text/plain": [
       "Generating validation split: 0 examples [00:00, ? examples/s]"
      ]
     },
     "metadata": {},
     "output_type": "display_data"
    },
    {
     "data": {
      "application/vnd.jupyter.widget-view+json": {
       "model_id": "d52da50ad9094292957353f10ef0820d",
       "version_major": 2,
       "version_minor": 0
      },
      "text/plain": [
       "Generating dev split: 0 examples [00:00, ? examples/s]"
      ]
     },
     "metadata": {},
     "output_type": "display_data"
    },
    {
     "data": {
      "application/vnd.jupyter.widget-view+json": {
       "model_id": "eba5ce75cd62432881ab5a6256254d0f",
       "version_major": 2,
       "version_minor": 0
      },
      "text/plain": [
       "Generating test split: 0 examples [00:00, ? examples/s]"
      ]
     },
     "metadata": {},
     "output_type": "display_data"
    },
    {
     "data": {
      "application/vnd.jupyter.widget-view+json": {
       "model_id": "6a3dceb800f04c658f3663185a738cdb",
       "version_major": 2,
       "version_minor": 0
      },
      "text/plain": [
       "Generating validation split: 0 examples [00:00, ? examples/s]"
      ]
     },
     "metadata": {},
     "output_type": "display_data"
    },
    {
     "data": {
      "application/vnd.jupyter.widget-view+json": {
       "model_id": "8dfd8170db0345c28f273df6eb8a2f08",
       "version_major": 2,
       "version_minor": 0
      },
      "text/plain": [
       "Generating dev split: 0 examples [00:00, ? examples/s]"
      ]
     },
     "metadata": {},
     "output_type": "display_data"
    },
    {
     "data": {
      "application/vnd.jupyter.widget-view+json": {
       "model_id": "64aee64150ce4d03aff20e26086ff38c",
       "version_major": 2,
       "version_minor": 0
      },
      "text/plain": [
       "Generating test split: 0 examples [00:00, ? examples/s]"
      ]
     },
     "metadata": {},
     "output_type": "display_data"
    },
    {
     "data": {
      "application/vnd.jupyter.widget-view+json": {
       "model_id": "608b7a54cedb4cec89f4c60c81700a50",
       "version_major": 2,
       "version_minor": 0
      },
      "text/plain": [
       "Generating validation split: 0 examples [00:00, ? examples/s]"
      ]
     },
     "metadata": {},
     "output_type": "display_data"
    },
    {
     "data": {
      "application/vnd.jupyter.widget-view+json": {
       "model_id": "d7da57dbd4214f12915ccc31fe5b7d8f",
       "version_major": 2,
       "version_minor": 0
      },
      "text/plain": [
       "Generating dev split: 0 examples [00:00, ? examples/s]"
      ]
     },
     "metadata": {},
     "output_type": "display_data"
    },
    {
     "data": {
      "application/vnd.jupyter.widget-view+json": {
       "model_id": "a441015dd9cb48b188781d807368f58e",
       "version_major": 2,
       "version_minor": 0
      },
      "text/plain": [
       "Generating test split: 0 examples [00:00, ? examples/s]"
      ]
     },
     "metadata": {},
     "output_type": "display_data"
    },
    {
     "data": {
      "application/vnd.jupyter.widget-view+json": {
       "model_id": "427f46973f8d4fb28380a87f3caa1843",
       "version_major": 2,
       "version_minor": 0
      },
      "text/plain": [
       "Generating validation split: 0 examples [00:00, ? examples/s]"
      ]
     },
     "metadata": {},
     "output_type": "display_data"
    },
    {
     "data": {
      "application/vnd.jupyter.widget-view+json": {
       "model_id": "59ce75b958d84122ad0c154c44ef4083",
       "version_major": 2,
       "version_minor": 0
      },
      "text/plain": [
       "Generating dev split: 0 examples [00:00, ? examples/s]"
      ]
     },
     "metadata": {},
     "output_type": "display_data"
    },
    {
     "data": {
      "application/vnd.jupyter.widget-view+json": {
       "model_id": "5f284d320d3c4a3b883e145f49b6a020",
       "version_major": 2,
       "version_minor": 0
      },
      "text/plain": [
       "Generating test split: 0 examples [00:00, ? examples/s]"
      ]
     },
     "metadata": {},
     "output_type": "display_data"
    },
    {
     "data": {
      "application/vnd.jupyter.widget-view+json": {
       "model_id": "498ceae1411b455796ff82bf7f11b628",
       "version_major": 2,
       "version_minor": 0
      },
      "text/plain": [
       "Generating validation split: 0 examples [00:00, ? examples/s]"
      ]
     },
     "metadata": {},
     "output_type": "display_data"
    },
    {
     "data": {
      "application/vnd.jupyter.widget-view+json": {
       "model_id": "6cb76737b7de4643a0242ce91468b855",
       "version_major": 2,
       "version_minor": 0
      },
      "text/plain": [
       "Generating dev split: 0 examples [00:00, ? examples/s]"
      ]
     },
     "metadata": {},
     "output_type": "display_data"
    },
    {
     "data": {
      "application/vnd.jupyter.widget-view+json": {
       "model_id": "d49bdb653dca439f8a2235e723ec3341",
       "version_major": 2,
       "version_minor": 0
      },
      "text/plain": [
       "Generating test split: 0 examples [00:00, ? examples/s]"
      ]
     },
     "metadata": {},
     "output_type": "display_data"
    },
    {
     "data": {
      "application/vnd.jupyter.widget-view+json": {
       "model_id": "6e40ae5da78d41f4bb0423fb938380df",
       "version_major": 2,
       "version_minor": 0
      },
      "text/plain": [
       "Generating validation split: 0 examples [00:00, ? examples/s]"
      ]
     },
     "metadata": {},
     "output_type": "display_data"
    },
    {
     "data": {
      "application/vnd.jupyter.widget-view+json": {
       "model_id": "d01f38bed09e4be9bffdf1bb610e06c3",
       "version_major": 2,
       "version_minor": 0
      },
      "text/plain": [
       "Generating dev split: 0 examples [00:00, ? examples/s]"
      ]
     },
     "metadata": {},
     "output_type": "display_data"
    },
    {
     "data": {
      "application/vnd.jupyter.widget-view+json": {
       "model_id": "23909feffab943f79b07128eca2656d7",
       "version_major": 2,
       "version_minor": 0
      },
      "text/plain": [
       "Generating test split: 0 examples [00:00, ? examples/s]"
      ]
     },
     "metadata": {},
     "output_type": "display_data"
    },
    {
     "data": {
      "application/vnd.jupyter.widget-view+json": {
       "model_id": "5ff7043b778f4e27b7647064ca678919",
       "version_major": 2,
       "version_minor": 0
      },
      "text/plain": [
       "Generating validation split: 0 examples [00:00, ? examples/s]"
      ]
     },
     "metadata": {},
     "output_type": "display_data"
    },
    {
     "data": {
      "application/vnd.jupyter.widget-view+json": {
       "model_id": "dda316f1c20c4cefadc02306ba077708",
       "version_major": 2,
       "version_minor": 0
      },
      "text/plain": [
       "Generating dev split: 0 examples [00:00, ? examples/s]"
      ]
     },
     "metadata": {},
     "output_type": "display_data"
    },
    {
     "data": {
      "application/vnd.jupyter.widget-view+json": {
       "model_id": "26615f40922241a8ad8b82e55ca5bf06",
       "version_major": 2,
       "version_minor": 0
      },
      "text/plain": [
       "Generating test split: 0 examples [00:00, ? examples/s]"
      ]
     },
     "metadata": {},
     "output_type": "display_data"
    },
    {
     "data": {
      "application/vnd.jupyter.widget-view+json": {
       "model_id": "ed911fcae10844f7b55accba0119f460",
       "version_major": 2,
       "version_minor": 0
      },
      "text/plain": [
       "Generating validation split: 0 examples [00:00, ? examples/s]"
      ]
     },
     "metadata": {},
     "output_type": "display_data"
    },
    {
     "data": {
      "application/vnd.jupyter.widget-view+json": {
       "model_id": "9c2918687f6e45319bdc04ec14d66300",
       "version_major": 2,
       "version_minor": 0
      },
      "text/plain": [
       "Generating dev split: 0 examples [00:00, ? examples/s]"
      ]
     },
     "metadata": {},
     "output_type": "display_data"
    },
    {
     "data": {
      "application/vnd.jupyter.widget-view+json": {
       "model_id": "e16a6c1063594d589697c372e0f009e0",
       "version_major": 2,
       "version_minor": 0
      },
      "text/plain": [
       "Generating test split: 0 examples [00:00, ? examples/s]"
      ]
     },
     "metadata": {},
     "output_type": "display_data"
    },
    {
     "data": {
      "application/vnd.jupyter.widget-view+json": {
       "model_id": "7a2d5d009e8c4c4bb8fedf92515e2fad",
       "version_major": 2,
       "version_minor": 0
      },
      "text/plain": [
       "Generating validation split: 0 examples [00:00, ? examples/s]"
      ]
     },
     "metadata": {},
     "output_type": "display_data"
    },
    {
     "data": {
      "application/vnd.jupyter.widget-view+json": {
       "model_id": "2aff5d2fdaaa4bd19a8b194d80efacb7",
       "version_major": 2,
       "version_minor": 0
      },
      "text/plain": [
       "Generating dev split: 0 examples [00:00, ? examples/s]"
      ]
     },
     "metadata": {},
     "output_type": "display_data"
    },
    {
     "data": {
      "application/vnd.jupyter.widget-view+json": {
       "model_id": "7279c41aa96c4320afc9314142324472",
       "version_major": 2,
       "version_minor": 0
      },
      "text/plain": [
       "Generating test split: 0 examples [00:00, ? examples/s]"
      ]
     },
     "metadata": {},
     "output_type": "display_data"
    },
    {
     "data": {
      "application/vnd.jupyter.widget-view+json": {
       "model_id": "b39a091d7e02442ab0a7e6b6a4ab4f81",
       "version_major": 2,
       "version_minor": 0
      },
      "text/plain": [
       "Generating validation split: 0 examples [00:00, ? examples/s]"
      ]
     },
     "metadata": {},
     "output_type": "display_data"
    },
    {
     "data": {
      "application/vnd.jupyter.widget-view+json": {
       "model_id": "496a2b3cf5c041b1a3e2628b5da2bbec",
       "version_major": 2,
       "version_minor": 0
      },
      "text/plain": [
       "Generating dev split: 0 examples [00:00, ? examples/s]"
      ]
     },
     "metadata": {},
     "output_type": "display_data"
    },
    {
     "data": {
      "application/vnd.jupyter.widget-view+json": {
       "model_id": "761fc803480f40af8356930812c6bc27",
       "version_major": 2,
       "version_minor": 0
      },
      "text/plain": [
       "Generating test split: 0 examples [00:00, ? examples/s]"
      ]
     },
     "metadata": {},
     "output_type": "display_data"
    },
    {
     "data": {
      "application/vnd.jupyter.widget-view+json": {
       "model_id": "d4600b2c470b4dd18f782fd2b599f213",
       "version_major": 2,
       "version_minor": 0
      },
      "text/plain": [
       "Generating validation split: 0 examples [00:00, ? examples/s]"
      ]
     },
     "metadata": {},
     "output_type": "display_data"
    },
    {
     "data": {
      "application/vnd.jupyter.widget-view+json": {
       "model_id": "31aad53180dd423cacdc6e34d346b3fe",
       "version_major": 2,
       "version_minor": 0
      },
      "text/plain": [
       "Generating dev split: 0 examples [00:00, ? examples/s]"
      ]
     },
     "metadata": {},
     "output_type": "display_data"
    },
    {
     "data": {
      "application/vnd.jupyter.widget-view+json": {
       "model_id": "8c6c2c46d6da4a6192dd19d26493992a",
       "version_major": 2,
       "version_minor": 0
      },
      "text/plain": [
       "Generating test split: 0 examples [00:00, ? examples/s]"
      ]
     },
     "metadata": {},
     "output_type": "display_data"
    },
    {
     "data": {
      "application/vnd.jupyter.widget-view+json": {
       "model_id": "7378b2ca4cb54140813335fcb9172ade",
       "version_major": 2,
       "version_minor": 0
      },
      "text/plain": [
       "Generating validation split: 0 examples [00:00, ? examples/s]"
      ]
     },
     "metadata": {},
     "output_type": "display_data"
    },
    {
     "data": {
      "application/vnd.jupyter.widget-view+json": {
       "model_id": "b641e750b50141bf9a0c68a8cbde395a",
       "version_major": 2,
       "version_minor": 0
      },
      "text/plain": [
       "Generating dev split: 0 examples [00:00, ? examples/s]"
      ]
     },
     "metadata": {},
     "output_type": "display_data"
    },
    {
     "data": {
      "application/vnd.jupyter.widget-view+json": {
       "model_id": "fa2efebb7f8748fa845fd21ced78eeb8",
       "version_major": 2,
       "version_minor": 0
      },
      "text/plain": [
       "Generating test split: 0 examples [00:00, ? examples/s]"
      ]
     },
     "metadata": {},
     "output_type": "display_data"
    },
    {
     "data": {
      "application/vnd.jupyter.widget-view+json": {
       "model_id": "485b739a7aae49ab90ac7b799a1400ad",
       "version_major": 2,
       "version_minor": 0
      },
      "text/plain": [
       "Generating validation split: 0 examples [00:00, ? examples/s]"
      ]
     },
     "metadata": {},
     "output_type": "display_data"
    },
    {
     "data": {
      "application/vnd.jupyter.widget-view+json": {
       "model_id": "b66793ba6c49487a89690d9ee457b41d",
       "version_major": 2,
       "version_minor": 0
      },
      "text/plain": [
       "Generating dev split: 0 examples [00:00, ? examples/s]"
      ]
     },
     "metadata": {},
     "output_type": "display_data"
    },
    {
     "data": {
      "application/vnd.jupyter.widget-view+json": {
       "model_id": "9010248a93f64693bb5748242b95eba6",
       "version_major": 2,
       "version_minor": 0
      },
      "text/plain": [
       "Generating test split: 0 examples [00:00, ? examples/s]"
      ]
     },
     "metadata": {},
     "output_type": "display_data"
    },
    {
     "data": {
      "application/vnd.jupyter.widget-view+json": {
       "model_id": "a98249d2c6784e058e8507b9de4c7a95",
       "version_major": 2,
       "version_minor": 0
      },
      "text/plain": [
       "Generating validation split: 0 examples [00:00, ? examples/s]"
      ]
     },
     "metadata": {},
     "output_type": "display_data"
    },
    {
     "data": {
      "application/vnd.jupyter.widget-view+json": {
       "model_id": "76486e6d130140fc87c82f63779b06b8",
       "version_major": 2,
       "version_minor": 0
      },
      "text/plain": [
       "Generating dev split: 0 examples [00:00, ? examples/s]"
      ]
     },
     "metadata": {},
     "output_type": "display_data"
    },
    {
     "data": {
      "application/vnd.jupyter.widget-view+json": {
       "model_id": "fc10e352529a47589047084b869e72df",
       "version_major": 2,
       "version_minor": 0
      },
      "text/plain": [
       "Generating test split: 0 examples [00:00, ? examples/s]"
      ]
     },
     "metadata": {},
     "output_type": "display_data"
    },
    {
     "data": {
      "application/vnd.jupyter.widget-view+json": {
       "model_id": "a2376f4b2d434f3da9215e2b9f590b50",
       "version_major": 2,
       "version_minor": 0
      },
      "text/plain": [
       "Generating validation split: 0 examples [00:00, ? examples/s]"
      ]
     },
     "metadata": {},
     "output_type": "display_data"
    },
    {
     "data": {
      "application/vnd.jupyter.widget-view+json": {
       "model_id": "cf786b8604c440239044a8714edd0823",
       "version_major": 2,
       "version_minor": 0
      },
      "text/plain": [
       "Generating dev split: 0 examples [00:00, ? examples/s]"
      ]
     },
     "metadata": {},
     "output_type": "display_data"
    },
    {
     "data": {
      "application/vnd.jupyter.widget-view+json": {
       "model_id": "e836bc943d43416e9c25230b8920fda0",
       "version_major": 2,
       "version_minor": 0
      },
      "text/plain": [
       "Generating test split: 0 examples [00:00, ? examples/s]"
      ]
     },
     "metadata": {},
     "output_type": "display_data"
    },
    {
     "data": {
      "application/vnd.jupyter.widget-view+json": {
       "model_id": "604d8d29d4e244ee80c2e76e6af78657",
       "version_major": 2,
       "version_minor": 0
      },
      "text/plain": [
       "Generating validation split: 0 examples [00:00, ? examples/s]"
      ]
     },
     "metadata": {},
     "output_type": "display_data"
    },
    {
     "data": {
      "application/vnd.jupyter.widget-view+json": {
       "model_id": "54cccb09b949411cbf466391d60bda95",
       "version_major": 2,
       "version_minor": 0
      },
      "text/plain": [
       "Generating dev split: 0 examples [00:00, ? examples/s]"
      ]
     },
     "metadata": {},
     "output_type": "display_data"
    },
    {
     "data": {
      "application/vnd.jupyter.widget-view+json": {
       "model_id": "6280f1d611844c7287dfc8e812a5cfa1",
       "version_major": 2,
       "version_minor": 0
      },
      "text/plain": [
       "Generating test split: 0 examples [00:00, ? examples/s]"
      ]
     },
     "metadata": {},
     "output_type": "display_data"
    },
    {
     "data": {
      "application/vnd.jupyter.widget-view+json": {
       "model_id": "d19d8d7f451a4f758f22e729822b211e",
       "version_major": 2,
       "version_minor": 0
      },
      "text/plain": [
       "Generating validation split: 0 examples [00:00, ? examples/s]"
      ]
     },
     "metadata": {},
     "output_type": "display_data"
    },
    {
     "data": {
      "application/vnd.jupyter.widget-view+json": {
       "model_id": "0a9b564d031c46eba963f4596eb4d2dd",
       "version_major": 2,
       "version_minor": 0
      },
      "text/plain": [
       "Generating dev split: 0 examples [00:00, ? examples/s]"
      ]
     },
     "metadata": {},
     "output_type": "display_data"
    },
    {
     "data": {
      "application/vnd.jupyter.widget-view+json": {
       "model_id": "12bbc8a4ac6c45bb93c9ed8f88ff1e53",
       "version_major": 2,
       "version_minor": 0
      },
      "text/plain": [
       "Generating test split: 0 examples [00:00, ? examples/s]"
      ]
     },
     "metadata": {},
     "output_type": "display_data"
    },
    {
     "data": {
      "application/vnd.jupyter.widget-view+json": {
       "model_id": "87394e9959864f8089467862973d06cc",
       "version_major": 2,
       "version_minor": 0
      },
      "text/plain": [
       "Generating validation split: 0 examples [00:00, ? examples/s]"
      ]
     },
     "metadata": {},
     "output_type": "display_data"
    },
    {
     "data": {
      "application/vnd.jupyter.widget-view+json": {
       "model_id": "13ae838c50334837aff486262e4216db",
       "version_major": 2,
       "version_minor": 0
      },
      "text/plain": [
       "Generating dev split: 0 examples [00:00, ? examples/s]"
      ]
     },
     "metadata": {},
     "output_type": "display_data"
    },
    {
     "data": {
      "application/vnd.jupyter.widget-view+json": {
       "model_id": "3e137f593cef435eb57e35922c2721da",
       "version_major": 2,
       "version_minor": 0
      },
      "text/plain": [
       "Generating test split: 0 examples [00:00, ? examples/s]"
      ]
     },
     "metadata": {},
     "output_type": "display_data"
    },
    {
     "data": {
      "application/vnd.jupyter.widget-view+json": {
       "model_id": "9edaef418993487288d40bac29ecc447",
       "version_major": 2,
       "version_minor": 0
      },
      "text/plain": [
       "Generating validation split: 0 examples [00:00, ? examples/s]"
      ]
     },
     "metadata": {},
     "output_type": "display_data"
    },
    {
     "data": {
      "application/vnd.jupyter.widget-view+json": {
       "model_id": "eaa60653ca004e2da0a31f4fa612ba53",
       "version_major": 2,
       "version_minor": 0
      },
      "text/plain": [
       "Generating dev split: 0 examples [00:00, ? examples/s]"
      ]
     },
     "metadata": {},
     "output_type": "display_data"
    },
    {
     "data": {
      "application/vnd.jupyter.widget-view+json": {
       "model_id": "2462c87edf204fa3b839d728788a3ea7",
       "version_major": 2,
       "version_minor": 0
      },
      "text/plain": [
       "Generating test split: 0 examples [00:00, ? examples/s]"
      ]
     },
     "metadata": {},
     "output_type": "display_data"
    },
    {
     "data": {
      "application/vnd.jupyter.widget-view+json": {
       "model_id": "7db9719d4e7f4c0e8170833797f30c94",
       "version_major": 2,
       "version_minor": 0
      },
      "text/plain": [
       "Generating validation split: 0 examples [00:00, ? examples/s]"
      ]
     },
     "metadata": {},
     "output_type": "display_data"
    },
    {
     "data": {
      "application/vnd.jupyter.widget-view+json": {
       "model_id": "4036a3af2f6f43faabb07f85ed391e5c",
       "version_major": 2,
       "version_minor": 0
      },
      "text/plain": [
       "Generating dev split: 0 examples [00:00, ? examples/s]"
      ]
     },
     "metadata": {},
     "output_type": "display_data"
    },
    {
     "data": {
      "application/vnd.jupyter.widget-view+json": {
       "model_id": "f580476a71de49c2a4c2ff579bc8438d",
       "version_major": 2,
       "version_minor": 0
      },
      "text/plain": [
       "Generating test split: 0 examples [00:00, ? examples/s]"
      ]
     },
     "metadata": {},
     "output_type": "display_data"
    },
    {
     "data": {
      "application/vnd.jupyter.widget-view+json": {
       "model_id": "739b39fe508a4b81aa648ac6d995d676",
       "version_major": 2,
       "version_minor": 0
      },
      "text/plain": [
       "Generating validation split: 0 examples [00:00, ? examples/s]"
      ]
     },
     "metadata": {},
     "output_type": "display_data"
    },
    {
     "data": {
      "application/vnd.jupyter.widget-view+json": {
       "model_id": "8e84d019a21d402f9c0a670dece0861b",
       "version_major": 2,
       "version_minor": 0
      },
      "text/plain": [
       "Generating dev split: 0 examples [00:00, ? examples/s]"
      ]
     },
     "metadata": {},
     "output_type": "display_data"
    },
    {
     "data": {
      "application/vnd.jupyter.widget-view+json": {
       "model_id": "1496afc27ebe42fb8809cbd4e4fe734a",
       "version_major": 2,
       "version_minor": 0
      },
      "text/plain": [
       "Generating test split: 0 examples [00:00, ? examples/s]"
      ]
     },
     "metadata": {},
     "output_type": "display_data"
    },
    {
     "data": {
      "application/vnd.jupyter.widget-view+json": {
       "model_id": "8101a147f2964803a5d513e6b8dacd2c",
       "version_major": 2,
       "version_minor": 0
      },
      "text/plain": [
       "Generating validation split: 0 examples [00:00, ? examples/s]"
      ]
     },
     "metadata": {},
     "output_type": "display_data"
    },
    {
     "data": {
      "application/vnd.jupyter.widget-view+json": {
       "model_id": "899891cc4d1540479af68427c2f149e8",
       "version_major": 2,
       "version_minor": 0
      },
      "text/plain": [
       "Generating dev split: 0 examples [00:00, ? examples/s]"
      ]
     },
     "metadata": {},
     "output_type": "display_data"
    },
    {
     "data": {
      "application/vnd.jupyter.widget-view+json": {
       "model_id": "c9d30119c4ac4e0d9cf444bc74b0705f",
       "version_major": 2,
       "version_minor": 0
      },
      "text/plain": [
       "Generating test split: 0 examples [00:00, ? examples/s]"
      ]
     },
     "metadata": {},
     "output_type": "display_data"
    },
    {
     "data": {
      "application/vnd.jupyter.widget-view+json": {
       "model_id": "d4bc5bada7fb45cf98699ad774309775",
       "version_major": 2,
       "version_minor": 0
      },
      "text/plain": [
       "Generating validation split: 0 examples [00:00, ? examples/s]"
      ]
     },
     "metadata": {},
     "output_type": "display_data"
    },
    {
     "data": {
      "application/vnd.jupyter.widget-view+json": {
       "model_id": "4059cacf240b41c0b115978266e06c6a",
       "version_major": 2,
       "version_minor": 0
      },
      "text/plain": [
       "Generating dev split: 0 examples [00:00, ? examples/s]"
      ]
     },
     "metadata": {},
     "output_type": "display_data"
    },
    {
     "data": {
      "application/vnd.jupyter.widget-view+json": {
       "model_id": "08f8df9cceb640178d37199453f1bdad",
       "version_major": 2,
       "version_minor": 0
      },
      "text/plain": [
       "Generating test split: 0 examples [00:00, ? examples/s]"
      ]
     },
     "metadata": {},
     "output_type": "display_data"
    },
    {
     "data": {
      "application/vnd.jupyter.widget-view+json": {
       "model_id": "d569a0cadb2b4677985fe9d96d84eb96",
       "version_major": 2,
       "version_minor": 0
      },
      "text/plain": [
       "Generating validation split: 0 examples [00:00, ? examples/s]"
      ]
     },
     "metadata": {},
     "output_type": "display_data"
    },
    {
     "data": {
      "application/vnd.jupyter.widget-view+json": {
       "model_id": "2f5c35df90c943b2bd9b45c8e2648cf0",
       "version_major": 2,
       "version_minor": 0
      },
      "text/plain": [
       "Generating dev split: 0 examples [00:00, ? examples/s]"
      ]
     },
     "metadata": {},
     "output_type": "display_data"
    },
    {
     "data": {
      "application/vnd.jupyter.widget-view+json": {
       "model_id": "d1cdd40e8fef4b5db3a4cfcf44543e5e",
       "version_major": 2,
       "version_minor": 0
      },
      "text/plain": [
       "Generating test split: 0 examples [00:00, ? examples/s]"
      ]
     },
     "metadata": {},
     "output_type": "display_data"
    },
    {
     "data": {
      "application/vnd.jupyter.widget-view+json": {
       "model_id": "dbf89b111c474d1f85b0c0e9b913c57a",
       "version_major": 2,
       "version_minor": 0
      },
      "text/plain": [
       "Generating validation split: 0 examples [00:00, ? examples/s]"
      ]
     },
     "metadata": {},
     "output_type": "display_data"
    },
    {
     "data": {
      "application/vnd.jupyter.widget-view+json": {
       "model_id": "2ef0f2ee520c492e97ce88576731ff19",
       "version_major": 2,
       "version_minor": 0
      },
      "text/plain": [
       "Generating dev split: 0 examples [00:00, ? examples/s]"
      ]
     },
     "metadata": {},
     "output_type": "display_data"
    },
    {
     "data": {
      "application/vnd.jupyter.widget-view+json": {
       "model_id": "9591eff2f8744b5fa2511378d793f7b1",
       "version_major": 2,
       "version_minor": 0
      },
      "text/plain": [
       "Generating test split: 0 examples [00:00, ? examples/s]"
      ]
     },
     "metadata": {},
     "output_type": "display_data"
    },
    {
     "data": {
      "application/vnd.jupyter.widget-view+json": {
       "model_id": "7f10c063d2aa4498a1b5cd889f5434ba",
       "version_major": 2,
       "version_minor": 0
      },
      "text/plain": [
       "Generating validation split: 0 examples [00:00, ? examples/s]"
      ]
     },
     "metadata": {},
     "output_type": "display_data"
    },
    {
     "data": {
      "application/vnd.jupyter.widget-view+json": {
       "model_id": "e8f198b65b7c46ae9821476342369555",
       "version_major": 2,
       "version_minor": 0
      },
      "text/plain": [
       "Generating dev split: 0 examples [00:00, ? examples/s]"
      ]
     },
     "metadata": {},
     "output_type": "display_data"
    },
    {
     "data": {
      "application/vnd.jupyter.widget-view+json": {
       "model_id": "7a01829e95fe4e5abbac9d150e8f57fa",
       "version_major": 2,
       "version_minor": 0
      },
      "text/plain": [
       "Generating test split: 0 examples [00:00, ? examples/s]"
      ]
     },
     "metadata": {},
     "output_type": "display_data"
    },
    {
     "data": {
      "application/vnd.jupyter.widget-view+json": {
       "model_id": "6e7035bf70ad4247b833adeaff8c17cb",
       "version_major": 2,
       "version_minor": 0
      },
      "text/plain": [
       "Generating validation split: 0 examples [00:00, ? examples/s]"
      ]
     },
     "metadata": {},
     "output_type": "display_data"
    },
    {
     "data": {
      "application/vnd.jupyter.widget-view+json": {
       "model_id": "43b08365596243729c37f4dc91ee7a00",
       "version_major": 2,
       "version_minor": 0
      },
      "text/plain": [
       "Generating dev split: 0 examples [00:00, ? examples/s]"
      ]
     },
     "metadata": {},
     "output_type": "display_data"
    },
    {
     "data": {
      "application/vnd.jupyter.widget-view+json": {
       "model_id": "fd3a332e8dad4b1bb60d22006633f8fa",
       "version_major": 2,
       "version_minor": 0
      },
      "text/plain": [
       "Generating test split: 0 examples [00:00, ? examples/s]"
      ]
     },
     "metadata": {},
     "output_type": "display_data"
    },
    {
     "data": {
      "application/vnd.jupyter.widget-view+json": {
       "model_id": "caad103594424f0b8be31959c3467b0b",
       "version_major": 2,
       "version_minor": 0
      },
      "text/plain": [
       "Generating validation split: 0 examples [00:00, ? examples/s]"
      ]
     },
     "metadata": {},
     "output_type": "display_data"
    },
    {
     "data": {
      "application/vnd.jupyter.widget-view+json": {
       "model_id": "d3ba1fce893e416d817095bc678df39f",
       "version_major": 2,
       "version_minor": 0
      },
      "text/plain": [
       "Generating dev split: 0 examples [00:00, ? examples/s]"
      ]
     },
     "metadata": {},
     "output_type": "display_data"
    },
    {
     "data": {
      "application/vnd.jupyter.widget-view+json": {
       "model_id": "a6aa16d68387449eb5427f715a0e414e",
       "version_major": 2,
       "version_minor": 0
      },
      "text/plain": [
       "Generating test split: 0 examples [00:00, ? examples/s]"
      ]
     },
     "metadata": {},
     "output_type": "display_data"
    },
    {
     "data": {
      "application/vnd.jupyter.widget-view+json": {
       "model_id": "0dbfd14c141c40fc9b3727bd74c027ef",
       "version_major": 2,
       "version_minor": 0
      },
      "text/plain": [
       "Generating validation split: 0 examples [00:00, ? examples/s]"
      ]
     },
     "metadata": {},
     "output_type": "display_data"
    },
    {
     "data": {
      "application/vnd.jupyter.widget-view+json": {
       "model_id": "dc38578263104e00aa03b4d3fe2c979b",
       "version_major": 2,
       "version_minor": 0
      },
      "text/plain": [
       "Generating dev split: 0 examples [00:00, ? examples/s]"
      ]
     },
     "metadata": {},
     "output_type": "display_data"
    },
    {
     "data": {
      "application/vnd.jupyter.widget-view+json": {
       "model_id": "55557f11362046f4b8e31d8368c1a6d1",
       "version_major": 2,
       "version_minor": 0
      },
      "text/plain": [
       "Generating test split: 0 examples [00:00, ? examples/s]"
      ]
     },
     "metadata": {},
     "output_type": "display_data"
    },
    {
     "data": {
      "application/vnd.jupyter.widget-view+json": {
       "model_id": "3422212f9d0b4b738ed558ef8340d557",
       "version_major": 2,
       "version_minor": 0
      },
      "text/plain": [
       "Generating validation split: 0 examples [00:00, ? examples/s]"
      ]
     },
     "metadata": {},
     "output_type": "display_data"
    },
    {
     "data": {
      "application/vnd.jupyter.widget-view+json": {
       "model_id": "fb584e2ba3904523b98de9cff1fa380d",
       "version_major": 2,
       "version_minor": 0
      },
      "text/plain": [
       "Generating dev split: 0 examples [00:00, ? examples/s]"
      ]
     },
     "metadata": {},
     "output_type": "display_data"
    },
    {
     "data": {
      "application/vnd.jupyter.widget-view+json": {
       "model_id": "e37da20ff7cc40aba616e3152d647d87",
       "version_major": 2,
       "version_minor": 0
      },
      "text/plain": [
       "Generating test split: 0 examples [00:00, ? examples/s]"
      ]
     },
     "metadata": {},
     "output_type": "display_data"
    },
    {
     "data": {
      "application/vnd.jupyter.widget-view+json": {
       "model_id": "54d9d7d53c084435a8d7d0187f0d3d23",
       "version_major": 2,
       "version_minor": 0
      },
      "text/plain": [
       "Generating validation split: 0 examples [00:00, ? examples/s]"
      ]
     },
     "metadata": {},
     "output_type": "display_data"
    },
    {
     "data": {
      "application/vnd.jupyter.widget-view+json": {
       "model_id": "bbb73733dc6245be82d0ef3b159f4879",
       "version_major": 2,
       "version_minor": 0
      },
      "text/plain": [
       "Generating dev split: 0 examples [00:00, ? examples/s]"
      ]
     },
     "metadata": {},
     "output_type": "display_data"
    },
    {
     "data": {
      "application/vnd.jupyter.widget-view+json": {
       "model_id": "cb0514967a504f9d8535b288a2f8a776",
       "version_major": 2,
       "version_minor": 0
      },
      "text/plain": [
       "Generating test split: 0 examples [00:00, ? examples/s]"
      ]
     },
     "metadata": {},
     "output_type": "display_data"
    },
    {
     "data": {
      "application/vnd.jupyter.widget-view+json": {
       "model_id": "6610fd81afd049efac88a20fcd80cce6",
       "version_major": 2,
       "version_minor": 0
      },
      "text/plain": [
       "Generating validation split: 0 examples [00:00, ? examples/s]"
      ]
     },
     "metadata": {},
     "output_type": "display_data"
    },
    {
     "data": {
      "application/vnd.jupyter.widget-view+json": {
       "model_id": "4585c5c5625a4b8988efc2ad5604a163",
       "version_major": 2,
       "version_minor": 0
      },
      "text/plain": [
       "Generating dev split: 0 examples [00:00, ? examples/s]"
      ]
     },
     "metadata": {},
     "output_type": "display_data"
    },
    {
     "data": {
      "application/vnd.jupyter.widget-view+json": {
       "model_id": "4ff4cd725877428ead4898b8c591cfe6",
       "version_major": 2,
       "version_minor": 0
      },
      "text/plain": [
       "Generating test split: 0 examples [00:00, ? examples/s]"
      ]
     },
     "metadata": {},
     "output_type": "display_data"
    },
    {
     "data": {
      "application/vnd.jupyter.widget-view+json": {
       "model_id": "2ea7fc1c5bbe4012a75d5cb4935f6968",
       "version_major": 2,
       "version_minor": 0
      },
      "text/plain": [
       "Generating validation split: 0 examples [00:00, ? examples/s]"
      ]
     },
     "metadata": {},
     "output_type": "display_data"
    },
    {
     "data": {
      "application/vnd.jupyter.widget-view+json": {
       "model_id": "57a6e225f9504f3fb715621ccb5b67db",
       "version_major": 2,
       "version_minor": 0
      },
      "text/plain": [
       "Generating dev split: 0 examples [00:00, ? examples/s]"
      ]
     },
     "metadata": {},
     "output_type": "display_data"
    },
    {
     "data": {
      "application/vnd.jupyter.widget-view+json": {
       "model_id": "5b9e8d02fde340c49fda26908ea6a76f",
       "version_major": 2,
       "version_minor": 0
      },
      "text/plain": [
       "Generating test split: 0 examples [00:00, ? examples/s]"
      ]
     },
     "metadata": {},
     "output_type": "display_data"
    },
    {
     "data": {
      "application/vnd.jupyter.widget-view+json": {
       "model_id": "2c4a606e16f74e718d079fc9677db78f",
       "version_major": 2,
       "version_minor": 0
      },
      "text/plain": [
       "Generating validation split: 0 examples [00:00, ? examples/s]"
      ]
     },
     "metadata": {},
     "output_type": "display_data"
    },
    {
     "data": {
      "application/vnd.jupyter.widget-view+json": {
       "model_id": "d76f12b892e749ca9f1b93a77a38a8cf",
       "version_major": 2,
       "version_minor": 0
      },
      "text/plain": [
       "Generating dev split: 0 examples [00:00, ? examples/s]"
      ]
     },
     "metadata": {},
     "output_type": "display_data"
    },
    {
     "data": {
      "application/vnd.jupyter.widget-view+json": {
       "model_id": "d0825053fe2a4ae89b97ae60d69f39b9",
       "version_major": 2,
       "version_minor": 0
      },
      "text/plain": [
       "Generating test split: 0 examples [00:00, ? examples/s]"
      ]
     },
     "metadata": {},
     "output_type": "display_data"
    },
    {
     "data": {
      "application/vnd.jupyter.widget-view+json": {
       "model_id": "4477933832624f7d840bf78a17746533",
       "version_major": 2,
       "version_minor": 0
      },
      "text/plain": [
       "Generating validation split: 0 examples [00:00, ? examples/s]"
      ]
     },
     "metadata": {},
     "output_type": "display_data"
    },
    {
     "data": {
      "application/vnd.jupyter.widget-view+json": {
       "model_id": "5cda05082baa479c9d5256c9bb9f89d1",
       "version_major": 2,
       "version_minor": 0
      },
      "text/plain": [
       "Generating dev split: 0 examples [00:00, ? examples/s]"
      ]
     },
     "metadata": {},
     "output_type": "display_data"
    },
    {
     "data": {
      "application/vnd.jupyter.widget-view+json": {
       "model_id": "59a23e8505164f5982318a20c2bf381e",
       "version_major": 2,
       "version_minor": 0
      },
      "text/plain": [
       "Generating test split: 0 examples [00:00, ? examples/s]"
      ]
     },
     "metadata": {},
     "output_type": "display_data"
    },
    {
     "data": {
      "application/vnd.jupyter.widget-view+json": {
       "model_id": "9628384911c648e5a34fde5d83ebc5a1",
       "version_major": 2,
       "version_minor": 0
      },
      "text/plain": [
       "Generating validation split: 0 examples [00:00, ? examples/s]"
      ]
     },
     "metadata": {},
     "output_type": "display_data"
    },
    {
     "data": {
      "application/vnd.jupyter.widget-view+json": {
       "model_id": "f96c5b9ca17e4016a11267060390c417",
       "version_major": 2,
       "version_minor": 0
      },
      "text/plain": [
       "Generating dev split: 0 examples [00:00, ? examples/s]"
      ]
     },
     "metadata": {},
     "output_type": "display_data"
    },
    {
     "data": {
      "application/vnd.jupyter.widget-view+json": {
       "model_id": "c968d0ebf464411e957df6476693322e",
       "version_major": 2,
       "version_minor": 0
      },
      "text/plain": [
       "Generating test split: 0 examples [00:00, ? examples/s]"
      ]
     },
     "metadata": {},
     "output_type": "display_data"
    },
    {
     "data": {
      "application/vnd.jupyter.widget-view+json": {
       "model_id": "6074b3f04aaf4cd69842008b0dd92370",
       "version_major": 2,
       "version_minor": 0
      },
      "text/plain": [
       "Generating validation split: 0 examples [00:00, ? examples/s]"
      ]
     },
     "metadata": {},
     "output_type": "display_data"
    },
    {
     "data": {
      "application/vnd.jupyter.widget-view+json": {
       "model_id": "a6f1fffb7f0140e4a4038fdc7a3d26c7",
       "version_major": 2,
       "version_minor": 0
      },
      "text/plain": [
       "Generating dev split: 0 examples [00:00, ? examples/s]"
      ]
     },
     "metadata": {},
     "output_type": "display_data"
    },
    {
     "data": {
      "application/vnd.jupyter.widget-view+json": {
       "model_id": "0449868676fd478398345b7bdaa32a23",
       "version_major": 2,
       "version_minor": 0
      },
      "text/plain": [
       "Generating test split: 0 examples [00:00, ? examples/s]"
      ]
     },
     "metadata": {},
     "output_type": "display_data"
    },
    {
     "data": {
      "application/vnd.jupyter.widget-view+json": {
       "model_id": "f972cfadb3734866a4727e7969a570cd",
       "version_major": 2,
       "version_minor": 0
      },
      "text/plain": [
       "Generating validation split: 0 examples [00:00, ? examples/s]"
      ]
     },
     "metadata": {},
     "output_type": "display_data"
    },
    {
     "data": {
      "application/vnd.jupyter.widget-view+json": {
       "model_id": "a0809ec5ef0e485a86c77d09e19646c2",
       "version_major": 2,
       "version_minor": 0
      },
      "text/plain": [
       "Generating dev split: 0 examples [00:00, ? examples/s]"
      ]
     },
     "metadata": {},
     "output_type": "display_data"
    },
    {
     "data": {
      "application/vnd.jupyter.widget-view+json": {
       "model_id": "bcb0e8c15a7f46dca9900c18004e6605",
       "version_major": 2,
       "version_minor": 0
      },
      "text/plain": [
       "Generating test split: 0 examples [00:00, ? examples/s]"
      ]
     },
     "metadata": {},
     "output_type": "display_data"
    },
    {
     "data": {
      "application/vnd.jupyter.widget-view+json": {
       "model_id": "8b85c3d97f1d481b9b8c9c1c5657feb4",
       "version_major": 2,
       "version_minor": 0
      },
      "text/plain": [
       "Generating validation split: 0 examples [00:00, ? examples/s]"
      ]
     },
     "metadata": {},
     "output_type": "display_data"
    },
    {
     "data": {
      "application/vnd.jupyter.widget-view+json": {
       "model_id": "21bc70ba95a44fdcb6a42fa691a7a50c",
       "version_major": 2,
       "version_minor": 0
      },
      "text/plain": [
       "Generating dev split: 0 examples [00:00, ? examples/s]"
      ]
     },
     "metadata": {},
     "output_type": "display_data"
    },
    {
     "data": {
      "application/vnd.jupyter.widget-view+json": {
       "model_id": "9f6c3da3e9684d2681b08c23cdca9169",
       "version_major": 2,
       "version_minor": 0
      },
      "text/plain": [
       "Generating test split: 0 examples [00:00, ? examples/s]"
      ]
     },
     "metadata": {},
     "output_type": "display_data"
    },
    {
     "data": {
      "application/vnd.jupyter.widget-view+json": {
       "model_id": "973a4281a33b434ebe35eb0697fc8cb0",
       "version_major": 2,
       "version_minor": 0
      },
      "text/plain": [
       "Generating validation split: 0 examples [00:00, ? examples/s]"
      ]
     },
     "metadata": {},
     "output_type": "display_data"
    },
    {
     "data": {
      "application/vnd.jupyter.widget-view+json": {
       "model_id": "ffeccbd11125439d9397715f7c0b09df",
       "version_major": 2,
       "version_minor": 0
      },
      "text/plain": [
       "Generating dev split: 0 examples [00:00, ? examples/s]"
      ]
     },
     "metadata": {},
     "output_type": "display_data"
    },
    {
     "data": {
      "application/vnd.jupyter.widget-view+json": {
       "model_id": "1f9afdb181fe4e30acf2aeff42a93150",
       "version_major": 2,
       "version_minor": 0
      },
      "text/plain": [
       "Generating test split: 0 examples [00:00, ? examples/s]"
      ]
     },
     "metadata": {},
     "output_type": "display_data"
    },
    {
     "data": {
      "application/vnd.jupyter.widget-view+json": {
       "model_id": "b95c0655892c4b8dae90d74ae1936200",
       "version_major": 2,
       "version_minor": 0
      },
      "text/plain": [
       "Generating validation split: 0 examples [00:00, ? examples/s]"
      ]
     },
     "metadata": {},
     "output_type": "display_data"
    },
    {
     "data": {
      "application/vnd.jupyter.widget-view+json": {
       "model_id": "2ece42b2db5749f8979f2a738ee811aa",
       "version_major": 2,
       "version_minor": 0
      },
      "text/plain": [
       "Generating dev split: 0 examples [00:00, ? examples/s]"
      ]
     },
     "metadata": {},
     "output_type": "display_data"
    },
    {
     "data": {
      "application/vnd.jupyter.widget-view+json": {
       "model_id": "6f864b1a5ffc49e79174a5cb94be03e9",
       "version_major": 2,
       "version_minor": 0
      },
      "text/plain": [
       "Generating test split: 0 examples [00:00, ? examples/s]"
      ]
     },
     "metadata": {},
     "output_type": "display_data"
    },
    {
     "data": {
      "application/vnd.jupyter.widget-view+json": {
       "model_id": "cd6d4a0cd83f455aaf568e6618e1a42c",
       "version_major": 2,
       "version_minor": 0
      },
      "text/plain": [
       "Generating validation split: 0 examples [00:00, ? examples/s]"
      ]
     },
     "metadata": {},
     "output_type": "display_data"
    },
    {
     "data": {
      "application/vnd.jupyter.widget-view+json": {
       "model_id": "8ef9a131470a4115a897abdfff105d47",
       "version_major": 2,
       "version_minor": 0
      },
      "text/plain": [
       "Generating dev split: 0 examples [00:00, ? examples/s]"
      ]
     },
     "metadata": {},
     "output_type": "display_data"
    },
    {
     "data": {
      "application/vnd.jupyter.widget-view+json": {
       "model_id": "c1d7327c8de94c0cbf2daafedf80bbb2",
       "version_major": 2,
       "version_minor": 0
      },
      "text/plain": [
       "Generating test split: 0 examples [00:00, ? examples/s]"
      ]
     },
     "metadata": {},
     "output_type": "display_data"
    },
    {
     "data": {
      "application/vnd.jupyter.widget-view+json": {
       "model_id": "3693ee9ac9ed4412be3357e6ef88774c",
       "version_major": 2,
       "version_minor": 0
      },
      "text/plain": [
       "Generating validation split: 0 examples [00:00, ? examples/s]"
      ]
     },
     "metadata": {},
     "output_type": "display_data"
    },
    {
     "data": {
      "application/vnd.jupyter.widget-view+json": {
       "model_id": "373cb4bfab6c466c8350c117a31c33ab",
       "version_major": 2,
       "version_minor": 0
      },
      "text/plain": [
       "Generating dev split: 0 examples [00:00, ? examples/s]"
      ]
     },
     "metadata": {},
     "output_type": "display_data"
    },
    {
     "data": {
      "application/vnd.jupyter.widget-view+json": {
       "model_id": "0d1b5bfd2d75440f82ea69d512b48eee",
       "version_major": 2,
       "version_minor": 0
      },
      "text/plain": [
       "Generating test split: 0 examples [00:00, ? examples/s]"
      ]
     },
     "metadata": {},
     "output_type": "display_data"
    },
    {
     "data": {
      "application/vnd.jupyter.widget-view+json": {
       "model_id": "df1bbb8c0d7341708c3c72c549f3c070",
       "version_major": 2,
       "version_minor": 0
      },
      "text/plain": [
       "Generating validation split: 0 examples [00:00, ? examples/s]"
      ]
     },
     "metadata": {},
     "output_type": "display_data"
    },
    {
     "data": {
      "application/vnd.jupyter.widget-view+json": {
       "model_id": "4b4a16a1fe3645208e62b62b3cffcb29",
       "version_major": 2,
       "version_minor": 0
      },
      "text/plain": [
       "Generating dev split: 0 examples [00:00, ? examples/s]"
      ]
     },
     "metadata": {},
     "output_type": "display_data"
    },
    {
     "data": {
      "application/vnd.jupyter.widget-view+json": {
       "model_id": "b6dea9b7e27b4aafb976313208dede02",
       "version_major": 2,
       "version_minor": 0
      },
      "text/plain": [
       "Generating test split: 0 examples [00:00, ? examples/s]"
      ]
     },
     "metadata": {},
     "output_type": "display_data"
    },
    {
     "data": {
      "application/vnd.jupyter.widget-view+json": {
       "model_id": "ec7f43388dcf4899a41dc0cfe8282aac",
       "version_major": 2,
       "version_minor": 0
      },
      "text/plain": [
       "Generating validation split: 0 examples [00:00, ? examples/s]"
      ]
     },
     "metadata": {},
     "output_type": "display_data"
    },
    {
     "data": {
      "application/vnd.jupyter.widget-view+json": {
       "model_id": "98a5b3589e924984b810f1f03275db0f",
       "version_major": 2,
       "version_minor": 0
      },
      "text/plain": [
       "Generating dev split: 0 examples [00:00, ? examples/s]"
      ]
     },
     "metadata": {},
     "output_type": "display_data"
    },
    {
     "data": {
      "application/vnd.jupyter.widget-view+json": {
       "model_id": "2ccfacc939644c1592479dcfb5d36d53",
       "version_major": 2,
       "version_minor": 0
      },
      "text/plain": [
       "Generating test split: 0 examples [00:00, ? examples/s]"
      ]
     },
     "metadata": {},
     "output_type": "display_data"
    },
    {
     "data": {
      "application/vnd.jupyter.widget-view+json": {
       "model_id": "3f7580f504fe47f29337500e954a6e11",
       "version_major": 2,
       "version_minor": 0
      },
      "text/plain": [
       "Generating validation split: 0 examples [00:00, ? examples/s]"
      ]
     },
     "metadata": {},
     "output_type": "display_data"
    },
    {
     "data": {
      "application/vnd.jupyter.widget-view+json": {
       "model_id": "6972785aeae8496a9a5919bbf9b86a21",
       "version_major": 2,
       "version_minor": 0
      },
      "text/plain": [
       "Generating dev split: 0 examples [00:00, ? examples/s]"
      ]
     },
     "metadata": {},
     "output_type": "display_data"
    },
    {
     "data": {
      "application/vnd.jupyter.widget-view+json": {
       "model_id": "7aa5c8e548054c50aa2282776748906a",
       "version_major": 2,
       "version_minor": 0
      },
      "text/plain": [
       "Generating test split: 0 examples [00:00, ? examples/s]"
      ]
     },
     "metadata": {},
     "output_type": "display_data"
    },
    {
     "data": {
      "application/vnd.jupyter.widget-view+json": {
       "model_id": "505ba7e92cac4308be6056ecf7384f8c",
       "version_major": 2,
       "version_minor": 0
      },
      "text/plain": [
       "Generating validation split: 0 examples [00:00, ? examples/s]"
      ]
     },
     "metadata": {},
     "output_type": "display_data"
    },
    {
     "data": {
      "application/vnd.jupyter.widget-view+json": {
       "model_id": "a2685676684f4c1da297dc3d91627cd8",
       "version_major": 2,
       "version_minor": 0
      },
      "text/plain": [
       "Generating dev split: 0 examples [00:00, ? examples/s]"
      ]
     },
     "metadata": {},
     "output_type": "display_data"
    },
    {
     "data": {
      "application/vnd.jupyter.widget-view+json": {
       "model_id": "485abe4789be42beaffe5643d92720bf",
       "version_major": 2,
       "version_minor": 0
      },
      "text/plain": [
       "Generating test split: 0 examples [00:00, ? examples/s]"
      ]
     },
     "metadata": {},
     "output_type": "display_data"
    },
    {
     "data": {
      "application/vnd.jupyter.widget-view+json": {
       "model_id": "cc8d8695aad94f28b8aeef49201698b3",
       "version_major": 2,
       "version_minor": 0
      },
      "text/plain": [
       "Generating validation split: 0 examples [00:00, ? examples/s]"
      ]
     },
     "metadata": {},
     "output_type": "display_data"
    },
    {
     "data": {
      "application/vnd.jupyter.widget-view+json": {
       "model_id": "1854675338504baba9eae9ec5295acbc",
       "version_major": 2,
       "version_minor": 0
      },
      "text/plain": [
       "Generating dev split: 0 examples [00:00, ? examples/s]"
      ]
     },
     "metadata": {},
     "output_type": "display_data"
    },
    {
     "data": {
      "application/vnd.jupyter.widget-view+json": {
       "model_id": "e611a07da14148acb46bd719195c73d4",
       "version_major": 2,
       "version_minor": 0
      },
      "text/plain": [
       "Generating test split: 0 examples [00:00, ? examples/s]"
      ]
     },
     "metadata": {},
     "output_type": "display_data"
    },
    {
     "data": {
      "application/vnd.jupyter.widget-view+json": {
       "model_id": "dcad4c438d904b61845c6e627fbceac4",
       "version_major": 2,
       "version_minor": 0
      },
      "text/plain": [
       "Generating validation split: 0 examples [00:00, ? examples/s]"
      ]
     },
     "metadata": {},
     "output_type": "display_data"
    },
    {
     "data": {
      "application/vnd.jupyter.widget-view+json": {
       "model_id": "161d0a14b4a642efa3e81da0fddc6d97",
       "version_major": 2,
       "version_minor": 0
      },
      "text/plain": [
       "Generating dev split: 0 examples [00:00, ? examples/s]"
      ]
     },
     "metadata": {},
     "output_type": "display_data"
    },
    {
     "data": {
      "application/vnd.jupyter.widget-view+json": {
       "model_id": "36dbec319f1b4658aba1f30a9d227ad2",
       "version_major": 2,
       "version_minor": 0
      },
      "text/plain": [
       "Generating test split: 0 examples [00:00, ? examples/s]"
      ]
     },
     "metadata": {},
     "output_type": "display_data"
    },
    {
     "data": {
      "application/vnd.jupyter.widget-view+json": {
       "model_id": "531489a5f9ec444ebe972748845cd5cc",
       "version_major": 2,
       "version_minor": 0
      },
      "text/plain": [
       "Generating validation split: 0 examples [00:00, ? examples/s]"
      ]
     },
     "metadata": {},
     "output_type": "display_data"
    },
    {
     "data": {
      "application/vnd.jupyter.widget-view+json": {
       "model_id": "903047d44d8f406294441789478b50c0",
       "version_major": 2,
       "version_minor": 0
      },
      "text/plain": [
       "Generating dev split: 0 examples [00:00, ? examples/s]"
      ]
     },
     "metadata": {},
     "output_type": "display_data"
    },
    {
     "data": {
      "application/vnd.jupyter.widget-view+json": {
       "model_id": "304550fe9e61450285efa826c7d71c81",
       "version_major": 2,
       "version_minor": 0
      },
      "text/plain": [
       "Generating test split: 0 examples [00:00, ? examples/s]"
      ]
     },
     "metadata": {},
     "output_type": "display_data"
    },
    {
     "data": {
      "application/vnd.jupyter.widget-view+json": {
       "model_id": "476d8fd209b64b8888304d9faf5ed55c",
       "version_major": 2,
       "version_minor": 0
      },
      "text/plain": [
       "Generating validation split: 0 examples [00:00, ? examples/s]"
      ]
     },
     "metadata": {},
     "output_type": "display_data"
    },
    {
     "data": {
      "application/vnd.jupyter.widget-view+json": {
       "model_id": "d09bd04d921c43d6b1fa480a5246cf20",
       "version_major": 2,
       "version_minor": 0
      },
      "text/plain": [
       "Generating dev split: 0 examples [00:00, ? examples/s]"
      ]
     },
     "metadata": {},
     "output_type": "display_data"
    },
    {
     "data": {
      "application/vnd.jupyter.widget-view+json": {
       "model_id": "d9b6993602d7407790e4c431e0108eb5",
       "version_major": 2,
       "version_minor": 0
      },
      "text/plain": [
       "Generating test split: 0 examples [00:00, ? examples/s]"
      ]
     },
     "metadata": {},
     "output_type": "display_data"
    },
    {
     "data": {
      "application/vnd.jupyter.widget-view+json": {
       "model_id": "c7e645cc7ceb4128ae36c8cf1323fa23",
       "version_major": 2,
       "version_minor": 0
      },
      "text/plain": [
       "Generating validation split: 0 examples [00:00, ? examples/s]"
      ]
     },
     "metadata": {},
     "output_type": "display_data"
    },
    {
     "data": {
      "application/vnd.jupyter.widget-view+json": {
       "model_id": "9fb5a337a7894740b03f6ff5acf44ce0",
       "version_major": 2,
       "version_minor": 0
      },
      "text/plain": [
       "Generating dev split: 0 examples [00:00, ? examples/s]"
      ]
     },
     "metadata": {},
     "output_type": "display_data"
    },
    {
     "data": {
      "application/vnd.jupyter.widget-view+json": {
       "model_id": "e5aec7d0819c4b8681863081e812e9f0",
       "version_major": 2,
       "version_minor": 0
      },
      "text/plain": [
       "Generating test split: 0 examples [00:00, ? examples/s]"
      ]
     },
     "metadata": {},
     "output_type": "display_data"
    },
    {
     "data": {
      "application/vnd.jupyter.widget-view+json": {
       "model_id": "17d20a0a52c243909b884efea6c96df4",
       "version_major": 2,
       "version_minor": 0
      },
      "text/plain": [
       "Generating validation split: 0 examples [00:00, ? examples/s]"
      ]
     },
     "metadata": {},
     "output_type": "display_data"
    },
    {
     "data": {
      "application/vnd.jupyter.widget-view+json": {
       "model_id": "3ee0d241952348b59905b16cff594327",
       "version_major": 2,
       "version_minor": 0
      },
      "text/plain": [
       "Generating dev split: 0 examples [00:00, ? examples/s]"
      ]
     },
     "metadata": {},
     "output_type": "display_data"
    },
    {
     "data": {
      "application/vnd.jupyter.widget-view+json": {
       "model_id": "3aa8ce07ddfd48c68c38b1650c502067",
       "version_major": 2,
       "version_minor": 0
      },
      "text/plain": [
       "Generating test split: 0 examples [00:00, ? examples/s]"
      ]
     },
     "metadata": {},
     "output_type": "display_data"
    },
    {
     "data": {
      "application/vnd.jupyter.widget-view+json": {
       "model_id": "e630d797dcc045b9810261366cc3af05",
       "version_major": 2,
       "version_minor": 0
      },
      "text/plain": [
       "Generating validation split: 0 examples [00:00, ? examples/s]"
      ]
     },
     "metadata": {},
     "output_type": "display_data"
    },
    {
     "data": {
      "application/vnd.jupyter.widget-view+json": {
       "model_id": "6fee487ab0c640659157f40fd8cff4c3",
       "version_major": 2,
       "version_minor": 0
      },
      "text/plain": [
       "Generating dev split: 0 examples [00:00, ? examples/s]"
      ]
     },
     "metadata": {},
     "output_type": "display_data"
    },
    {
     "data": {
      "application/vnd.jupyter.widget-view+json": {
       "model_id": "d518cc0b05b34ffd9ffda2eb55f07513",
       "version_major": 2,
       "version_minor": 0
      },
      "text/plain": [
       "Generating test split: 0 examples [00:00, ? examples/s]"
      ]
     },
     "metadata": {},
     "output_type": "display_data"
    },
    {
     "data": {
      "application/vnd.jupyter.widget-view+json": {
       "model_id": "6ed6c54679dd40c890174a945fe5fa53",
       "version_major": 2,
       "version_minor": 0
      },
      "text/plain": [
       "Generating validation split: 0 examples [00:00, ? examples/s]"
      ]
     },
     "metadata": {},
     "output_type": "display_data"
    },
    {
     "data": {
      "application/vnd.jupyter.widget-view+json": {
       "model_id": "427ff04af29d40f5b2c87be0759e4cc2",
       "version_major": 2,
       "version_minor": 0
      },
      "text/plain": [
       "Generating dev split: 0 examples [00:00, ? examples/s]"
      ]
     },
     "metadata": {},
     "output_type": "display_data"
    },
    {
     "data": {
      "application/vnd.jupyter.widget-view+json": {
       "model_id": "55ddf78feb7f43a6892e96bb60ee8250",
       "version_major": 2,
       "version_minor": 0
      },
      "text/plain": [
       "README.md:   0%|          | 0.00/9.97k [00:00<?, ?B/s]"
      ]
     },
     "metadata": {},
     "output_type": "display_data"
    },
    {
     "data": {
      "application/vnd.jupyter.widget-view+json": {
       "model_id": "c1d450e03ece4a5b9cac52c68e8e53e5",
       "version_major": 2,
       "version_minor": 0
      },
      "text/plain": [
       "winogrande.py:   0%|          | 0.00/5.65k [00:00<?, ?B/s]"
      ]
     },
     "metadata": {},
     "output_type": "display_data"
    },
    {
     "data": {
      "application/vnd.jupyter.widget-view+json": {
       "model_id": "aa432f7e92974874887d160be86d669b",
       "version_major": 2,
       "version_minor": 0
      },
      "text/plain": [
       "Downloading data:   0%|          | 0.00/3.40M [00:00<?, ?B/s]"
      ]
     },
     "metadata": {},
     "output_type": "display_data"
    },
    {
     "data": {
      "application/vnd.jupyter.widget-view+json": {
       "model_id": "1662f52d726b4957985bfbc287f8532a",
       "version_major": 2,
       "version_minor": 0
      },
      "text/plain": [
       "Generating train split:   0%|          | 0/40398 [00:00<?, ? examples/s]"
      ]
     },
     "metadata": {},
     "output_type": "display_data"
    },
    {
     "data": {
      "application/vnd.jupyter.widget-view+json": {
       "model_id": "05801a8625c24d5bab616e0ea37303a3",
       "version_major": 2,
       "version_minor": 0
      },
      "text/plain": [
       "Generating test split:   0%|          | 0/1767 [00:00<?, ? examples/s]"
      ]
     },
     "metadata": {},
     "output_type": "display_data"
    },
    {
     "data": {
      "application/vnd.jupyter.widget-view+json": {
       "model_id": "b8f40923970c4aeca2f5bedca9277b42",
       "version_major": 2,
       "version_minor": 0
      },
      "text/plain": [
       "Generating validation split:   0%|          | 0/1267 [00:00<?, ? examples/s]"
      ]
     },
     "metadata": {},
     "output_type": "display_data"
    },
    {
     "data": {
      "application/vnd.jupyter.widget-view+json": {
       "model_id": "0613086e2257413dbecf640e3a6ec77a",
       "version_major": 2,
       "version_minor": 0
      },
      "text/plain": [
       "README.md:   0%|          | 0.00/6.84k [00:00<?, ?B/s]"
      ]
     },
     "metadata": {},
     "output_type": "display_data"
    },
    {
     "data": {
      "application/vnd.jupyter.widget-view+json": {
       "model_id": "56834e98565f4b6b84baa75b41420b02",
       "version_major": 2,
       "version_minor": 0
      },
      "text/plain": [
       "hellaswag.py:   0%|          | 0.00/4.36k [00:00<?, ?B/s]"
      ]
     },
     "metadata": {},
     "output_type": "display_data"
    },
    {
     "data": {
      "application/vnd.jupyter.widget-view+json": {
       "model_id": "29aa9787ba1741499493634b7e35d65f",
       "version_major": 2,
       "version_minor": 0
      },
      "text/plain": [
       "dataset_infos.json:   0%|          | 0.00/2.53k [00:00<?, ?B/s]"
      ]
     },
     "metadata": {},
     "output_type": "display_data"
    },
    {
     "data": {
      "application/vnd.jupyter.widget-view+json": {
       "model_id": "7724315b07ae424c938328a7a8a96889",
       "version_major": 2,
       "version_minor": 0
      },
      "text/plain": [
       "Downloading data:   0%|          | 0.00/47.5M [00:00<?, ?B/s]"
      ]
     },
     "metadata": {},
     "output_type": "display_data"
    },
    {
     "data": {
      "application/vnd.jupyter.widget-view+json": {
       "model_id": "c03e819ffc2a49729f6647b3e1d7f363",
       "version_major": 2,
       "version_minor": 0
      },
      "text/plain": [
       "Downloading data:   0%|          | 0.00/11.8M [00:00<?, ?B/s]"
      ]
     },
     "metadata": {},
     "output_type": "display_data"
    },
    {
     "data": {
      "application/vnd.jupyter.widget-view+json": {
       "model_id": "888f20d944e64d77b858c32811826635",
       "version_major": 2,
       "version_minor": 0
      },
      "text/plain": [
       "Downloading data:   0%|          | 0.00/12.2M [00:00<?, ?B/s]"
      ]
     },
     "metadata": {},
     "output_type": "display_data"
    },
    {
     "data": {
      "application/vnd.jupyter.widget-view+json": {
       "model_id": "79c1720a42514ba8a3cdc3d88962a34c",
       "version_major": 2,
       "version_minor": 0
      },
      "text/plain": [
       "Generating train split:   0%|          | 0/39905 [00:00<?, ? examples/s]"
      ]
     },
     "metadata": {},
     "output_type": "display_data"
    },
    {
     "data": {
      "application/vnd.jupyter.widget-view+json": {
       "model_id": "bf2d34362f6d435f8d24c74f5fb99ea7",
       "version_major": 2,
       "version_minor": 0
      },
      "text/plain": [
       "Generating test split:   0%|          | 0/10003 [00:00<?, ? examples/s]"
      ]
     },
     "metadata": {},
     "output_type": "display_data"
    },
    {
     "data": {
      "application/vnd.jupyter.widget-view+json": {
       "model_id": "db406059ccf2483b99b81c56f0fb40cc",
       "version_major": 2,
       "version_minor": 0
      },
      "text/plain": [
       "Generating validation split:   0%|          | 0/10042 [00:00<?, ? examples/s]"
      ]
     },
     "metadata": {},
     "output_type": "display_data"
    },
    {
     "data": {
      "application/vnd.jupyter.widget-view+json": {
       "model_id": "aaff110f9bf54803b1fde5cd1139f3fd",
       "version_major": 2,
       "version_minor": 0
      },
      "text/plain": [
       "Map:   0%|          | 0/39905 [00:00<?, ? examples/s]"
      ]
     },
     "metadata": {},
     "output_type": "display_data"
    },
    {
     "data": {
      "application/vnd.jupyter.widget-view+json": {
       "model_id": "2a219ed562e4432f88876a59079de281",
       "version_major": 2,
       "version_minor": 0
      },
      "text/plain": [
       "Map:   0%|          | 0/10042 [00:00<?, ? examples/s]"
      ]
     },
     "metadata": {},
     "output_type": "display_data"
    },
    {
     "data": {
      "application/vnd.jupyter.widget-view+json": {
       "model_id": "3192eb4a7510422e903581a2e1586cda",
       "version_major": 2,
       "version_minor": 0
      },
      "text/plain": [
       "README.md:   0%|          | 0.00/7.32k [00:00<?, ?B/s]"
      ]
     },
     "metadata": {},
     "output_type": "display_data"
    },
    {
     "data": {
      "application/vnd.jupyter.widget-view+json": {
       "model_id": "25fce32ff3014237affa93a4eb09b961",
       "version_major": 2,
       "version_minor": 0
      },
      "text/plain": [
       "train-00000-of-00002.parquet:   0%|          | 0.00/269M [00:00<?, ?B/s]"
      ]
     },
     "metadata": {},
     "output_type": "display_data"
    },
    {
     "data": {
      "application/vnd.jupyter.widget-view+json": {
       "model_id": "84310816ed834b2c975f86bba088afa5",
       "version_major": 2,
       "version_minor": 0
      },
      "text/plain": [
       "train-00001-of-00002.parquet:   0%|          | 0.00/281M [00:00<?, ?B/s]"
      ]
     },
     "metadata": {},
     "output_type": "display_data"
    },
    {
     "data": {
      "application/vnd.jupyter.widget-view+json": {
       "model_id": "74e6df257c0c489287f2da0fe220450e",
       "version_major": 2,
       "version_minor": 0
      },
      "text/plain": [
       "test-00000-of-00001.parquet:   0%|          | 0.00/1.14M [00:00<?, ?B/s]"
      ]
     },
     "metadata": {},
     "output_type": "display_data"
    },
    {
     "data": {
      "application/vnd.jupyter.widget-view+json": {
       "model_id": "89199d9565934936bc0e43f739c4438b",
       "version_major": 2,
       "version_minor": 0
      },
      "text/plain": [
       "validation-00000-of-00001.parquet:   0%|          | 0.00/1.08M [00:00<?, ?B/s]"
      ]
     },
     "metadata": {},
     "output_type": "display_data"
    },
    {
     "data": {
      "application/vnd.jupyter.widget-view+json": {
       "model_id": "58cd2b3ae41f4e1e852513c920a10c14",
       "version_major": 2,
       "version_minor": 0
      },
      "text/plain": [
       "Generating train split:   0%|          | 0/2662 [00:00<?, ? examples/s]"
      ]
     },
     "metadata": {},
     "output_type": "display_data"
    },
    {
     "data": {
      "application/vnd.jupyter.widget-view+json": {
       "model_id": "158f15b276c842dc8ae4c33f69d4c31d",
       "version_major": 2,
       "version_minor": 0
      },
      "text/plain": [
       "Generating test split:   0%|          | 0/5153 [00:00<?, ? examples/s]"
      ]
     },
     "metadata": {},
     "output_type": "display_data"
    },
    {
     "data": {
      "application/vnd.jupyter.widget-view+json": {
       "model_id": "ed2545d7f1ed45549143cabcc404465d",
       "version_major": 2,
       "version_minor": 0
      },
      "text/plain": [
       "Generating validation split:   0%|          | 0/4869 [00:00<?, ? examples/s]"
      ]
     },
     "metadata": {},
     "output_type": "display_data"
    },
    {
     "data": {
      "application/vnd.jupyter.widget-view+json": {
       "model_id": "ecfb49be8cfb4f468bc4c11d0127c391",
       "version_major": 2,
       "version_minor": 0
      },
      "text/plain": [
       "README.md:   0%|          | 0.00/4.99k [00:00<?, ?B/s]"
      ]
     },
     "metadata": {},
     "output_type": "display_data"
    },
    {
     "data": {
      "application/vnd.jupyter.widget-view+json": {
       "model_id": "da644c2691f843d3be5ff34d8c2f0cb4",
       "version_major": 2,
       "version_minor": 0
      },
      "text/plain": [
       "lambada_openai.py:   0%|          | 0.00/4.82k [00:00<?, ?B/s]"
      ]
     },
     "metadata": {},
     "output_type": "display_data"
    },
    {
     "data": {
      "application/vnd.jupyter.widget-view+json": {
       "model_id": "84bc811ebef1453f8d3e36c013b06f92",
       "version_major": 2,
       "version_minor": 0
      },
      "text/plain": [
       "0000.parquet:   0%|          | 0.00/1.16M [00:00<?, ?B/s]"
      ]
     },
     "metadata": {},
     "output_type": "display_data"
    },
    {
     "data": {
      "application/vnd.jupyter.widget-view+json": {
       "model_id": "fc23ba449b9b4266a9bef17250428c08",
       "version_major": 2,
       "version_minor": 0
      },
      "text/plain": [
       "Generating test split:   0%|          | 0/5153 [00:00<?, ? examples/s]"
      ]
     },
     "metadata": {},
     "output_type": "display_data"
    },
    {
     "name": "stderr",
     "output_type": "stream",
     "text": [
      "2024-12-05:15:22:29,612 WARNING  [task.py:325] [Task: lambada_openai] has_training_docs and has_validation_docs are False, using test_docs as fewshot_docs but this is not recommended.\n",
      "2024-12-05:15:22:29,613 WARNING  [task.py:325] [Task: lambada_openai] has_training_docs and has_validation_docs are False, using test_docs as fewshot_docs but this is not recommended.\n",
      "2024-12-05:15:22:29,700 WARNING  [task.py:799] [Task: blimp_wh_vs_that_with_gap_long_distance] metric acc is defined, but aggregation is not. using default aggregation=mean\n",
      "2024-12-05:15:22:29,700 WARNING  [task.py:811] [Task: blimp_wh_vs_that_with_gap_long_distance] metric acc is defined, but higher_is_better is not. using default higher_is_better=True\n"
     ]
    },
    {
     "data": {
      "application/vnd.jupyter.widget-view+json": {
       "model_id": "effc6414d71847aca4f04b119040d6ff",
       "version_major": 2,
       "version_minor": 0
      },
      "text/plain": [
       "README.md:   0%|          | 0.00/58.6k [00:00<?, ?B/s]"
      ]
     },
     "metadata": {},
     "output_type": "display_data"
    },
    {
     "data": {
      "application/vnd.jupyter.widget-view+json": {
       "model_id": "feac0f743ef5451f82d5f8a28f1b7a46",
       "version_major": 2,
       "version_minor": 0
      },
      "text/plain": [
       "train-00000-of-00001.parquet:   0%|          | 0.00/84.1k [00:00<?, ?B/s]"
      ]
     },
     "metadata": {},
     "output_type": "display_data"
    },
    {
     "data": {
      "application/vnd.jupyter.widget-view+json": {
       "model_id": "bcb2c60ce30e480887b1202254ef9680",
       "version_major": 2,
       "version_minor": 0
      },
      "text/plain": [
       "Generating train split:   0%|          | 0/1000 [00:00<?, ? examples/s]"
      ]
     },
     "metadata": {},
     "output_type": "display_data"
    },
    {
     "name": "stderr",
     "output_type": "stream",
     "text": [
      "2024-12-05:15:22:34,713 WARNING  [task.py:799] [Task: blimp_wh_vs_that_with_gap] metric acc is defined, but aggregation is not. using default aggregation=mean\n",
      "2024-12-05:15:22:34,714 WARNING  [task.py:811] [Task: blimp_wh_vs_that_with_gap] metric acc is defined, but higher_is_better is not. using default higher_is_better=True\n"
     ]
    },
    {
     "data": {
      "application/vnd.jupyter.widget-view+json": {
       "model_id": "79c5b8980bbe468e846604e973bd4a83",
       "version_major": 2,
       "version_minor": 0
      },
      "text/plain": [
       "train-00000-of-00001.parquet:   0%|          | 0.00/60.3k [00:00<?, ?B/s]"
      ]
     },
     "metadata": {},
     "output_type": "display_data"
    },
    {
     "data": {
      "application/vnd.jupyter.widget-view+json": {
       "model_id": "a3acc26a032649d4b9ac28f317c1b530",
       "version_major": 2,
       "version_minor": 0
      },
      "text/plain": [
       "Generating train split:   0%|          | 0/1000 [00:00<?, ? examples/s]"
      ]
     },
     "metadata": {},
     "output_type": "display_data"
    },
    {
     "name": "stderr",
     "output_type": "stream",
     "text": [
      "2024-12-05:15:22:37,924 WARNING  [task.py:799] [Task: blimp_wh_vs_that_no_gap_long_distance] metric acc is defined, but aggregation is not. using default aggregation=mean\n",
      "2024-12-05:15:22:37,925 WARNING  [task.py:811] [Task: blimp_wh_vs_that_no_gap_long_distance] metric acc is defined, but higher_is_better is not. using default higher_is_better=True\n"
     ]
    },
    {
     "data": {
      "application/vnd.jupyter.widget-view+json": {
       "model_id": "5074438339c84e3aa4a15872fd5d38d8",
       "version_major": 2,
       "version_minor": 0
      },
      "text/plain": [
       "train-00000-of-00001.parquet:   0%|          | 0.00/95.5k [00:00<?, ?B/s]"
      ]
     },
     "metadata": {},
     "output_type": "display_data"
    },
    {
     "data": {
      "application/vnd.jupyter.widget-view+json": {
       "model_id": "3a0cfa15defc409d8ab342521765b593",
       "version_major": 2,
       "version_minor": 0
      },
      "text/plain": [
       "Generating train split:   0%|          | 0/1000 [00:00<?, ? examples/s]"
      ]
     },
     "metadata": {},
     "output_type": "display_data"
    },
    {
     "name": "stderr",
     "output_type": "stream",
     "text": [
      "2024-12-05:15:22:40,735 WARNING  [task.py:799] [Task: blimp_wh_vs_that_no_gap] metric acc is defined, but aggregation is not. using default aggregation=mean\n",
      "2024-12-05:15:22:40,736 WARNING  [task.py:811] [Task: blimp_wh_vs_that_no_gap] metric acc is defined, but higher_is_better is not. using default higher_is_better=True\n"
     ]
    },
    {
     "data": {
      "application/vnd.jupyter.widget-view+json": {
       "model_id": "9df85426ab244385b19d61900a2c2594",
       "version_major": 2,
       "version_minor": 0
      },
      "text/plain": [
       "train-00000-of-00001.parquet:   0%|          | 0.00/71.7k [00:00<?, ?B/s]"
      ]
     },
     "metadata": {},
     "output_type": "display_data"
    },
    {
     "data": {
      "application/vnd.jupyter.widget-view+json": {
       "model_id": "c8002f90d0ea44dda0e0c75028482937",
       "version_major": 2,
       "version_minor": 0
      },
      "text/plain": [
       "Generating train split:   0%|          | 0/1000 [00:00<?, ? examples/s]"
      ]
     },
     "metadata": {},
     "output_type": "display_data"
    },
    {
     "name": "stderr",
     "output_type": "stream",
     "text": [
      "2024-12-05:15:22:43,533 WARNING  [task.py:799] [Task: blimp_wh_questions_subject_gap_long_distance] metric acc is defined, but aggregation is not. using default aggregation=mean\n",
      "2024-12-05:15:22:43,533 WARNING  [task.py:811] [Task: blimp_wh_questions_subject_gap_long_distance] metric acc is defined, but higher_is_better is not. using default higher_is_better=True\n"
     ]
    },
    {
     "data": {
      "application/vnd.jupyter.widget-view+json": {
       "model_id": "019c7fa699ec421f9d256440a3ba4785",
       "version_major": 2,
       "version_minor": 0
      },
      "text/plain": [
       "train-00000-of-00001.parquet:   0%|          | 0.00/98.9k [00:00<?, ?B/s]"
      ]
     },
     "metadata": {},
     "output_type": "display_data"
    },
    {
     "data": {
      "application/vnd.jupyter.widget-view+json": {
       "model_id": "6a36c5465a0b470e8a441584d3fbc740",
       "version_major": 2,
       "version_minor": 0
      },
      "text/plain": [
       "Generating train split:   0%|          | 0/1000 [00:00<?, ? examples/s]"
      ]
     },
     "metadata": {},
     "output_type": "display_data"
    },
    {
     "name": "stderr",
     "output_type": "stream",
     "text": [
      "2024-12-05:15:22:46,612 WARNING  [task.py:799] [Task: blimp_wh_questions_subject_gap] metric acc is defined, but aggregation is not. using default aggregation=mean\n",
      "2024-12-05:15:22:46,612 WARNING  [task.py:811] [Task: blimp_wh_questions_subject_gap] metric acc is defined, but higher_is_better is not. using default higher_is_better=True\n"
     ]
    },
    {
     "data": {
      "application/vnd.jupyter.widget-view+json": {
       "model_id": "31a1051500234c8f9537918a60d8e90d",
       "version_major": 2,
       "version_minor": 0
      },
      "text/plain": [
       "train-00000-of-00001.parquet:   0%|          | 0.00/71.6k [00:00<?, ?B/s]"
      ]
     },
     "metadata": {},
     "output_type": "display_data"
    },
    {
     "data": {
      "application/vnd.jupyter.widget-view+json": {
       "model_id": "39c5345dd62a481f9bd37c01925c4314",
       "version_major": 2,
       "version_minor": 0
      },
      "text/plain": [
       "Generating train split:   0%|          | 0/1000 [00:00<?, ? examples/s]"
      ]
     },
     "metadata": {},
     "output_type": "display_data"
    },
    {
     "name": "stderr",
     "output_type": "stream",
     "text": [
      "2024-12-05:15:22:49,646 WARNING  [task.py:799] [Task: blimp_wh_questions_object_gap] metric acc is defined, but aggregation is not. using default aggregation=mean\n",
      "2024-12-05:15:22:49,647 WARNING  [task.py:811] [Task: blimp_wh_questions_object_gap] metric acc is defined, but higher_is_better is not. using default higher_is_better=True\n"
     ]
    },
    {
     "data": {
      "application/vnd.jupyter.widget-view+json": {
       "model_id": "666f0dda8a144411903a90c718084021",
       "version_major": 2,
       "version_minor": 0
      },
      "text/plain": [
       "train-00000-of-00001.parquet:   0%|          | 0.00/70.0k [00:00<?, ?B/s]"
      ]
     },
     "metadata": {},
     "output_type": "display_data"
    },
    {
     "data": {
      "application/vnd.jupyter.widget-view+json": {
       "model_id": "1a7d3b2516b64ecda84e415bbdfb0982",
       "version_major": 2,
       "version_minor": 0
      },
      "text/plain": [
       "Generating train split:   0%|          | 0/1000 [00:00<?, ? examples/s]"
      ]
     },
     "metadata": {},
     "output_type": "display_data"
    },
    {
     "name": "stderr",
     "output_type": "stream",
     "text": [
      "2024-12-05:15:22:52,508 WARNING  [task.py:799] [Task: blimp_wh_island] metric acc is defined, but aggregation is not. using default aggregation=mean\n",
      "2024-12-05:15:22:52,509 WARNING  [task.py:811] [Task: blimp_wh_island] metric acc is defined, but higher_is_better is not. using default higher_is_better=True\n"
     ]
    },
    {
     "data": {
      "application/vnd.jupyter.widget-view+json": {
       "model_id": "eb27251b330447e8b58dd374c1e7eea4",
       "version_major": 2,
       "version_minor": 0
      },
      "text/plain": [
       "train-00000-of-00001.parquet:   0%|          | 0.00/52.8k [00:00<?, ?B/s]"
      ]
     },
     "metadata": {},
     "output_type": "display_data"
    },
    {
     "data": {
      "application/vnd.jupyter.widget-view+json": {
       "model_id": "709b1afa24184261aa19e7ff85c5cbaf",
       "version_major": 2,
       "version_minor": 0
      },
      "text/plain": [
       "Generating train split:   0%|          | 0/1000 [00:00<?, ? examples/s]"
      ]
     },
     "metadata": {},
     "output_type": "display_data"
    },
    {
     "name": "stderr",
     "output_type": "stream",
     "text": [
      "2024-12-05:15:22:55,522 WARNING  [task.py:799] [Task: blimp_transitive] metric acc is defined, but aggregation is not. using default aggregation=mean\n",
      "2024-12-05:15:22:55,523 WARNING  [task.py:811] [Task: blimp_transitive] metric acc is defined, but higher_is_better is not. using default higher_is_better=True\n"
     ]
    },
    {
     "data": {
      "application/vnd.jupyter.widget-view+json": {
       "model_id": "cf1bc1d20c9746079a5fa9998ae8da9f",
       "version_major": 2,
       "version_minor": 0
      },
      "text/plain": [
       "train-00000-of-00001.parquet:   0%|          | 0.00/55.1k [00:00<?, ?B/s]"
      ]
     },
     "metadata": {},
     "output_type": "display_data"
    },
    {
     "data": {
      "application/vnd.jupyter.widget-view+json": {
       "model_id": "361aff8749434d5fa4d4bcf71beb556e",
       "version_major": 2,
       "version_minor": 0
      },
      "text/plain": [
       "Generating train split:   0%|          | 0/1000 [00:00<?, ? examples/s]"
      ]
     },
     "metadata": {},
     "output_type": "display_data"
    },
    {
     "name": "stderr",
     "output_type": "stream",
     "text": [
      "2024-12-05:15:22:58,565 WARNING  [task.py:799] [Task: blimp_tough_vs_raising_2] metric acc is defined, but aggregation is not. using default aggregation=mean\n",
      "2024-12-05:15:22:58,566 WARNING  [task.py:811] [Task: blimp_tough_vs_raising_2] metric acc is defined, but higher_is_better is not. using default higher_is_better=True\n"
     ]
    },
    {
     "data": {
      "application/vnd.jupyter.widget-view+json": {
       "model_id": "a9bf046ef32c4b458d83af94fdc50b3c",
       "version_major": 2,
       "version_minor": 0
      },
      "text/plain": [
       "train-00000-of-00001.parquet:   0%|          | 0.00/61.5k [00:00<?, ?B/s]"
      ]
     },
     "metadata": {},
     "output_type": "display_data"
    },
    {
     "data": {
      "application/vnd.jupyter.widget-view+json": {
       "model_id": "c373a8639bbf495ebd6892d3543a3e69",
       "version_major": 2,
       "version_minor": 0
      },
      "text/plain": [
       "Generating train split:   0%|          | 0/1000 [00:00<?, ? examples/s]"
      ]
     },
     "metadata": {},
     "output_type": "display_data"
    },
    {
     "name": "stderr",
     "output_type": "stream",
     "text": [
      "2024-12-05:15:23:01,369 WARNING  [task.py:799] [Task: blimp_tough_vs_raising_1] metric acc is defined, but aggregation is not. using default aggregation=mean\n",
      "2024-12-05:15:23:01,370 WARNING  [task.py:811] [Task: blimp_tough_vs_raising_1] metric acc is defined, but higher_is_better is not. using default higher_is_better=True\n"
     ]
    },
    {
     "data": {
      "application/vnd.jupyter.widget-view+json": {
       "model_id": "22d6e882c3e94b7987a793a6b5006ae4",
       "version_major": 2,
       "version_minor": 0
      },
      "text/plain": [
       "train-00000-of-00001.parquet:   0%|          | 0.00/44.8k [00:00<?, ?B/s]"
      ]
     },
     "metadata": {},
     "output_type": "display_data"
    },
    {
     "data": {
      "application/vnd.jupyter.widget-view+json": {
       "model_id": "5600c401bf3e4ccaa0fa9f0499e2e79d",
       "version_major": 2,
       "version_minor": 0
      },
      "text/plain": [
       "Generating train split:   0%|          | 0/1000 [00:00<?, ? examples/s]"
      ]
     },
     "metadata": {},
     "output_type": "display_data"
    },
    {
     "name": "stderr",
     "output_type": "stream",
     "text": [
      "2024-12-05:15:23:04,136 WARNING  [task.py:799] [Task: blimp_superlative_quantifiers_2] metric acc is defined, but aggregation is not. using default aggregation=mean\n",
      "2024-12-05:15:23:04,137 WARNING  [task.py:811] [Task: blimp_superlative_quantifiers_2] metric acc is defined, but higher_is_better is not. using default higher_is_better=True\n"
     ]
    },
    {
     "data": {
      "application/vnd.jupyter.widget-view+json": {
       "model_id": "adefbdde05144f1fbc367e5f216d2aa2",
       "version_major": 2,
       "version_minor": 0
      },
      "text/plain": [
       "train-00000-of-00001.parquet:   0%|          | 0.00/50.5k [00:00<?, ?B/s]"
      ]
     },
     "metadata": {},
     "output_type": "display_data"
    },
    {
     "data": {
      "application/vnd.jupyter.widget-view+json": {
       "model_id": "8ff5f47ff87743f8a98e510fc37c51be",
       "version_major": 2,
       "version_minor": 0
      },
      "text/plain": [
       "Generating train split:   0%|          | 0/1000 [00:00<?, ? examples/s]"
      ]
     },
     "metadata": {},
     "output_type": "display_data"
    },
    {
     "name": "stderr",
     "output_type": "stream",
     "text": [
      "2024-12-05:15:23:06,924 WARNING  [task.py:799] [Task: blimp_superlative_quantifiers_1] metric acc is defined, but aggregation is not. using default aggregation=mean\n",
      "2024-12-05:15:23:06,925 WARNING  [task.py:811] [Task: blimp_superlative_quantifiers_1] metric acc is defined, but higher_is_better is not. using default higher_is_better=True\n"
     ]
    },
    {
     "data": {
      "application/vnd.jupyter.widget-view+json": {
       "model_id": "e913c82e6251432e9951e7f692224422",
       "version_major": 2,
       "version_minor": 0
      },
      "text/plain": [
       "train-00000-of-00001.parquet:   0%|          | 0.00/48.5k [00:00<?, ?B/s]"
      ]
     },
     "metadata": {},
     "output_type": "display_data"
    },
    {
     "data": {
      "application/vnd.jupyter.widget-view+json": {
       "model_id": "b3fd531396f74958b2b3143402169e57",
       "version_major": 2,
       "version_minor": 0
      },
      "text/plain": [
       "Generating train split:   0%|          | 0/1000 [00:00<?, ? examples/s]"
      ]
     },
     "metadata": {},
     "output_type": "display_data"
    },
    {
     "name": "stderr",
     "output_type": "stream",
     "text": [
      "2024-12-05:15:23:09,716 WARNING  [task.py:799] [Task: blimp_sentential_subject_island] metric acc is defined, but aggregation is not. using default aggregation=mean\n",
      "2024-12-05:15:23:09,717 WARNING  [task.py:811] [Task: blimp_sentential_subject_island] metric acc is defined, but higher_is_better is not. using default higher_is_better=True\n"
     ]
    },
    {
     "data": {
      "application/vnd.jupyter.widget-view+json": {
       "model_id": "3d88f5d4f9a14a85b20addabda394a5b",
       "version_major": 2,
       "version_minor": 0
      },
      "text/plain": [
       "train-00000-of-00001.parquet:   0%|          | 0.00/56.7k [00:00<?, ?B/s]"
      ]
     },
     "metadata": {},
     "output_type": "display_data"
    },
    {
     "data": {
      "application/vnd.jupyter.widget-view+json": {
       "model_id": "ff989b0942df4ef1b9b238428aa522dc",
       "version_major": 2,
       "version_minor": 0
      },
      "text/plain": [
       "Generating train split:   0%|          | 0/1000 [00:00<?, ? examples/s]"
      ]
     },
     "metadata": {},
     "output_type": "display_data"
    },
    {
     "name": "stderr",
     "output_type": "stream",
     "text": [
      "2024-12-05:15:23:12,480 WARNING  [task.py:799] [Task: blimp_sentential_negation_npi_scope] metric acc is defined, but aggregation is not. using default aggregation=mean\n",
      "2024-12-05:15:23:12,481 WARNING  [task.py:811] [Task: blimp_sentential_negation_npi_scope] metric acc is defined, but higher_is_better is not. using default higher_is_better=True\n"
     ]
    },
    {
     "data": {
      "application/vnd.jupyter.widget-view+json": {
       "model_id": "a9d9995712f74910960e69f35e37bae5",
       "version_major": 2,
       "version_minor": 0
      },
      "text/plain": [
       "train-00000-of-00001.parquet:   0%|          | 0.00/90.2k [00:00<?, ?B/s]"
      ]
     },
     "metadata": {},
     "output_type": "display_data"
    },
    {
     "data": {
      "application/vnd.jupyter.widget-view+json": {
       "model_id": "c4f18ba4a4fe4127b98896a38cfa0d27",
       "version_major": 2,
       "version_minor": 0
      },
      "text/plain": [
       "Generating train split:   0%|          | 0/1000 [00:00<?, ? examples/s]"
      ]
     },
     "metadata": {},
     "output_type": "display_data"
    },
    {
     "name": "stderr",
     "output_type": "stream",
     "text": [
      "2024-12-05:15:23:15,574 WARNING  [task.py:799] [Task: blimp_sentential_negation_npi_licensor_present] metric acc is defined, but aggregation is not. using default aggregation=mean\n",
      "2024-12-05:15:23:15,574 WARNING  [task.py:811] [Task: blimp_sentential_negation_npi_licensor_present] metric acc is defined, but higher_is_better is not. using default higher_is_better=True\n"
     ]
    },
    {
     "data": {
      "application/vnd.jupyter.widget-view+json": {
       "model_id": "2fd74ef735f543578129cba84f1848b4",
       "version_major": 2,
       "version_minor": 0
      },
      "text/plain": [
       "train-00000-of-00001.parquet:   0%|          | 0.00/54.8k [00:00<?, ?B/s]"
      ]
     },
     "metadata": {},
     "output_type": "display_data"
    },
    {
     "data": {
      "application/vnd.jupyter.widget-view+json": {
       "model_id": "a53ff1800ac54c48a3b87b36b4248981",
       "version_major": 2,
       "version_minor": 0
      },
      "text/plain": [
       "Generating train split:   0%|          | 0/1000 [00:00<?, ? examples/s]"
      ]
     },
     "metadata": {},
     "output_type": "display_data"
    },
    {
     "name": "stderr",
     "output_type": "stream",
     "text": [
      "2024-12-05:15:23:18,253 WARNING  [task.py:799] [Task: blimp_regular_plural_subject_verb_agreement_2] metric acc is defined, but aggregation is not. using default aggregation=mean\n",
      "2024-12-05:15:23:18,254 WARNING  [task.py:811] [Task: blimp_regular_plural_subject_verb_agreement_2] metric acc is defined, but higher_is_better is not. using default higher_is_better=True\n"
     ]
    },
    {
     "data": {
      "application/vnd.jupyter.widget-view+json": {
       "model_id": "51132b6c2e85455e9ae52120db7cf89b",
       "version_major": 2,
       "version_minor": 0
      },
      "text/plain": [
       "train-00000-of-00001.parquet:   0%|          | 0.00/43.4k [00:00<?, ?B/s]"
      ]
     },
     "metadata": {},
     "output_type": "display_data"
    },
    {
     "data": {
      "application/vnd.jupyter.widget-view+json": {
       "model_id": "e72e40b0b65148cfac4dc3b427628a24",
       "version_major": 2,
       "version_minor": 0
      },
      "text/plain": [
       "Generating train split:   0%|          | 0/1000 [00:00<?, ? examples/s]"
      ]
     },
     "metadata": {},
     "output_type": "display_data"
    },
    {
     "name": "stderr",
     "output_type": "stream",
     "text": [
      "2024-12-05:15:23:21,071 WARNING  [task.py:799] [Task: blimp_regular_plural_subject_verb_agreement_1] metric acc is defined, but aggregation is not. using default aggregation=mean\n",
      "2024-12-05:15:23:21,072 WARNING  [task.py:811] [Task: blimp_regular_plural_subject_verb_agreement_1] metric acc is defined, but higher_is_better is not. using default higher_is_better=True\n"
     ]
    },
    {
     "data": {
      "application/vnd.jupyter.widget-view+json": {
       "model_id": "0e1f5f62cb354065bd07de0e81c4efad",
       "version_major": 2,
       "version_minor": 0
      },
      "text/plain": [
       "train-00000-of-00001.parquet:   0%|          | 0.00/49.5k [00:00<?, ?B/s]"
      ]
     },
     "metadata": {},
     "output_type": "display_data"
    },
    {
     "data": {
      "application/vnd.jupyter.widget-view+json": {
       "model_id": "140c9b1aaf884542a6e9b81315a433e2",
       "version_major": 2,
       "version_minor": 0
      },
      "text/plain": [
       "Generating train split:   0%|          | 0/1000 [00:00<?, ? examples/s]"
      ]
     },
     "metadata": {},
     "output_type": "display_data"
    },
    {
     "name": "stderr",
     "output_type": "stream",
     "text": [
      "2024-12-05:15:23:23,798 WARNING  [task.py:799] [Task: blimp_principle_A_reconstruction] metric acc is defined, but aggregation is not. using default aggregation=mean\n",
      "2024-12-05:15:23:23,799 WARNING  [task.py:811] [Task: blimp_principle_A_reconstruction] metric acc is defined, but higher_is_better is not. using default higher_is_better=True\n"
     ]
    },
    {
     "data": {
      "application/vnd.jupyter.widget-view+json": {
       "model_id": "d3401908de7d4a5ba5cd9e499f20b57c",
       "version_major": 2,
       "version_minor": 0
      },
      "text/plain": [
       "train-00000-of-00001.parquet:   0%|          | 0.00/44.5k [00:00<?, ?B/s]"
      ]
     },
     "metadata": {},
     "output_type": "display_data"
    },
    {
     "data": {
      "application/vnd.jupyter.widget-view+json": {
       "model_id": "920b3364d6954fd7a62f9cb732e486a7",
       "version_major": 2,
       "version_minor": 0
      },
      "text/plain": [
       "Generating train split:   0%|          | 0/1000 [00:00<?, ? examples/s]"
      ]
     },
     "metadata": {},
     "output_type": "display_data"
    },
    {
     "name": "stderr",
     "output_type": "stream",
     "text": [
      "2024-12-05:15:23:26,560 WARNING  [task.py:799] [Task: blimp_principle_A_domain_3] metric acc is defined, but aggregation is not. using default aggregation=mean\n",
      "2024-12-05:15:23:26,561 WARNING  [task.py:811] [Task: blimp_principle_A_domain_3] metric acc is defined, but higher_is_better is not. using default higher_is_better=True\n"
     ]
    },
    {
     "data": {
      "application/vnd.jupyter.widget-view+json": {
       "model_id": "faaf5617c20a4fe780745d03253e6b08",
       "version_major": 2,
       "version_minor": 0
      },
      "text/plain": [
       "train-00000-of-00001.parquet:   0%|          | 0.00/52.9k [00:00<?, ?B/s]"
      ]
     },
     "metadata": {},
     "output_type": "display_data"
    },
    {
     "data": {
      "application/vnd.jupyter.widget-view+json": {
       "model_id": "a20464d4123346899258e0283f539d3b",
       "version_major": 2,
       "version_minor": 0
      },
      "text/plain": [
       "Generating train split:   0%|          | 0/1000 [00:00<?, ? examples/s]"
      ]
     },
     "metadata": {},
     "output_type": "display_data"
    },
    {
     "name": "stderr",
     "output_type": "stream",
     "text": [
      "2024-12-05:15:23:29,410 WARNING  [task.py:799] [Task: blimp_principle_A_domain_2] metric acc is defined, but aggregation is not. using default aggregation=mean\n",
      "2024-12-05:15:23:29,411 WARNING  [task.py:811] [Task: blimp_principle_A_domain_2] metric acc is defined, but higher_is_better is not. using default higher_is_better=True\n"
     ]
    },
    {
     "data": {
      "application/vnd.jupyter.widget-view+json": {
       "model_id": "236b88d98e21451090d6adc781dc4a92",
       "version_major": 2,
       "version_minor": 0
      },
      "text/plain": [
       "train-00000-of-00001.parquet:   0%|          | 0.00/58.5k [00:00<?, ?B/s]"
      ]
     },
     "metadata": {},
     "output_type": "display_data"
    },
    {
     "data": {
      "application/vnd.jupyter.widget-view+json": {
       "model_id": "d9bb218fac854e549a13b3eac661f1ef",
       "version_major": 2,
       "version_minor": 0
      },
      "text/plain": [
       "Generating train split:   0%|          | 0/1000 [00:00<?, ? examples/s]"
      ]
     },
     "metadata": {},
     "output_type": "display_data"
    },
    {
     "name": "stderr",
     "output_type": "stream",
     "text": [
      "2024-12-05:15:23:32,235 WARNING  [task.py:799] [Task: blimp_principle_A_domain_1] metric acc is defined, but aggregation is not. using default aggregation=mean\n",
      "2024-12-05:15:23:32,236 WARNING  [task.py:811] [Task: blimp_principle_A_domain_1] metric acc is defined, but higher_is_better is not. using default higher_is_better=True\n"
     ]
    },
    {
     "data": {
      "application/vnd.jupyter.widget-view+json": {
       "model_id": "11777f80f329438f8fb835c069fa1b36",
       "version_major": 2,
       "version_minor": 0
      },
      "text/plain": [
       "train-00000-of-00001.parquet:   0%|          | 0.00/59.1k [00:00<?, ?B/s]"
      ]
     },
     "metadata": {},
     "output_type": "display_data"
    },
    {
     "data": {
      "application/vnd.jupyter.widget-view+json": {
       "model_id": "7f3dfe8af0034b76a7d68fe3b5cfb6f0",
       "version_major": 2,
       "version_minor": 0
      },
      "text/plain": [
       "Generating train split:   0%|          | 0/1000 [00:00<?, ? examples/s]"
      ]
     },
     "metadata": {},
     "output_type": "display_data"
    },
    {
     "name": "stderr",
     "output_type": "stream",
     "text": [
      "2024-12-05:15:23:35,113 WARNING  [task.py:799] [Task: blimp_principle_A_case_2] metric acc is defined, but aggregation is not. using default aggregation=mean\n",
      "2024-12-05:15:23:35,114 WARNING  [task.py:811] [Task: blimp_principle_A_case_2] metric acc is defined, but higher_is_better is not. using default higher_is_better=True\n"
     ]
    },
    {
     "data": {
      "application/vnd.jupyter.widget-view+json": {
       "model_id": "a5648f28604a40a7af6f5043267d5849",
       "version_major": 2,
       "version_minor": 0
      },
      "text/plain": [
       "train-00000-of-00001.parquet:   0%|          | 0.00/56.4k [00:00<?, ?B/s]"
      ]
     },
     "metadata": {},
     "output_type": "display_data"
    },
    {
     "data": {
      "application/vnd.jupyter.widget-view+json": {
       "model_id": "cbf44d595b3941c280116501895f7e46",
       "version_major": 2,
       "version_minor": 0
      },
      "text/plain": [
       "Generating train split:   0%|          | 0/1000 [00:00<?, ? examples/s]"
      ]
     },
     "metadata": {},
     "output_type": "display_data"
    },
    {
     "name": "stderr",
     "output_type": "stream",
     "text": [
      "2024-12-05:15:23:38,109 WARNING  [task.py:799] [Task: blimp_principle_A_case_1] metric acc is defined, but aggregation is not. using default aggregation=mean\n",
      "2024-12-05:15:23:38,110 WARNING  [task.py:811] [Task: blimp_principle_A_case_1] metric acc is defined, but higher_is_better is not. using default higher_is_better=True\n"
     ]
    },
    {
     "data": {
      "application/vnd.jupyter.widget-view+json": {
       "model_id": "8a5727ecb29548a69e2730b5c7810827",
       "version_major": 2,
       "version_minor": 0
      },
      "text/plain": [
       "train-00000-of-00001.parquet:   0%|          | 0.00/61.1k [00:00<?, ?B/s]"
      ]
     },
     "metadata": {},
     "output_type": "display_data"
    },
    {
     "data": {
      "application/vnd.jupyter.widget-view+json": {
       "model_id": "3dcf14d78a874325bbd5e824d60de13f",
       "version_major": 2,
       "version_minor": 0
      },
      "text/plain": [
       "Generating train split:   0%|          | 0/1000 [00:00<?, ? examples/s]"
      ]
     },
     "metadata": {},
     "output_type": "display_data"
    },
    {
     "name": "stderr",
     "output_type": "stream",
     "text": [
      "2024-12-05:15:23:40,912 WARNING  [task.py:799] [Task: blimp_principle_A_c_command] metric acc is defined, but aggregation is not. using default aggregation=mean\n",
      "2024-12-05:15:23:40,913 WARNING  [task.py:811] [Task: blimp_principle_A_c_command] metric acc is defined, but higher_is_better is not. using default higher_is_better=True\n"
     ]
    },
    {
     "data": {
      "application/vnd.jupyter.widget-view+json": {
       "model_id": "ee1f795b69cb44be8ea2bc68f23b416c",
       "version_major": 2,
       "version_minor": 0
      },
      "text/plain": [
       "train-00000-of-00001.parquet:   0%|          | 0.00/67.9k [00:00<?, ?B/s]"
      ]
     },
     "metadata": {},
     "output_type": "display_data"
    },
    {
     "data": {
      "application/vnd.jupyter.widget-view+json": {
       "model_id": "5caac14fc05246418eac1ab54870a07a",
       "version_major": 2,
       "version_minor": 0
      },
      "text/plain": [
       "Generating train split:   0%|          | 0/1000 [00:00<?, ? examples/s]"
      ]
     },
     "metadata": {},
     "output_type": "display_data"
    },
    {
     "name": "stderr",
     "output_type": "stream",
     "text": [
      "2024-12-05:15:23:43,904 WARNING  [task.py:799] [Task: blimp_passive_2] metric acc is defined, but aggregation is not. using default aggregation=mean\n",
      "2024-12-05:15:23:43,905 WARNING  [task.py:811] [Task: blimp_passive_2] metric acc is defined, but higher_is_better is not. using default higher_is_better=True\n"
     ]
    },
    {
     "data": {
      "application/vnd.jupyter.widget-view+json": {
       "model_id": "c5ef9df40f7246949a3207ce87a7719a",
       "version_major": 2,
       "version_minor": 0
      },
      "text/plain": [
       "train-00000-of-00001.parquet:   0%|          | 0.00/40.5k [00:00<?, ?B/s]"
      ]
     },
     "metadata": {},
     "output_type": "display_data"
    },
    {
     "data": {
      "application/vnd.jupyter.widget-view+json": {
       "model_id": "b6ede24fc3714a7595af11606d818637",
       "version_major": 2,
       "version_minor": 0
      },
      "text/plain": [
       "Generating train split:   0%|          | 0/1000 [00:00<?, ? examples/s]"
      ]
     },
     "metadata": {},
     "output_type": "display_data"
    },
    {
     "name": "stderr",
     "output_type": "stream",
     "text": [
      "2024-12-05:15:23:46,635 WARNING  [task.py:799] [Task: blimp_passive_1] metric acc is defined, but aggregation is not. using default aggregation=mean\n",
      "2024-12-05:15:23:46,636 WARNING  [task.py:811] [Task: blimp_passive_1] metric acc is defined, but higher_is_better is not. using default higher_is_better=True\n"
     ]
    },
    {
     "data": {
      "application/vnd.jupyter.widget-view+json": {
       "model_id": "3f1cf461560a44f6a1280b3de33d05a3",
       "version_major": 2,
       "version_minor": 0
      },
      "text/plain": [
       "train-00000-of-00001.parquet:   0%|          | 0.00/53.9k [00:00<?, ?B/s]"
      ]
     },
     "metadata": {},
     "output_type": "display_data"
    },
    {
     "data": {
      "application/vnd.jupyter.widget-view+json": {
       "model_id": "b019562496a4440eb38b6b6898da8f6f",
       "version_major": 2,
       "version_minor": 0
      },
      "text/plain": [
       "Generating train split:   0%|          | 0/1000 [00:00<?, ? examples/s]"
      ]
     },
     "metadata": {},
     "output_type": "display_data"
    },
    {
     "name": "stderr",
     "output_type": "stream",
     "text": [
      "2024-12-05:15:23:49,386 WARNING  [task.py:799] [Task: blimp_only_npi_scope] metric acc is defined, but aggregation is not. using default aggregation=mean\n",
      "2024-12-05:15:23:49,387 WARNING  [task.py:811] [Task: blimp_only_npi_scope] metric acc is defined, but higher_is_better is not. using default higher_is_better=True\n"
     ]
    },
    {
     "data": {
      "application/vnd.jupyter.widget-view+json": {
       "model_id": "22e9732a5248408fa3fb801425f75497",
       "version_major": 2,
       "version_minor": 0
      },
      "text/plain": [
       "train-00000-of-00001.parquet:   0%|          | 0.00/85.0k [00:00<?, ?B/s]"
      ]
     },
     "metadata": {},
     "output_type": "display_data"
    },
    {
     "data": {
      "application/vnd.jupyter.widget-view+json": {
       "model_id": "4354eaa282ad4fe7a68db41a429e4ac2",
       "version_major": 2,
       "version_minor": 0
      },
      "text/plain": [
       "Generating train split:   0%|          | 0/1000 [00:00<?, ? examples/s]"
      ]
     },
     "metadata": {},
     "output_type": "display_data"
    },
    {
     "name": "stderr",
     "output_type": "stream",
     "text": [
      "2024-12-05:15:23:52,130 WARNING  [task.py:799] [Task: blimp_only_npi_licensor_present] metric acc is defined, but aggregation is not. using default aggregation=mean\n",
      "2024-12-05:15:23:52,131 WARNING  [task.py:811] [Task: blimp_only_npi_licensor_present] metric acc is defined, but higher_is_better is not. using default higher_is_better=True\n"
     ]
    },
    {
     "data": {
      "application/vnd.jupyter.widget-view+json": {
       "model_id": "2f4e93998b3343e99bd4afc698460375",
       "version_major": 2,
       "version_minor": 0
      },
      "text/plain": [
       "train-00000-of-00001.parquet:   0%|          | 0.00/51.4k [00:00<?, ?B/s]"
      ]
     },
     "metadata": {},
     "output_type": "display_data"
    },
    {
     "data": {
      "application/vnd.jupyter.widget-view+json": {
       "model_id": "b72028152c934214bc709eac122d518b",
       "version_major": 2,
       "version_minor": 0
      },
      "text/plain": [
       "Generating train split:   0%|          | 0/1000 [00:00<?, ? examples/s]"
      ]
     },
     "metadata": {},
     "output_type": "display_data"
    },
    {
     "name": "stderr",
     "output_type": "stream",
     "text": [
      "2024-12-05:15:23:55,171 WARNING  [task.py:799] [Task: blimp_npi_present_2] metric acc is defined, but aggregation is not. using default aggregation=mean\n",
      "2024-12-05:15:23:55,171 WARNING  [task.py:811] [Task: blimp_npi_present_2] metric acc is defined, but higher_is_better is not. using default higher_is_better=True\n"
     ]
    },
    {
     "data": {
      "application/vnd.jupyter.widget-view+json": {
       "model_id": "176d892bae99419dabfcb78b0539aeeb",
       "version_major": 2,
       "version_minor": 0
      },
      "text/plain": [
       "train-00000-of-00001.parquet:   0%|          | 0.00/51.7k [00:00<?, ?B/s]"
      ]
     },
     "metadata": {},
     "output_type": "display_data"
    },
    {
     "data": {
      "application/vnd.jupyter.widget-view+json": {
       "model_id": "48b3e474920243c39994d6878920d120",
       "version_major": 2,
       "version_minor": 0
      },
      "text/plain": [
       "Generating train split:   0%|          | 0/1000 [00:00<?, ? examples/s]"
      ]
     },
     "metadata": {},
     "output_type": "display_data"
    },
    {
     "name": "stderr",
     "output_type": "stream",
     "text": [
      "2024-12-05:15:23:58,010 WARNING  [task.py:799] [Task: blimp_npi_present_1] metric acc is defined, but aggregation is not. using default aggregation=mean\n",
      "2024-12-05:15:23:58,012 WARNING  [task.py:811] [Task: blimp_npi_present_1] metric acc is defined, but higher_is_better is not. using default higher_is_better=True\n"
     ]
    },
    {
     "data": {
      "application/vnd.jupyter.widget-view+json": {
       "model_id": "9fc322142250402f8a653b07c50f701a",
       "version_major": 2,
       "version_minor": 0
      },
      "text/plain": [
       "train-00000-of-00001.parquet:   0%|          | 0.00/52.0k [00:00<?, ?B/s]"
      ]
     },
     "metadata": {},
     "output_type": "display_data"
    },
    {
     "data": {
      "application/vnd.jupyter.widget-view+json": {
       "model_id": "554f3b8e1664458eb85a6c76d0074205",
       "version_major": 2,
       "version_minor": 0
      },
      "text/plain": [
       "Generating train split:   0%|          | 0/1000 [00:00<?, ? examples/s]"
      ]
     },
     "metadata": {},
     "output_type": "display_data"
    },
    {
     "name": "stderr",
     "output_type": "stream",
     "text": [
      "2024-12-05:15:24:00,779 WARNING  [task.py:799] [Task: blimp_matrix_question_npi_licensor_present] metric acc is defined, but aggregation is not. using default aggregation=mean\n",
      "2024-12-05:15:24:00,780 WARNING  [task.py:811] [Task: blimp_matrix_question_npi_licensor_present] metric acc is defined, but higher_is_better is not. using default higher_is_better=True\n"
     ]
    },
    {
     "data": {
      "application/vnd.jupyter.widget-view+json": {
       "model_id": "f72bf89e5145418db04f433a902e381a",
       "version_major": 2,
       "version_minor": 0
      },
      "text/plain": [
       "train-00000-of-00001.parquet:   0%|          | 0.00/51.9k [00:00<?, ?B/s]"
      ]
     },
     "metadata": {},
     "output_type": "display_data"
    },
    {
     "data": {
      "application/vnd.jupyter.widget-view+json": {
       "model_id": "4f44b68b74974a63a687c28d4686f98d",
       "version_major": 2,
       "version_minor": 0
      },
      "text/plain": [
       "Generating train split:   0%|          | 0/1000 [00:00<?, ? examples/s]"
      ]
     },
     "metadata": {},
     "output_type": "display_data"
    },
    {
     "name": "stderr",
     "output_type": "stream",
     "text": [
      "2024-12-05:15:24:03,603 WARNING  [task.py:799] [Task: blimp_left_branch_island_simple_question] metric acc is defined, but aggregation is not. using default aggregation=mean\n",
      "2024-12-05:15:24:03,604 WARNING  [task.py:811] [Task: blimp_left_branch_island_simple_question] metric acc is defined, but higher_is_better is not. using default higher_is_better=True\n"
     ]
    },
    {
     "data": {
      "application/vnd.jupyter.widget-view+json": {
       "model_id": "8a8d40de9d414597b999ba773fe476ce",
       "version_major": 2,
       "version_minor": 0
      },
      "text/plain": [
       "train-00000-of-00001.parquet:   0%|          | 0.00/50.3k [00:00<?, ?B/s]"
      ]
     },
     "metadata": {},
     "output_type": "display_data"
    },
    {
     "data": {
      "application/vnd.jupyter.widget-view+json": {
       "model_id": "9f6fa26e7efc4863a14d87624bdaa571",
       "version_major": 2,
       "version_minor": 0
      },
      "text/plain": [
       "Generating train split:   0%|          | 0/1000 [00:00<?, ? examples/s]"
      ]
     },
     "metadata": {},
     "output_type": "display_data"
    },
    {
     "name": "stderr",
     "output_type": "stream",
     "text": [
      "2024-12-05:15:24:06,344 WARNING  [task.py:799] [Task: blimp_left_branch_island_echo_question] metric acc is defined, but aggregation is not. using default aggregation=mean\n",
      "2024-12-05:15:24:06,345 WARNING  [task.py:811] [Task: blimp_left_branch_island_echo_question] metric acc is defined, but higher_is_better is not. using default higher_is_better=True\n"
     ]
    },
    {
     "data": {
      "application/vnd.jupyter.widget-view+json": {
       "model_id": "bb33ec7060a342c1b97c9e3cef650bf8",
       "version_major": 2,
       "version_minor": 0
      },
      "text/plain": [
       "train-00000-of-00001.parquet:   0%|          | 0.00/50.5k [00:00<?, ?B/s]"
      ]
     },
     "metadata": {},
     "output_type": "display_data"
    },
    {
     "data": {
      "application/vnd.jupyter.widget-view+json": {
       "model_id": "fbb8cd0684fa4da286b229284e8d4ca1",
       "version_major": 2,
       "version_minor": 0
      },
      "text/plain": [
       "Generating train split:   0%|          | 0/1000 [00:00<?, ? examples/s]"
      ]
     },
     "metadata": {},
     "output_type": "display_data"
    },
    {
     "name": "stderr",
     "output_type": "stream",
     "text": [
      "2024-12-05:15:24:09,354 WARNING  [task.py:799] [Task: blimp_irregular_plural_subject_verb_agreement_2] metric acc is defined, but aggregation is not. using default aggregation=mean\n",
      "2024-12-05:15:24:09,355 WARNING  [task.py:811] [Task: blimp_irregular_plural_subject_verb_agreement_2] metric acc is defined, but higher_is_better is not. using default higher_is_better=True\n"
     ]
    },
    {
     "data": {
      "application/vnd.jupyter.widget-view+json": {
       "model_id": "3ddba13d7c80461cb33b4e6ecffdb87b",
       "version_major": 2,
       "version_minor": 0
      },
      "text/plain": [
       "train-00000-of-00001.parquet:   0%|          | 0.00/42.7k [00:00<?, ?B/s]"
      ]
     },
     "metadata": {},
     "output_type": "display_data"
    },
    {
     "data": {
      "application/vnd.jupyter.widget-view+json": {
       "model_id": "ad59f9f9e203405492cb1f5aeb73ac27",
       "version_major": 2,
       "version_minor": 0
      },
      "text/plain": [
       "Generating train split:   0%|          | 0/1000 [00:00<?, ? examples/s]"
      ]
     },
     "metadata": {},
     "output_type": "display_data"
    },
    {
     "name": "stderr",
     "output_type": "stream",
     "text": [
      "2024-12-05:15:24:12,148 WARNING  [task.py:799] [Task: blimp_irregular_plural_subject_verb_agreement_1] metric acc is defined, but aggregation is not. using default aggregation=mean\n",
      "2024-12-05:15:24:12,149 WARNING  [task.py:811] [Task: blimp_irregular_plural_subject_verb_agreement_1] metric acc is defined, but higher_is_better is not. using default higher_is_better=True\n"
     ]
    },
    {
     "data": {
      "application/vnd.jupyter.widget-view+json": {
       "model_id": "2544eb42e8bf47e6a03265dda2770f1a",
       "version_major": 2,
       "version_minor": 0
      },
      "text/plain": [
       "train-00000-of-00001.parquet:   0%|          | 0.00/50.7k [00:00<?, ?B/s]"
      ]
     },
     "metadata": {},
     "output_type": "display_data"
    },
    {
     "data": {
      "application/vnd.jupyter.widget-view+json": {
       "model_id": "29e77669631e4d27bad028ba63070407",
       "version_major": 2,
       "version_minor": 0
      },
      "text/plain": [
       "Generating train split:   0%|          | 0/1000 [00:00<?, ? examples/s]"
      ]
     },
     "metadata": {},
     "output_type": "display_data"
    },
    {
     "name": "stderr",
     "output_type": "stream",
     "text": [
      "2024-12-05:15:24:14,934 WARNING  [task.py:799] [Task: blimp_irregular_past_participle_verbs] metric acc is defined, but aggregation is not. using default aggregation=mean\n",
      "2024-12-05:15:24:14,935 WARNING  [task.py:811] [Task: blimp_irregular_past_participle_verbs] metric acc is defined, but higher_is_better is not. using default higher_is_better=True\n"
     ]
    },
    {
     "data": {
      "application/vnd.jupyter.widget-view+json": {
       "model_id": "a4d385372b3545bdb45416f69f831c83",
       "version_major": 2,
       "version_minor": 0
      },
      "text/plain": [
       "train-00000-of-00001.parquet:   0%|          | 0.00/37.3k [00:00<?, ?B/s]"
      ]
     },
     "metadata": {},
     "output_type": "display_data"
    },
    {
     "data": {
      "application/vnd.jupyter.widget-view+json": {
       "model_id": "88240851b4d141369586e10e1eecbfc9",
       "version_major": 2,
       "version_minor": 0
      },
      "text/plain": [
       "Generating train split:   0%|          | 0/1000 [00:00<?, ? examples/s]"
      ]
     },
     "metadata": {},
     "output_type": "display_data"
    },
    {
     "name": "stderr",
     "output_type": "stream",
     "text": [
      "2024-12-05:15:24:17,978 WARNING  [task.py:799] [Task: blimp_irregular_past_participle_adjectives] metric acc is defined, but aggregation is not. using default aggregation=mean\n",
      "2024-12-05:15:24:17,978 WARNING  [task.py:811] [Task: blimp_irregular_past_participle_adjectives] metric acc is defined, but higher_is_better is not. using default higher_is_better=True\n"
     ]
    },
    {
     "data": {
      "application/vnd.jupyter.widget-view+json": {
       "model_id": "74bb63e4c39e4b84b69430738dd025e1",
       "version_major": 2,
       "version_minor": 0
      },
      "text/plain": [
       "train-00000-of-00001.parquet:   0%|          | 0.00/36.7k [00:00<?, ?B/s]"
      ]
     },
     "metadata": {},
     "output_type": "display_data"
    },
    {
     "data": {
      "application/vnd.jupyter.widget-view+json": {
       "model_id": "39bfc34aaacf47fba371b50ed6808cdc",
       "version_major": 2,
       "version_minor": 0
      },
      "text/plain": [
       "Generating train split:   0%|          | 0/1000 [00:00<?, ? examples/s]"
      ]
     },
     "metadata": {},
     "output_type": "display_data"
    },
    {
     "name": "stderr",
     "output_type": "stream",
     "text": [
      "2024-12-05:15:24:20,872 WARNING  [task.py:799] [Task: blimp_intransitive] metric acc is defined, but aggregation is not. using default aggregation=mean\n",
      "2024-12-05:15:24:20,873 WARNING  [task.py:811] [Task: blimp_intransitive] metric acc is defined, but higher_is_better is not. using default higher_is_better=True\n"
     ]
    },
    {
     "data": {
      "application/vnd.jupyter.widget-view+json": {
       "model_id": "84c66e74597242219e0d4d99d50cb83f",
       "version_major": 2,
       "version_minor": 0
      },
      "text/plain": [
       "train-00000-of-00001.parquet:   0%|          | 0.00/42.4k [00:00<?, ?B/s]"
      ]
     },
     "metadata": {},
     "output_type": "display_data"
    },
    {
     "data": {
      "application/vnd.jupyter.widget-view+json": {
       "model_id": "a009d2336df440c394877331b7f43c50",
       "version_major": 2,
       "version_minor": 0
      },
      "text/plain": [
       "Generating train split:   0%|          | 0/1000 [00:00<?, ? examples/s]"
      ]
     },
     "metadata": {},
     "output_type": "display_data"
    },
    {
     "name": "stderr",
     "output_type": "stream",
     "text": [
      "2024-12-05:15:24:23,667 WARNING  [task.py:799] [Task: blimp_inchoative] metric acc is defined, but aggregation is not. using default aggregation=mean\n",
      "2024-12-05:15:24:23,668 WARNING  [task.py:811] [Task: blimp_inchoative] metric acc is defined, but higher_is_better is not. using default higher_is_better=True\n"
     ]
    },
    {
     "data": {
      "application/vnd.jupyter.widget-view+json": {
       "model_id": "5b2b50c2694d4f049949dca070d21215",
       "version_major": 2,
       "version_minor": 0
      },
      "text/plain": [
       "train-00000-of-00001.parquet:   0%|          | 0.00/39.8k [00:00<?, ?B/s]"
      ]
     },
     "metadata": {},
     "output_type": "display_data"
    },
    {
     "data": {
      "application/vnd.jupyter.widget-view+json": {
       "model_id": "3c67b58d6c6f4cc39537d32734a77f33",
       "version_major": 2,
       "version_minor": 0
      },
      "text/plain": [
       "Generating train split:   0%|          | 0/1000 [00:00<?, ? examples/s]"
      ]
     },
     "metadata": {},
     "output_type": "display_data"
    },
    {
     "name": "stderr",
     "output_type": "stream",
     "text": [
      "2024-12-05:15:24:26,760 WARNING  [task.py:799] [Task: blimp_expletive_it_object_raising] metric acc is defined, but aggregation is not. using default aggregation=mean\n",
      "2024-12-05:15:24:26,761 WARNING  [task.py:811] [Task: blimp_expletive_it_object_raising] metric acc is defined, but higher_is_better is not. using default higher_is_better=True\n"
     ]
    },
    {
     "data": {
      "application/vnd.jupyter.widget-view+json": {
       "model_id": "46e5451783b041198f9bfd18822b7b63",
       "version_major": 2,
       "version_minor": 0
      },
      "text/plain": [
       "train-00000-of-00001.parquet:   0%|          | 0.00/88.6k [00:00<?, ?B/s]"
      ]
     },
     "metadata": {},
     "output_type": "display_data"
    },
    {
     "data": {
      "application/vnd.jupyter.widget-view+json": {
       "model_id": "88e0c1e583e34b89b4689dc1b6add86d",
       "version_major": 2,
       "version_minor": 0
      },
      "text/plain": [
       "Generating train split:   0%|          | 0/1000 [00:00<?, ? examples/s]"
      ]
     },
     "metadata": {},
     "output_type": "display_data"
    },
    {
     "name": "stderr",
     "output_type": "stream",
     "text": [
      "2024-12-05:15:24:29,556 WARNING  [task.py:799] [Task: blimp_existential_there_subject_raising] metric acc is defined, but aggregation is not. using default aggregation=mean\n",
      "2024-12-05:15:24:29,557 WARNING  [task.py:811] [Task: blimp_existential_there_subject_raising] metric acc is defined, but higher_is_better is not. using default higher_is_better=True\n"
     ]
    },
    {
     "data": {
      "application/vnd.jupyter.widget-view+json": {
       "model_id": "6501c90fa49c41a38bdb9df59847006e",
       "version_major": 2,
       "version_minor": 0
      },
      "text/plain": [
       "train-00000-of-00001.parquet:   0%|          | 0.00/59.5k [00:00<?, ?B/s]"
      ]
     },
     "metadata": {},
     "output_type": "display_data"
    },
    {
     "data": {
      "application/vnd.jupyter.widget-view+json": {
       "model_id": "f255fb7a328440afb9336293d5a26b3d",
       "version_major": 2,
       "version_minor": 0
      },
      "text/plain": [
       "Generating train split:   0%|          | 0/1000 [00:00<?, ? examples/s]"
      ]
     },
     "metadata": {},
     "output_type": "display_data"
    },
    {
     "name": "stderr",
     "output_type": "stream",
     "text": [
      "2024-12-05:15:24:32,378 WARNING  [task.py:799] [Task: blimp_existential_there_quantifiers_2] metric acc is defined, but aggregation is not. using default aggregation=mean\n",
      "2024-12-05:15:24:32,379 WARNING  [task.py:811] [Task: blimp_existential_there_quantifiers_2] metric acc is defined, but higher_is_better is not. using default higher_is_better=True\n"
     ]
    },
    {
     "data": {
      "application/vnd.jupyter.widget-view+json": {
       "model_id": "d05af73838a14cfebbd33c9d47ef7ce7",
       "version_major": 2,
       "version_minor": 0
      },
      "text/plain": [
       "train-00000-of-00001.parquet:   0%|          | 0.00/52.1k [00:00<?, ?B/s]"
      ]
     },
     "metadata": {},
     "output_type": "display_data"
    },
    {
     "data": {
      "application/vnd.jupyter.widget-view+json": {
       "model_id": "11a64e20b4bf4fecb821724b10de7a34",
       "version_major": 2,
       "version_minor": 0
      },
      "text/plain": [
       "Generating train split:   0%|          | 0/1000 [00:00<?, ? examples/s]"
      ]
     },
     "metadata": {},
     "output_type": "display_data"
    },
    {
     "name": "stderr",
     "output_type": "stream",
     "text": [
      "2024-12-05:15:24:35,301 WARNING  [task.py:799] [Task: blimp_existential_there_quantifiers_1] metric acc is defined, but aggregation is not. using default aggregation=mean\n",
      "2024-12-05:15:24:35,302 WARNING  [task.py:811] [Task: blimp_existential_there_quantifiers_1] metric acc is defined, but higher_is_better is not. using default higher_is_better=True\n"
     ]
    },
    {
     "data": {
      "application/vnd.jupyter.widget-view+json": {
       "model_id": "a8750906eb8f4d2f8be2b232025df87a",
       "version_major": 2,
       "version_minor": 0
      },
      "text/plain": [
       "train-00000-of-00001.parquet:   0%|          | 0.00/51.6k [00:00<?, ?B/s]"
      ]
     },
     "metadata": {},
     "output_type": "display_data"
    },
    {
     "data": {
      "application/vnd.jupyter.widget-view+json": {
       "model_id": "02a21ba915c246c98f37aedf70b4d9a0",
       "version_major": 2,
       "version_minor": 0
      },
      "text/plain": [
       "Generating train split:   0%|          | 0/1000 [00:00<?, ? examples/s]"
      ]
     },
     "metadata": {},
     "output_type": "display_data"
    },
    {
     "name": "stderr",
     "output_type": "stream",
     "text": [
      "2024-12-05:15:24:38,585 WARNING  [task.py:799] [Task: blimp_existential_there_object_raising] metric acc is defined, but aggregation is not. using default aggregation=mean\n",
      "2024-12-05:15:24:38,586 WARNING  [task.py:811] [Task: blimp_existential_there_object_raising] metric acc is defined, but higher_is_better is not. using default higher_is_better=True\n"
     ]
    },
    {
     "data": {
      "application/vnd.jupyter.widget-view+json": {
       "model_id": "0c51dac02204433b978b6b69aa072802",
       "version_major": 2,
       "version_minor": 0
      },
      "text/plain": [
       "train-00000-of-00001.parquet:   0%|          | 0.00/76.6k [00:00<?, ?B/s]"
      ]
     },
     "metadata": {},
     "output_type": "display_data"
    },
    {
     "data": {
      "application/vnd.jupyter.widget-view+json": {
       "model_id": "be236724b6e145b5b3445b6c6e5e31ab",
       "version_major": 2,
       "version_minor": 0
      },
      "text/plain": [
       "Generating train split:   0%|          | 0/1000 [00:00<?, ? examples/s]"
      ]
     },
     "metadata": {},
     "output_type": "display_data"
    },
    {
     "name": "stderr",
     "output_type": "stream",
     "text": [
      "2024-12-05:15:24:41,491 WARNING  [task.py:799] [Task: blimp_ellipsis_n_bar_2] metric acc is defined, but aggregation is not. using default aggregation=mean\n",
      "2024-12-05:15:24:41,492 WARNING  [task.py:811] [Task: blimp_ellipsis_n_bar_2] metric acc is defined, but higher_is_better is not. using default higher_is_better=True\n"
     ]
    },
    {
     "data": {
      "application/vnd.jupyter.widget-view+json": {
       "model_id": "2250d777cfc8408c9b9f8d1b931c492a",
       "version_major": 2,
       "version_minor": 0
      },
      "text/plain": [
       "train-00000-of-00001.parquet:   0%|          | 0.00/98.9k [00:00<?, ?B/s]"
      ]
     },
     "metadata": {},
     "output_type": "display_data"
    },
    {
     "data": {
      "application/vnd.jupyter.widget-view+json": {
       "model_id": "d7278251841a48a0b5e3513fb3add81c",
       "version_major": 2,
       "version_minor": 0
      },
      "text/plain": [
       "Generating train split:   0%|          | 0/1000 [00:00<?, ? examples/s]"
      ]
     },
     "metadata": {},
     "output_type": "display_data"
    },
    {
     "name": "stderr",
     "output_type": "stream",
     "text": [
      "2024-12-05:15:24:44,163 WARNING  [task.py:799] [Task: blimp_ellipsis_n_bar_1] metric acc is defined, but aggregation is not. using default aggregation=mean\n",
      "2024-12-05:15:24:44,164 WARNING  [task.py:811] [Task: blimp_ellipsis_n_bar_1] metric acc is defined, but higher_is_better is not. using default higher_is_better=True\n"
     ]
    },
    {
     "data": {
      "application/vnd.jupyter.widget-view+json": {
       "model_id": "9d773ff685424858ba31bcc9222fef68",
       "version_major": 2,
       "version_minor": 0
      },
      "text/plain": [
       "train-00000-of-00001.parquet:   0%|          | 0.00/92.8k [00:00<?, ?B/s]"
      ]
     },
     "metadata": {},
     "output_type": "display_data"
    },
    {
     "data": {
      "application/vnd.jupyter.widget-view+json": {
       "model_id": "fd85423c8b72403f8528790a9c572710",
       "version_major": 2,
       "version_minor": 0
      },
      "text/plain": [
       "Generating train split:   0%|          | 0/1000 [00:00<?, ? examples/s]"
      ]
     },
     "metadata": {},
     "output_type": "display_data"
    },
    {
     "name": "stderr",
     "output_type": "stream",
     "text": [
      "2024-12-05:15:24:46,868 WARNING  [task.py:799] [Task: blimp_drop_argument] metric acc is defined, but aggregation is not. using default aggregation=mean\n",
      "2024-12-05:15:24:46,869 WARNING  [task.py:811] [Task: blimp_drop_argument] metric acc is defined, but higher_is_better is not. using default higher_is_better=True\n"
     ]
    },
    {
     "data": {
      "application/vnd.jupyter.widget-view+json": {
       "model_id": "e8d5f70c94a14cfca55763ce3996fe33",
       "version_major": 2,
       "version_minor": 0
      },
      "text/plain": [
       "train-00000-of-00001.parquet:   0%|          | 0.00/40.0k [00:00<?, ?B/s]"
      ]
     },
     "metadata": {},
     "output_type": "display_data"
    },
    {
     "data": {
      "application/vnd.jupyter.widget-view+json": {
       "model_id": "e15313db18044873ae654fde6931e59b",
       "version_major": 2,
       "version_minor": 0
      },
      "text/plain": [
       "Generating train split:   0%|          | 0/1000 [00:00<?, ? examples/s]"
      ]
     },
     "metadata": {},
     "output_type": "display_data"
    },
    {
     "name": "stderr",
     "output_type": "stream",
     "text": [
      "2024-12-05:15:24:49,752 WARNING  [task.py:799] [Task: blimp_distractor_agreement_relative_clause] metric acc is defined, but aggregation is not. using default aggregation=mean\n",
      "2024-12-05:15:24:49,753 WARNING  [task.py:811] [Task: blimp_distractor_agreement_relative_clause] metric acc is defined, but higher_is_better is not. using default higher_is_better=True\n"
     ]
    },
    {
     "data": {
      "application/vnd.jupyter.widget-view+json": {
       "model_id": "e70e2ee116164b1baba07660e55df9d7",
       "version_major": 2,
       "version_minor": 0
      },
      "text/plain": [
       "train-00000-of-00001.parquet:   0%|          | 0.00/77.9k [00:00<?, ?B/s]"
      ]
     },
     "metadata": {},
     "output_type": "display_data"
    },
    {
     "data": {
      "application/vnd.jupyter.widget-view+json": {
       "model_id": "c261d37a9693436c84db18eb3dd2cfd1",
       "version_major": 2,
       "version_minor": 0
      },
      "text/plain": [
       "Generating train split:   0%|          | 0/1000 [00:00<?, ? examples/s]"
      ]
     },
     "metadata": {},
     "output_type": "display_data"
    },
    {
     "name": "stderr",
     "output_type": "stream",
     "text": [
      "2024-12-05:15:24:52,505 WARNING  [task.py:799] [Task: blimp_distractor_agreement_relational_noun] metric acc is defined, but aggregation is not. using default aggregation=mean\n",
      "2024-12-05:15:24:52,506 WARNING  [task.py:811] [Task: blimp_distractor_agreement_relational_noun] metric acc is defined, but higher_is_better is not. using default higher_is_better=True\n"
     ]
    },
    {
     "data": {
      "application/vnd.jupyter.widget-view+json": {
       "model_id": "542b8d10e5ba4c5ab51487a33016f142",
       "version_major": 2,
       "version_minor": 0
      },
      "text/plain": [
       "train-00000-of-00001.parquet:   0%|          | 0.00/59.6k [00:00<?, ?B/s]"
      ]
     },
     "metadata": {},
     "output_type": "display_data"
    },
    {
     "data": {
      "application/vnd.jupyter.widget-view+json": {
       "model_id": "bf0e27bff09943dda4e22ea66bf879ce",
       "version_major": 2,
       "version_minor": 0
      },
      "text/plain": [
       "Generating train split:   0%|          | 0/1000 [00:00<?, ? examples/s]"
      ]
     },
     "metadata": {},
     "output_type": "display_data"
    },
    {
     "name": "stderr",
     "output_type": "stream",
     "text": [
      "2024-12-05:15:24:55,213 WARNING  [task.py:799] [Task: blimp_determiner_noun_agreement_with_adjective_1] metric acc is defined, but aggregation is not. using default aggregation=mean\n",
      "2024-12-05:15:24:55,213 WARNING  [task.py:811] [Task: blimp_determiner_noun_agreement_with_adjective_1] metric acc is defined, but higher_is_better is not. using default higher_is_better=True\n"
     ]
    },
    {
     "data": {
      "application/vnd.jupyter.widget-view+json": {
       "model_id": "36bb839da6594898a2785dad5fa5de05",
       "version_major": 2,
       "version_minor": 0
      },
      "text/plain": [
       "train-00000-of-00001.parquet:   0%|          | 0.00/55.7k [00:00<?, ?B/s]"
      ]
     },
     "metadata": {},
     "output_type": "display_data"
    },
    {
     "data": {
      "application/vnd.jupyter.widget-view+json": {
       "model_id": "e44a560cce6f4287b839ad18448b41ba",
       "version_major": 2,
       "version_minor": 0
      },
      "text/plain": [
       "Generating train split:   0%|          | 0/1000 [00:00<?, ? examples/s]"
      ]
     },
     "metadata": {},
     "output_type": "display_data"
    },
    {
     "name": "stderr",
     "output_type": "stream",
     "text": [
      "2024-12-05:15:24:58,184 WARNING  [task.py:799] [Task: blimp_determiner_noun_agreement_with_adj_irregular_2] metric acc is defined, but aggregation is not. using default aggregation=mean\n",
      "2024-12-05:15:24:58,185 WARNING  [task.py:811] [Task: blimp_determiner_noun_agreement_with_adj_irregular_2] metric acc is defined, but higher_is_better is not. using default higher_is_better=True\n"
     ]
    },
    {
     "data": {
      "application/vnd.jupyter.widget-view+json": {
       "model_id": "b4ccc85a94e74f76ac04dcde2a9cdbe7",
       "version_major": 2,
       "version_minor": 0
      },
      "text/plain": [
       "train-00000-of-00001.parquet:   0%|          | 0.00/54.1k [00:00<?, ?B/s]"
      ]
     },
     "metadata": {},
     "output_type": "display_data"
    },
    {
     "data": {
      "application/vnd.jupyter.widget-view+json": {
       "model_id": "59c85ddd41ac4bb2b145968ed7e90a38",
       "version_major": 2,
       "version_minor": 0
      },
      "text/plain": [
       "Generating train split:   0%|          | 0/1000 [00:00<?, ? examples/s]"
      ]
     },
     "metadata": {},
     "output_type": "display_data"
    },
    {
     "name": "stderr",
     "output_type": "stream",
     "text": [
      "2024-12-05:15:25:00,976 WARNING  [task.py:799] [Task: blimp_determiner_noun_agreement_with_adj_irregular_1] metric acc is defined, but aggregation is not. using default aggregation=mean\n",
      "2024-12-05:15:25:00,977 WARNING  [task.py:811] [Task: blimp_determiner_noun_agreement_with_adj_irregular_1] metric acc is defined, but higher_is_better is not. using default higher_is_better=True\n"
     ]
    },
    {
     "data": {
      "application/vnd.jupyter.widget-view+json": {
       "model_id": "d4ecf3d2c15544d5a12f49d45f0a357e",
       "version_major": 2,
       "version_minor": 0
      },
      "text/plain": [
       "train-00000-of-00001.parquet:   0%|          | 0.00/54.4k [00:00<?, ?B/s]"
      ]
     },
     "metadata": {},
     "output_type": "display_data"
    },
    {
     "data": {
      "application/vnd.jupyter.widget-view+json": {
       "model_id": "18d9da49edb845d7ae6b90ecc993b19f",
       "version_major": 2,
       "version_minor": 0
      },
      "text/plain": [
       "Generating train split:   0%|          | 0/1000 [00:00<?, ? examples/s]"
      ]
     },
     "metadata": {},
     "output_type": "display_data"
    },
    {
     "name": "stderr",
     "output_type": "stream",
     "text": [
      "2024-12-05:15:25:03,752 WARNING  [task.py:799] [Task: blimp_determiner_noun_agreement_with_adj_2] metric acc is defined, but aggregation is not. using default aggregation=mean\n",
      "2024-12-05:15:25:03,753 WARNING  [task.py:811] [Task: blimp_determiner_noun_agreement_with_adj_2] metric acc is defined, but higher_is_better is not. using default higher_is_better=True\n"
     ]
    },
    {
     "data": {
      "application/vnd.jupyter.widget-view+json": {
       "model_id": "0cf8213947cb4a2bac55a45e0d3ba00b",
       "version_major": 2,
       "version_minor": 0
      },
      "text/plain": [
       "train-00000-of-00001.parquet:   0%|          | 0.00/56.3k [00:00<?, ?B/s]"
      ]
     },
     "metadata": {},
     "output_type": "display_data"
    },
    {
     "data": {
      "application/vnd.jupyter.widget-view+json": {
       "model_id": "76a466339479478cb07dfd36a58330d5",
       "version_major": 2,
       "version_minor": 0
      },
      "text/plain": [
       "Generating train split:   0%|          | 0/1000 [00:00<?, ? examples/s]"
      ]
     },
     "metadata": {},
     "output_type": "display_data"
    },
    {
     "name": "stderr",
     "output_type": "stream",
     "text": [
      "2024-12-05:15:25:06,748 WARNING  [task.py:799] [Task: blimp_determiner_noun_agreement_irregular_2] metric acc is defined, but aggregation is not. using default aggregation=mean\n",
      "2024-12-05:15:25:06,749 WARNING  [task.py:811] [Task: blimp_determiner_noun_agreement_irregular_2] metric acc is defined, but higher_is_better is not. using default higher_is_better=True\n"
     ]
    },
    {
     "data": {
      "application/vnd.jupyter.widget-view+json": {
       "model_id": "dabd0e45376d46e18747392e1bb7dd51",
       "version_major": 2,
       "version_minor": 0
      },
      "text/plain": [
       "train-00000-of-00001.parquet:   0%|          | 0.00/47.4k [00:00<?, ?B/s]"
      ]
     },
     "metadata": {},
     "output_type": "display_data"
    },
    {
     "data": {
      "application/vnd.jupyter.widget-view+json": {
       "model_id": "39d6092124e145099bec5ac1fdc9e7fd",
       "version_major": 2,
       "version_minor": 0
      },
      "text/plain": [
       "Generating train split:   0%|          | 0/1000 [00:00<?, ? examples/s]"
      ]
     },
     "metadata": {},
     "output_type": "display_data"
    },
    {
     "name": "stderr",
     "output_type": "stream",
     "text": [
      "2024-12-05:15:25:09,480 WARNING  [task.py:799] [Task: blimp_determiner_noun_agreement_irregular_1] metric acc is defined, but aggregation is not. using default aggregation=mean\n",
      "2024-12-05:15:25:09,480 WARNING  [task.py:811] [Task: blimp_determiner_noun_agreement_irregular_1] metric acc is defined, but higher_is_better is not. using default higher_is_better=True\n"
     ]
    },
    {
     "data": {
      "application/vnd.jupyter.widget-view+json": {
       "model_id": "b999564606f8426c82975997a79720e3",
       "version_major": 2,
       "version_minor": 0
      },
      "text/plain": [
       "train-00000-of-00001.parquet:   0%|          | 0.00/47.3k [00:00<?, ?B/s]"
      ]
     },
     "metadata": {},
     "output_type": "display_data"
    },
    {
     "data": {
      "application/vnd.jupyter.widget-view+json": {
       "model_id": "55983ad1142946c0bd2747a8c7b32063",
       "version_major": 2,
       "version_minor": 0
      },
      "text/plain": [
       "Generating train split:   0%|          | 0/1000 [00:00<?, ? examples/s]"
      ]
     },
     "metadata": {},
     "output_type": "display_data"
    },
    {
     "name": "stderr",
     "output_type": "stream",
     "text": [
      "2024-12-05:15:25:12,160 WARNING  [task.py:799] [Task: blimp_determiner_noun_agreement_2] metric acc is defined, but aggregation is not. using default aggregation=mean\n",
      "2024-12-05:15:25:12,161 WARNING  [task.py:811] [Task: blimp_determiner_noun_agreement_2] metric acc is defined, but higher_is_better is not. using default higher_is_better=True\n"
     ]
    },
    {
     "data": {
      "application/vnd.jupyter.widget-view+json": {
       "model_id": "75c7b165de064bf3ba1253138c60fbf7",
       "version_major": 2,
       "version_minor": 0
      },
      "text/plain": [
       "train-00000-of-00001.parquet:   0%|          | 0.00/49.5k [00:00<?, ?B/s]"
      ]
     },
     "metadata": {},
     "output_type": "display_data"
    },
    {
     "data": {
      "application/vnd.jupyter.widget-view+json": {
       "model_id": "ac35b2f3f9244a01a6770ea1ed107ff7",
       "version_major": 2,
       "version_minor": 0
      },
      "text/plain": [
       "Generating train split:   0%|          | 0/1000 [00:00<?, ? examples/s]"
      ]
     },
     "metadata": {},
     "output_type": "display_data"
    },
    {
     "name": "stderr",
     "output_type": "stream",
     "text": [
      "2024-12-05:15:25:14,905 WARNING  [task.py:799] [Task: blimp_determiner_noun_agreement_1] metric acc is defined, but aggregation is not. using default aggregation=mean\n",
      "2024-12-05:15:25:14,906 WARNING  [task.py:811] [Task: blimp_determiner_noun_agreement_1] metric acc is defined, but higher_is_better is not. using default higher_is_better=True\n"
     ]
    },
    {
     "data": {
      "application/vnd.jupyter.widget-view+json": {
       "model_id": "6a4a441320a341858a670213e3d37790",
       "version_major": 2,
       "version_minor": 0
      },
      "text/plain": [
       "train-00000-of-00001.parquet:   0%|          | 0.00/49.9k [00:00<?, ?B/s]"
      ]
     },
     "metadata": {},
     "output_type": "display_data"
    },
    {
     "data": {
      "application/vnd.jupyter.widget-view+json": {
       "model_id": "f83b2ed5c9fc411b90d4088f401432eb",
       "version_major": 2,
       "version_minor": 0
      },
      "text/plain": [
       "Generating train split:   0%|          | 0/1000 [00:00<?, ? examples/s]"
      ]
     },
     "metadata": {},
     "output_type": "display_data"
    },
    {
     "name": "stderr",
     "output_type": "stream",
     "text": [
      "2024-12-05:15:25:17,756 WARNING  [task.py:799] [Task: blimp_coordinate_structure_constraint_object_extraction] metric acc is defined, but aggregation is not. using default aggregation=mean\n",
      "2024-12-05:15:25:17,757 WARNING  [task.py:811] [Task: blimp_coordinate_structure_constraint_object_extraction] metric acc is defined, but higher_is_better is not. using default higher_is_better=True\n"
     ]
    },
    {
     "data": {
      "application/vnd.jupyter.widget-view+json": {
       "model_id": "732da36a130e45bb972fcfce517cf4e4",
       "version_major": 2,
       "version_minor": 0
      },
      "text/plain": [
       "train-00000-of-00001.parquet:   0%|          | 0.00/51.6k [00:00<?, ?B/s]"
      ]
     },
     "metadata": {},
     "output_type": "display_data"
    },
    {
     "data": {
      "application/vnd.jupyter.widget-view+json": {
       "model_id": "92472d1185444ad1a8c3373b7940b9b3",
       "version_major": 2,
       "version_minor": 0
      },
      "text/plain": [
       "Generating train split:   0%|          | 0/1000 [00:00<?, ? examples/s]"
      ]
     },
     "metadata": {},
     "output_type": "display_data"
    },
    {
     "name": "stderr",
     "output_type": "stream",
     "text": [
      "2024-12-05:15:25:20,651 WARNING  [task.py:799] [Task: blimp_coordinate_structure_constraint_complex_left_branch] metric acc is defined, but aggregation is not. using default aggregation=mean\n",
      "2024-12-05:15:25:20,652 WARNING  [task.py:811] [Task: blimp_coordinate_structure_constraint_complex_left_branch] metric acc is defined, but higher_is_better is not. using default higher_is_better=True\n"
     ]
    },
    {
     "data": {
      "application/vnd.jupyter.widget-view+json": {
       "model_id": "04a8e4e0047d47e983e88348b8eee640",
       "version_major": 2,
       "version_minor": 0
      },
      "text/plain": [
       "train-00000-of-00001.parquet:   0%|          | 0.00/67.9k [00:00<?, ?B/s]"
      ]
     },
     "metadata": {},
     "output_type": "display_data"
    },
    {
     "data": {
      "application/vnd.jupyter.widget-view+json": {
       "model_id": "3e31e366790349e09c4a70a68a3df449",
       "version_major": 2,
       "version_minor": 0
      },
      "text/plain": [
       "Generating train split:   0%|          | 0/1000 [00:00<?, ? examples/s]"
      ]
     },
     "metadata": {},
     "output_type": "display_data"
    },
    {
     "name": "stderr",
     "output_type": "stream",
     "text": [
      "2024-12-05:15:25:23,621 WARNING  [task.py:799] [Task: blimp_complex_NP_island] metric acc is defined, but aggregation is not. using default aggregation=mean\n",
      "2024-12-05:15:25:23,622 WARNING  [task.py:811] [Task: blimp_complex_NP_island] metric acc is defined, but higher_is_better is not. using default higher_is_better=True\n"
     ]
    },
    {
     "data": {
      "application/vnd.jupyter.widget-view+json": {
       "model_id": "71c1fc164474479fb1eca88ca413675a",
       "version_major": 2,
       "version_minor": 0
      },
      "text/plain": [
       "train-00000-of-00001.parquet:   0%|          | 0.00/78.2k [00:00<?, ?B/s]"
      ]
     },
     "metadata": {},
     "output_type": "display_data"
    },
    {
     "data": {
      "application/vnd.jupyter.widget-view+json": {
       "model_id": "de9ad8132a964a9fbdf8433647355a19",
       "version_major": 2,
       "version_minor": 0
      },
      "text/plain": [
       "Generating train split:   0%|          | 0/1000 [00:00<?, ? examples/s]"
      ]
     },
     "metadata": {},
     "output_type": "display_data"
    },
    {
     "name": "stderr",
     "output_type": "stream",
     "text": [
      "2024-12-05:15:25:26,603 WARNING  [task.py:799] [Task: blimp_causative] metric acc is defined, but aggregation is not. using default aggregation=mean\n",
      "2024-12-05:15:25:26,604 WARNING  [task.py:811] [Task: blimp_causative] metric acc is defined, but higher_is_better is not. using default higher_is_better=True\n"
     ]
    },
    {
     "data": {
      "application/vnd.jupyter.widget-view+json": {
       "model_id": "1b1d2c7cee9c4412a586e23d78f50e08",
       "version_major": 2,
       "version_minor": 0
      },
      "text/plain": [
       "train-00000-of-00001.parquet:   0%|          | 0.00/49.0k [00:00<?, ?B/s]"
      ]
     },
     "metadata": {},
     "output_type": "display_data"
    },
    {
     "data": {
      "application/vnd.jupyter.widget-view+json": {
       "model_id": "72755bfbbf0a4f8d9a06736c90d560c5",
       "version_major": 2,
       "version_minor": 0
      },
      "text/plain": [
       "Generating train split:   0%|          | 0/1000 [00:00<?, ? examples/s]"
      ]
     },
     "metadata": {},
     "output_type": "display_data"
    },
    {
     "name": "stderr",
     "output_type": "stream",
     "text": [
      "2024-12-05:15:25:29,443 WARNING  [task.py:799] [Task: blimp_animate_subject_trans] metric acc is defined, but aggregation is not. using default aggregation=mean\n",
      "2024-12-05:15:25:29,444 WARNING  [task.py:811] [Task: blimp_animate_subject_trans] metric acc is defined, but higher_is_better is not. using default higher_is_better=True\n"
     ]
    },
    {
     "data": {
      "application/vnd.jupyter.widget-view+json": {
       "model_id": "040318e597664301a42ad16b6b22f314",
       "version_major": 2,
       "version_minor": 0
      },
      "text/plain": [
       "train-00000-of-00001.parquet:   0%|          | 0.00/49.7k [00:00<?, ?B/s]"
      ]
     },
     "metadata": {},
     "output_type": "display_data"
    },
    {
     "data": {
      "application/vnd.jupyter.widget-view+json": {
       "model_id": "169ed3867f0d45f3aed23c03a3eb0b26",
       "version_major": 2,
       "version_minor": 0
      },
      "text/plain": [
       "Generating train split:   0%|          | 0/1000 [00:00<?, ? examples/s]"
      ]
     },
     "metadata": {},
     "output_type": "display_data"
    },
    {
     "name": "stderr",
     "output_type": "stream",
     "text": [
      "2024-12-05:15:25:32,287 WARNING  [task.py:799] [Task: blimp_animate_subject_passive] metric acc is defined, but aggregation is not. using default aggregation=mean\n",
      "2024-12-05:15:25:32,288 WARNING  [task.py:811] [Task: blimp_animate_subject_passive] metric acc is defined, but higher_is_better is not. using default higher_is_better=True\n"
     ]
    },
    {
     "data": {
      "application/vnd.jupyter.widget-view+json": {
       "model_id": "b3c95280fe0a446f9ce1c160be0fae7a",
       "version_major": 2,
       "version_minor": 0
      },
      "text/plain": [
       "train-00000-of-00001.parquet:   0%|          | 0.00/47.3k [00:00<?, ?B/s]"
      ]
     },
     "metadata": {},
     "output_type": "display_data"
    },
    {
     "data": {
      "application/vnd.jupyter.widget-view+json": {
       "model_id": "56c064d5e02f4e73bdfc9dde713e6159",
       "version_major": 2,
       "version_minor": 0
      },
      "text/plain": [
       "Generating train split:   0%|          | 0/1000 [00:00<?, ? examples/s]"
      ]
     },
     "metadata": {},
     "output_type": "display_data"
    },
    {
     "name": "stderr",
     "output_type": "stream",
     "text": [
      "2024-12-05:15:25:35,304 WARNING  [task.py:799] [Task: blimp_anaphor_number_agreement] metric acc is defined, but aggregation is not. using default aggregation=mean\n",
      "2024-12-05:15:25:35,305 WARNING  [task.py:811] [Task: blimp_anaphor_number_agreement] metric acc is defined, but higher_is_better is not. using default higher_is_better=True\n"
     ]
    },
    {
     "data": {
      "application/vnd.jupyter.widget-view+json": {
       "model_id": "f631df40ba974109bab16d0b5e47e504",
       "version_major": 2,
       "version_minor": 0
      },
      "text/plain": [
       "train-00000-of-00001.parquet:   0%|          | 0.00/41.5k [00:00<?, ?B/s]"
      ]
     },
     "metadata": {},
     "output_type": "display_data"
    },
    {
     "data": {
      "application/vnd.jupyter.widget-view+json": {
       "model_id": "ab2a614553ca4bf7bc70737d780cdd3d",
       "version_major": 2,
       "version_minor": 0
      },
      "text/plain": [
       "Generating train split:   0%|          | 0/1000 [00:00<?, ? examples/s]"
      ]
     },
     "metadata": {},
     "output_type": "display_data"
    },
    {
     "name": "stderr",
     "output_type": "stream",
     "text": [
      "2024-12-05:15:25:38,379 WARNING  [task.py:799] [Task: blimp_anaphor_gender_agreement] metric acc is defined, but aggregation is not. using default aggregation=mean\n",
      "2024-12-05:15:25:38,380 WARNING  [task.py:811] [Task: blimp_anaphor_gender_agreement] metric acc is defined, but higher_is_better is not. using default higher_is_better=True\n"
     ]
    },
    {
     "data": {
      "application/vnd.jupyter.widget-view+json": {
       "model_id": "553e58eb445a4892b9621798d474a65e",
       "version_major": 2,
       "version_minor": 0
      },
      "text/plain": [
       "train-00000-of-00001.parquet:   0%|          | 0.00/39.2k [00:00<?, ?B/s]"
      ]
     },
     "metadata": {},
     "output_type": "display_data"
    },
    {
     "data": {
      "application/vnd.jupyter.widget-view+json": {
       "model_id": "9f7080a0a31e4deaa51af39e93e7eb82",
       "version_major": 2,
       "version_minor": 0
      },
      "text/plain": [
       "Generating train split:   0%|          | 0/1000 [00:00<?, ? examples/s]"
      ]
     },
     "metadata": {},
     "output_type": "display_data"
    },
    {
     "name": "stderr",
     "output_type": "stream",
     "text": [
      "2024-12-05:15:25:41,384 WARNING  [task.py:799] [Task: blimp_adjunct_island] metric acc is defined, but aggregation is not. using default aggregation=mean\n",
      "2024-12-05:15:25:41,385 WARNING  [task.py:811] [Task: blimp_adjunct_island] metric acc is defined, but higher_is_better is not. using default higher_is_better=True\n"
     ]
    },
    {
     "data": {
      "application/vnd.jupyter.widget-view+json": {
       "model_id": "7d3503c0d64242738dd5861313720c16",
       "version_major": 2,
       "version_minor": 0
      },
      "text/plain": [
       "train-00000-of-00001.parquet:   0%|          | 0.00/62.2k [00:00<?, ?B/s]"
      ]
     },
     "metadata": {},
     "output_type": "display_data"
    },
    {
     "data": {
      "application/vnd.jupyter.widget-view+json": {
       "model_id": "c9f2eecb516a44699197a29bb3d10df2",
       "version_major": 2,
       "version_minor": 0
      },
      "text/plain": [
       "Generating train split:   0%|          | 0/1000 [00:00<?, ? examples/s]"
      ]
     },
     "metadata": {},
     "output_type": "display_data"
    },
    {
     "name": "stderr",
     "output_type": "stream",
     "text": [
      "2024-12-05:15:25:43,876 INFO     [evaluator.py:266] num_fewshot has been set to 0 for blimp_adjunct_island in its config. Manual configuration will be ignored.\n",
      "2024-12-05:15:25:43,877 INFO     [evaluator.py:266] num_fewshot has been set to 0 for blimp_anaphor_gender_agreement in its config. Manual configuration will be ignored.\n",
      "2024-12-05:15:25:43,878 INFO     [evaluator.py:266] num_fewshot has been set to 0 for blimp_anaphor_number_agreement in its config. Manual configuration will be ignored.\n",
      "2024-12-05:15:25:43,878 INFO     [evaluator.py:266] num_fewshot has been set to 0 for blimp_animate_subject_passive in its config. Manual configuration will be ignored.\n",
      "2024-12-05:15:25:43,879 INFO     [evaluator.py:266] num_fewshot has been set to 0 for blimp_animate_subject_trans in its config. Manual configuration will be ignored.\n",
      "2024-12-05:15:25:43,880 INFO     [evaluator.py:266] num_fewshot has been set to 0 for blimp_causative in its config. Manual configuration will be ignored.\n",
      "2024-12-05:15:25:43,880 INFO     [evaluator.py:266] num_fewshot has been set to 0 for blimp_complex_NP_island in its config. Manual configuration will be ignored.\n",
      "2024-12-05:15:25:43,881 INFO     [evaluator.py:266] num_fewshot has been set to 0 for blimp_coordinate_structure_constraint_complex_left_branch in its config. Manual configuration will be ignored.\n",
      "2024-12-05:15:25:43,882 INFO     [evaluator.py:266] num_fewshot has been set to 0 for blimp_coordinate_structure_constraint_object_extraction in its config. Manual configuration will be ignored.\n",
      "2024-12-05:15:25:43,882 INFO     [evaluator.py:266] num_fewshot has been set to 0 for blimp_determiner_noun_agreement_1 in its config. Manual configuration will be ignored.\n",
      "2024-12-05:15:25:43,883 INFO     [evaluator.py:266] num_fewshot has been set to 0 for blimp_determiner_noun_agreement_2 in its config. Manual configuration will be ignored.\n",
      "2024-12-05:15:25:43,884 INFO     [evaluator.py:266] num_fewshot has been set to 0 for blimp_determiner_noun_agreement_irregular_1 in its config. Manual configuration will be ignored.\n",
      "2024-12-05:15:25:43,884 INFO     [evaluator.py:266] num_fewshot has been set to 0 for blimp_determiner_noun_agreement_irregular_2 in its config. Manual configuration will be ignored.\n",
      "2024-12-05:15:25:43,885 INFO     [evaluator.py:266] num_fewshot has been set to 0 for blimp_determiner_noun_agreement_with_adj_2 in its config. Manual configuration will be ignored.\n",
      "2024-12-05:15:25:43,885 INFO     [evaluator.py:266] num_fewshot has been set to 0 for blimp_determiner_noun_agreement_with_adj_irregular_1 in its config. Manual configuration will be ignored.\n",
      "2024-12-05:15:25:43,886 INFO     [evaluator.py:266] num_fewshot has been set to 0 for blimp_determiner_noun_agreement_with_adj_irregular_2 in its config. Manual configuration will be ignored.\n",
      "2024-12-05:15:25:43,887 INFO     [evaluator.py:266] num_fewshot has been set to 0 for blimp_determiner_noun_agreement_with_adjective_1 in its config. Manual configuration will be ignored.\n",
      "2024-12-05:15:25:43,887 INFO     [evaluator.py:266] num_fewshot has been set to 0 for blimp_distractor_agreement_relational_noun in its config. Manual configuration will be ignored.\n",
      "2024-12-05:15:25:43,888 INFO     [evaluator.py:266] num_fewshot has been set to 0 for blimp_distractor_agreement_relative_clause in its config. Manual configuration will be ignored.\n",
      "2024-12-05:15:25:43,889 INFO     [evaluator.py:266] num_fewshot has been set to 0 for blimp_drop_argument in its config. Manual configuration will be ignored.\n",
      "2024-12-05:15:25:43,889 INFO     [evaluator.py:266] num_fewshot has been set to 0 for blimp_ellipsis_n_bar_1 in its config. Manual configuration will be ignored.\n",
      "2024-12-05:15:25:43,890 INFO     [evaluator.py:266] num_fewshot has been set to 0 for blimp_ellipsis_n_bar_2 in its config. Manual configuration will be ignored.\n",
      "2024-12-05:15:25:43,890 INFO     [evaluator.py:266] num_fewshot has been set to 0 for blimp_existential_there_object_raising in its config. Manual configuration will be ignored.\n",
      "2024-12-05:15:25:43,891 INFO     [evaluator.py:266] num_fewshot has been set to 0 for blimp_existential_there_quantifiers_1 in its config. Manual configuration will be ignored.\n",
      "2024-12-05:15:25:43,892 INFO     [evaluator.py:266] num_fewshot has been set to 0 for blimp_existential_there_quantifiers_2 in its config. Manual configuration will be ignored.\n",
      "2024-12-05:15:25:43,892 INFO     [evaluator.py:266] num_fewshot has been set to 0 for blimp_existential_there_subject_raising in its config. Manual configuration will be ignored.\n",
      "2024-12-05:15:25:43,893 INFO     [evaluator.py:266] num_fewshot has been set to 0 for blimp_expletive_it_object_raising in its config. Manual configuration will be ignored.\n",
      "2024-12-05:15:25:43,893 INFO     [evaluator.py:266] num_fewshot has been set to 0 for blimp_inchoative in its config. Manual configuration will be ignored.\n",
      "2024-12-05:15:25:43,894 INFO     [evaluator.py:266] num_fewshot has been set to 0 for blimp_intransitive in its config. Manual configuration will be ignored.\n",
      "2024-12-05:15:25:43,895 INFO     [evaluator.py:266] num_fewshot has been set to 0 for blimp_irregular_past_participle_adjectives in its config. Manual configuration will be ignored.\n",
      "2024-12-05:15:25:43,895 INFO     [evaluator.py:266] num_fewshot has been set to 0 for blimp_irregular_past_participle_verbs in its config. Manual configuration will be ignored.\n",
      "2024-12-05:15:25:43,896 INFO     [evaluator.py:266] num_fewshot has been set to 0 for blimp_irregular_plural_subject_verb_agreement_1 in its config. Manual configuration will be ignored.\n",
      "2024-12-05:15:25:43,896 INFO     [evaluator.py:266] num_fewshot has been set to 0 for blimp_irregular_plural_subject_verb_agreement_2 in its config. Manual configuration will be ignored.\n",
      "2024-12-05:15:25:43,900 INFO     [evaluator.py:266] num_fewshot has been set to 0 for blimp_left_branch_island_echo_question in its config. Manual configuration will be ignored.\n",
      "2024-12-05:15:25:43,900 INFO     [evaluator.py:266] num_fewshot has been set to 0 for blimp_left_branch_island_simple_question in its config. Manual configuration will be ignored.\n",
      "2024-12-05:15:25:43,901 INFO     [evaluator.py:266] num_fewshot has been set to 0 for blimp_matrix_question_npi_licensor_present in its config. Manual configuration will be ignored.\n",
      "2024-12-05:15:25:43,901 INFO     [evaluator.py:266] num_fewshot has been set to 0 for blimp_npi_present_1 in its config. Manual configuration will be ignored.\n",
      "2024-12-05:15:25:43,902 INFO     [evaluator.py:266] num_fewshot has been set to 0 for blimp_npi_present_2 in its config. Manual configuration will be ignored.\n",
      "2024-12-05:15:25:43,903 INFO     [evaluator.py:266] num_fewshot has been set to 0 for blimp_only_npi_licensor_present in its config. Manual configuration will be ignored.\n",
      "2024-12-05:15:25:43,903 INFO     [evaluator.py:266] num_fewshot has been set to 0 for blimp_only_npi_scope in its config. Manual configuration will be ignored.\n",
      "2024-12-05:15:25:43,904 INFO     [evaluator.py:266] num_fewshot has been set to 0 for blimp_passive_1 in its config. Manual configuration will be ignored.\n",
      "2024-12-05:15:25:43,905 INFO     [evaluator.py:266] num_fewshot has been set to 0 for blimp_passive_2 in its config. Manual configuration will be ignored.\n",
      "2024-12-05:15:25:43,905 INFO     [evaluator.py:266] num_fewshot has been set to 0 for blimp_principle_A_c_command in its config. Manual configuration will be ignored.\n",
      "2024-12-05:15:25:43,906 INFO     [evaluator.py:266] num_fewshot has been set to 0 for blimp_principle_A_case_1 in its config. Manual configuration will be ignored.\n",
      "2024-12-05:15:25:43,906 INFO     [evaluator.py:266] num_fewshot has been set to 0 for blimp_principle_A_case_2 in its config. Manual configuration will be ignored.\n",
      "2024-12-05:15:25:43,906 INFO     [evaluator.py:266] num_fewshot has been set to 0 for blimp_principle_A_domain_1 in its config. Manual configuration will be ignored.\n",
      "2024-12-05:15:25:43,907 INFO     [evaluator.py:266] num_fewshot has been set to 0 for blimp_principle_A_domain_2 in its config. Manual configuration will be ignored.\n",
      "2024-12-05:15:25:43,907 INFO     [evaluator.py:266] num_fewshot has been set to 0 for blimp_principle_A_domain_3 in its config. Manual configuration will be ignored.\n",
      "2024-12-05:15:25:43,907 INFO     [evaluator.py:266] num_fewshot has been set to 0 for blimp_principle_A_reconstruction in its config. Manual configuration will be ignored.\n",
      "2024-12-05:15:25:43,908 INFO     [evaluator.py:266] num_fewshot has been set to 0 for blimp_regular_plural_subject_verb_agreement_1 in its config. Manual configuration will be ignored.\n",
      "2024-12-05:15:25:43,909 INFO     [evaluator.py:266] num_fewshot has been set to 0 for blimp_regular_plural_subject_verb_agreement_2 in its config. Manual configuration will be ignored.\n",
      "2024-12-05:15:25:43,909 INFO     [evaluator.py:266] num_fewshot has been set to 0 for blimp_sentential_negation_npi_licensor_present in its config. Manual configuration will be ignored.\n",
      "2024-12-05:15:25:43,910 INFO     [evaluator.py:266] num_fewshot has been set to 0 for blimp_sentential_negation_npi_scope in its config. Manual configuration will be ignored.\n",
      "2024-12-05:15:25:43,910 INFO     [evaluator.py:266] num_fewshot has been set to 0 for blimp_sentential_subject_island in its config. Manual configuration will be ignored.\n",
      "2024-12-05:15:25:43,911 INFO     [evaluator.py:266] num_fewshot has been set to 0 for blimp_superlative_quantifiers_1 in its config. Manual configuration will be ignored.\n",
      "2024-12-05:15:25:43,911 INFO     [evaluator.py:266] num_fewshot has been set to 0 for blimp_superlative_quantifiers_2 in its config. Manual configuration will be ignored.\n",
      "2024-12-05:15:25:43,912 INFO     [evaluator.py:266] num_fewshot has been set to 0 for blimp_tough_vs_raising_1 in its config. Manual configuration will be ignored.\n",
      "2024-12-05:15:25:43,912 INFO     [evaluator.py:266] num_fewshot has been set to 0 for blimp_tough_vs_raising_2 in its config. Manual configuration will be ignored.\n",
      "2024-12-05:15:25:43,912 INFO     [evaluator.py:266] num_fewshot has been set to 0 for blimp_transitive in its config. Manual configuration will be ignored.\n",
      "2024-12-05:15:25:43,913 INFO     [evaluator.py:266] num_fewshot has been set to 0 for blimp_wh_island in its config. Manual configuration will be ignored.\n",
      "2024-12-05:15:25:43,913 INFO     [evaluator.py:266] num_fewshot has been set to 0 for blimp_wh_questions_object_gap in its config. Manual configuration will be ignored.\n",
      "2024-12-05:15:25:43,914 INFO     [evaluator.py:266] num_fewshot has been set to 0 for blimp_wh_questions_subject_gap in its config. Manual configuration will be ignored.\n",
      "2024-12-05:15:25:43,914 INFO     [evaluator.py:266] num_fewshot has been set to 0 for blimp_wh_questions_subject_gap_long_distance in its config. Manual configuration will be ignored.\n",
      "2024-12-05:15:25:43,914 INFO     [evaluator.py:266] num_fewshot has been set to 0 for blimp_wh_vs_that_no_gap in its config. Manual configuration will be ignored.\n",
      "2024-12-05:15:25:43,915 INFO     [evaluator.py:266] num_fewshot has been set to 0 for blimp_wh_vs_that_no_gap_long_distance in its config. Manual configuration will be ignored.\n",
      "2024-12-05:15:25:43,915 INFO     [evaluator.py:266] num_fewshot has been set to 0 for blimp_wh_vs_that_with_gap in its config. Manual configuration will be ignored.\n",
      "2024-12-05:15:25:43,915 INFO     [evaluator.py:266] num_fewshot has been set to 0 for blimp_wh_vs_that_with_gap_long_distance in its config. Manual configuration will be ignored.\n",
      "2024-12-05:15:25:43,916 WARNING  [evaluator.py:270] Overwriting default num_fewshot of lambada_openai from None to 0\n",
      "2024-12-05:15:25:43,916 WARNING  [evaluator.py:270] Overwriting default num_fewshot of lambada_standard from None to 0\n",
      "2024-12-05:15:25:43,916 WARNING  [evaluator.py:270] Overwriting default num_fewshot of hellaswag from None to 0\n",
      "2024-12-05:15:25:43,917 WARNING  [evaluator.py:270] Overwriting default num_fewshot of winogrande from None to 0\n",
      "2024-12-05:15:25:43,917 WARNING  [evaluator.py:270] Overwriting default num_fewshot of mmlu_high_school_mathematics from None to 0\n",
      "2024-12-05:15:25:43,917 WARNING  [evaluator.py:270] Overwriting default num_fewshot of mmlu_electrical_engineering from None to 0\n",
      "2024-12-05:15:25:43,917 WARNING  [evaluator.py:270] Overwriting default num_fewshot of mmlu_elementary_mathematics from None to 0\n",
      "2024-12-05:15:25:43,918 WARNING  [evaluator.py:270] Overwriting default num_fewshot of mmlu_high_school_statistics from None to 0\n",
      "2024-12-05:15:25:43,918 WARNING  [evaluator.py:270] Overwriting default num_fewshot of mmlu_abstract_algebra from None to 0\n",
      "2024-12-05:15:25:43,918 WARNING  [evaluator.py:270] Overwriting default num_fewshot of mmlu_machine_learning from None to 0\n",
      "2024-12-05:15:25:43,919 WARNING  [evaluator.py:270] Overwriting default num_fewshot of mmlu_college_mathematics from None to 0\n",
      "2024-12-05:15:25:43,919 WARNING  [evaluator.py:270] Overwriting default num_fewshot of mmlu_conceptual_physics from None to 0\n",
      "2024-12-05:15:25:43,919 WARNING  [evaluator.py:270] Overwriting default num_fewshot of mmlu_astronomy from None to 0\n",
      "2024-12-05:15:25:43,920 WARNING  [evaluator.py:270] Overwriting default num_fewshot of mmlu_college_computer_science from None to 0\n",
      "2024-12-05:15:25:43,920 WARNING  [evaluator.py:270] Overwriting default num_fewshot of mmlu_high_school_physics from None to 0\n",
      "2024-12-05:15:25:43,922 WARNING  [evaluator.py:270] Overwriting default num_fewshot of mmlu_high_school_biology from None to 0\n",
      "2024-12-05:15:25:43,922 WARNING  [evaluator.py:270] Overwriting default num_fewshot of mmlu_college_chemistry from None to 0\n",
      "2024-12-05:15:25:43,923 WARNING  [evaluator.py:270] Overwriting default num_fewshot of mmlu_high_school_computer_science from None to 0\n",
      "2024-12-05:15:25:43,923 WARNING  [evaluator.py:270] Overwriting default num_fewshot of mmlu_computer_security from None to 0\n",
      "2024-12-05:15:25:43,923 WARNING  [evaluator.py:270] Overwriting default num_fewshot of mmlu_anatomy from None to 0\n",
      "2024-12-05:15:25:43,924 WARNING  [evaluator.py:270] Overwriting default num_fewshot of mmlu_college_physics from None to 0\n",
      "2024-12-05:15:25:43,924 WARNING  [evaluator.py:270] Overwriting default num_fewshot of mmlu_high_school_chemistry from None to 0\n",
      "2024-12-05:15:25:43,924 WARNING  [evaluator.py:270] Overwriting default num_fewshot of mmlu_college_biology from None to 0\n",
      "2024-12-05:15:25:43,925 WARNING  [evaluator.py:270] Overwriting default num_fewshot of mmlu_miscellaneous from None to 0\n",
      "2024-12-05:15:25:43,925 WARNING  [evaluator.py:270] Overwriting default num_fewshot of mmlu_professional_medicine from None to 0\n",
      "2024-12-05:15:25:43,926 WARNING  [evaluator.py:270] Overwriting default num_fewshot of mmlu_virology from None to 0\n",
      "2024-12-05:15:25:43,926 WARNING  [evaluator.py:270] Overwriting default num_fewshot of mmlu_college_medicine from None to 0\n",
      "2024-12-05:15:25:43,927 WARNING  [evaluator.py:270] Overwriting default num_fewshot of mmlu_professional_accounting from None to 0\n",
      "2024-12-05:15:25:43,927 WARNING  [evaluator.py:270] Overwriting default num_fewshot of mmlu_management from None to 0\n",
      "2024-12-05:15:25:43,927 WARNING  [evaluator.py:270] Overwriting default num_fewshot of mmlu_human_aging from None to 0\n",
      "2024-12-05:15:25:43,928 WARNING  [evaluator.py:270] Overwriting default num_fewshot of mmlu_business_ethics from None to 0\n",
      "2024-12-05:15:25:43,928 WARNING  [evaluator.py:270] Overwriting default num_fewshot of mmlu_clinical_knowledge from None to 0\n",
      "2024-12-05:15:25:43,928 WARNING  [evaluator.py:270] Overwriting default num_fewshot of mmlu_marketing from None to 0\n",
      "2024-12-05:15:25:43,929 WARNING  [evaluator.py:270] Overwriting default num_fewshot of mmlu_nutrition from None to 0\n",
      "2024-12-05:15:25:43,929 WARNING  [evaluator.py:270] Overwriting default num_fewshot of mmlu_global_facts from None to 0\n",
      "2024-12-05:15:25:43,929 WARNING  [evaluator.py:270] Overwriting default num_fewshot of mmlu_medical_genetics from None to 0\n",
      "2024-12-05:15:25:43,930 WARNING  [evaluator.py:270] Overwriting default num_fewshot of mmlu_human_sexuality from None to 0\n",
      "2024-12-05:15:25:43,930 WARNING  [evaluator.py:270] Overwriting default num_fewshot of mmlu_professional_psychology from None to 0\n",
      "2024-12-05:15:25:43,930 WARNING  [evaluator.py:270] Overwriting default num_fewshot of mmlu_security_studies from None to 0\n",
      "2024-12-05:15:25:43,931 WARNING  [evaluator.py:270] Overwriting default num_fewshot of mmlu_high_school_geography from None to 0\n",
      "2024-12-05:15:25:43,931 WARNING  [evaluator.py:270] Overwriting default num_fewshot of mmlu_high_school_government_and_politics from None to 0\n",
      "2024-12-05:15:25:43,931 WARNING  [evaluator.py:270] Overwriting default num_fewshot of mmlu_high_school_macroeconomics from None to 0\n",
      "2024-12-05:15:25:43,932 WARNING  [evaluator.py:270] Overwriting default num_fewshot of mmlu_econometrics from None to 0\n",
      "2024-12-05:15:25:43,932 WARNING  [evaluator.py:270] Overwriting default num_fewshot of mmlu_us_foreign_policy from None to 0\n",
      "2024-12-05:15:25:43,932 WARNING  [evaluator.py:270] Overwriting default num_fewshot of mmlu_high_school_psychology from None to 0\n",
      "2024-12-05:15:25:43,933 WARNING  [evaluator.py:270] Overwriting default num_fewshot of mmlu_sociology from None to 0\n",
      "2024-12-05:15:25:43,933 WARNING  [evaluator.py:270] Overwriting default num_fewshot of mmlu_public_relations from None to 0\n",
      "2024-12-05:15:25:43,933 WARNING  [evaluator.py:270] Overwriting default num_fewshot of mmlu_high_school_microeconomics from None to 0\n",
      "2024-12-05:15:25:43,934 WARNING  [evaluator.py:270] Overwriting default num_fewshot of mmlu_international_law from None to 0\n",
      "2024-12-05:15:25:43,934 WARNING  [evaluator.py:270] Overwriting default num_fewshot of mmlu_professional_law from None to 0\n",
      "2024-12-05:15:25:43,935 WARNING  [evaluator.py:270] Overwriting default num_fewshot of mmlu_prehistory from None to 0\n",
      "2024-12-05:15:25:43,936 WARNING  [evaluator.py:270] Overwriting default num_fewshot of mmlu_logical_fallacies from None to 0\n",
      "2024-12-05:15:25:43,936 WARNING  [evaluator.py:270] Overwriting default num_fewshot of mmlu_formal_logic from None to 0\n",
      "2024-12-05:15:25:43,937 WARNING  [evaluator.py:270] Overwriting default num_fewshot of mmlu_high_school_us_history from None to 0\n",
      "2024-12-05:15:25:43,937 WARNING  [evaluator.py:270] Overwriting default num_fewshot of mmlu_moral_scenarios from None to 0\n",
      "2024-12-05:15:25:43,937 WARNING  [evaluator.py:270] Overwriting default num_fewshot of mmlu_high_school_world_history from None to 0\n",
      "2024-12-05:15:25:43,938 WARNING  [evaluator.py:270] Overwriting default num_fewshot of mmlu_world_religions from None to 0\n",
      "2024-12-05:15:25:43,938 WARNING  [evaluator.py:270] Overwriting default num_fewshot of mmlu_philosophy from None to 0\n",
      "2024-12-05:15:25:43,939 WARNING  [evaluator.py:270] Overwriting default num_fewshot of mmlu_moral_disputes from None to 0\n",
      "2024-12-05:15:25:43,939 WARNING  [evaluator.py:270] Overwriting default num_fewshot of mmlu_jurisprudence from None to 0\n",
      "2024-12-05:15:25:43,939 WARNING  [evaluator.py:270] Overwriting default num_fewshot of mmlu_high_school_european_history from None to 0\n",
      "2024-12-05:15:25:43,940 WARNING  [evaluator.py:270] Overwriting default num_fewshot of arc_challenge from None to 0\n",
      "2024-12-05:15:25:43,952 INFO     [task.py:415] Building contexts for blimp_adjunct_island on rank 0...\n",
      "100%|██████████| 1000/1000 [00:00<00:00, 1564.38it/s]\n",
      "2024-12-05:15:25:44,672 INFO     [task.py:415] Building contexts for blimp_anaphor_gender_agreement on rank 0...\n",
      "100%|██████████| 1000/1000 [00:00<00:00, 1664.38it/s]\n",
      "2024-12-05:15:25:45,340 INFO     [task.py:415] Building contexts for blimp_anaphor_number_agreement on rank 0...\n",
      "100%|██████████| 1000/1000 [00:00<00:00, 1680.70it/s]\n",
      "2024-12-05:15:25:46,001 INFO     [task.py:415] Building contexts for blimp_animate_subject_passive on rank 0...\n",
      "100%|██████████| 1000/1000 [00:00<00:00, 1690.49it/s]\n",
      "2024-12-05:15:25:46,659 INFO     [task.py:415] Building contexts for blimp_animate_subject_trans on rank 0...\n",
      "100%|██████████| 1000/1000 [00:00<00:00, 2009.96it/s]\n",
      "2024-12-05:15:25:47,213 INFO     [task.py:415] Building contexts for blimp_causative on rank 0...\n",
      "100%|██████████| 1000/1000 [00:00<00:00, 1987.45it/s]\n",
      "2024-12-05:15:25:47,772 INFO     [task.py:415] Building contexts for blimp_complex_NP_island on rank 0...\n",
      "100%|██████████| 1000/1000 [00:00<00:00, 1980.91it/s]\n",
      "2024-12-05:15:25:48,397 INFO     [task.py:415] Building contexts for blimp_coordinate_structure_constraint_complex_left_branch on rank 0...\n",
      "100%|██████████| 1000/1000 [00:00<00:00, 1988.13it/s]\n",
      "2024-12-05:15:25:48,957 INFO     [task.py:415] Building contexts for blimp_coordinate_structure_constraint_object_extraction on rank 0...\n",
      "100%|██████████| 1000/1000 [00:00<00:00, 2004.78it/s]\n",
      "2024-12-05:15:25:49,512 INFO     [task.py:415] Building contexts for blimp_determiner_noun_agreement_1 on rank 0...\n",
      "100%|██████████| 1000/1000 [00:00<00:00, 1971.96it/s]\n",
      "2024-12-05:15:25:50,078 INFO     [task.py:415] Building contexts for blimp_determiner_noun_agreement_2 on rank 0...\n",
      "100%|██████████| 1000/1000 [00:00<00:00, 1969.98it/s]\n",
      "2024-12-05:15:25:50,643 INFO     [task.py:415] Building contexts for blimp_determiner_noun_agreement_irregular_1 on rank 0...\n",
      "100%|██████████| 1000/1000 [00:00<00:00, 1988.48it/s]\n",
      "2024-12-05:15:25:51,202 INFO     [task.py:415] Building contexts for blimp_determiner_noun_agreement_irregular_2 on rank 0...\n",
      "100%|██████████| 1000/1000 [00:00<00:00, 1999.76it/s]\n",
      "2024-12-05:15:25:51,759 INFO     [task.py:415] Building contexts for blimp_determiner_noun_agreement_with_adj_2 on rank 0...\n",
      "100%|██████████| 1000/1000 [00:00<00:00, 1993.24it/s]\n",
      "2024-12-05:15:25:52,317 INFO     [task.py:415] Building contexts for blimp_determiner_noun_agreement_with_adj_irregular_1 on rank 0...\n",
      "100%|██████████| 1000/1000 [00:00<00:00, 1990.68it/s]\n",
      "2024-12-05:15:25:52,877 INFO     [task.py:415] Building contexts for blimp_determiner_noun_agreement_with_adj_irregular_2 on rank 0...\n",
      "100%|██████████| 1000/1000 [00:00<00:00, 2006.11it/s]\n",
      "2024-12-05:15:25:53,431 INFO     [task.py:415] Building contexts for blimp_determiner_noun_agreement_with_adjective_1 on rank 0...\n",
      "100%|██████████| 1000/1000 [00:00<00:00, 1277.07it/s]\n",
      "2024-12-05:15:25:54,271 INFO     [task.py:415] Building contexts for blimp_distractor_agreement_relational_noun on rank 0...\n",
      "100%|██████████| 1000/1000 [00:00<00:00, 2010.44it/s]\n",
      "2024-12-05:15:25:54,825 INFO     [task.py:415] Building contexts for blimp_distractor_agreement_relative_clause on rank 0...\n",
      "100%|██████████| 1000/1000 [00:00<00:00, 2008.81it/s]\n",
      "2024-12-05:15:25:55,379 INFO     [task.py:415] Building contexts for blimp_drop_argument on rank 0...\n",
      "100%|██████████| 1000/1000 [00:00<00:00, 2020.06it/s]\n",
      "2024-12-05:15:25:55,930 INFO     [task.py:415] Building contexts for blimp_ellipsis_n_bar_1 on rank 0...\n",
      "100%|██████████| 1000/1000 [00:00<00:00, 2012.14it/s]\n",
      "2024-12-05:15:25:56,483 INFO     [task.py:415] Building contexts for blimp_ellipsis_n_bar_2 on rank 0...\n",
      "100%|██████████| 1000/1000 [00:00<00:00, 1988.07it/s]\n",
      "2024-12-05:15:25:57,043 INFO     [task.py:415] Building contexts for blimp_existential_there_object_raising on rank 0...\n",
      "100%|██████████| 1000/1000 [00:00<00:00, 2014.62it/s]\n",
      "2024-12-05:15:25:57,596 INFO     [task.py:415] Building contexts for blimp_existential_there_quantifiers_1 on rank 0...\n",
      "100%|██████████| 1000/1000 [00:00<00:00, 2019.47it/s]\n",
      "2024-12-05:15:25:58,147 INFO     [task.py:415] Building contexts for blimp_existential_there_quantifiers_2 on rank 0...\n",
      "100%|██████████| 1000/1000 [00:00<00:00, 2011.89it/s]\n",
      "2024-12-05:15:25:58,701 INFO     [task.py:415] Building contexts for blimp_existential_there_subject_raising on rank 0...\n",
      "100%|██████████| 1000/1000 [00:00<00:00, 1985.12it/s]\n",
      "2024-12-05:15:25:59,261 INFO     [task.py:415] Building contexts for blimp_expletive_it_object_raising on rank 0...\n",
      "100%|██████████| 1000/1000 [00:00<00:00, 1998.60it/s]\n",
      "2024-12-05:15:25:59,817 INFO     [task.py:415] Building contexts for blimp_inchoative on rank 0...\n",
      "100%|██████████| 1000/1000 [00:00<00:00, 2011.28it/s]\n",
      "2024-12-05:15:26:00,370 INFO     [task.py:415] Building contexts for blimp_intransitive on rank 0...\n",
      "100%|██████████| 1000/1000 [00:00<00:00, 2014.48it/s]\n",
      "2024-12-05:15:26:00,923 INFO     [task.py:415] Building contexts for blimp_irregular_past_participle_adjectives on rank 0...\n",
      "100%|██████████| 1000/1000 [00:00<00:00, 2022.15it/s]\n",
      "2024-12-05:15:26:01,473 INFO     [task.py:415] Building contexts for blimp_irregular_past_participle_verbs on rank 0...\n",
      "100%|██████████| 1000/1000 [00:00<00:00, 1682.52it/s]\n",
      "2024-12-05:15:26:02,123 INFO     [task.py:415] Building contexts for blimp_irregular_plural_subject_verb_agreement_1 on rank 0...\n",
      "100%|██████████| 1000/1000 [00:00<00:00, 1690.34it/s]\n",
      "2024-12-05:15:26:02,780 INFO     [task.py:415] Building contexts for blimp_irregular_plural_subject_verb_agreement_2 on rank 0...\n",
      "100%|██████████| 1000/1000 [00:00<00:00, 1691.75it/s]\n",
      "2024-12-05:15:26:03,435 INFO     [task.py:415] Building contexts for blimp_left_branch_island_echo_question on rank 0...\n",
      "100%|██████████| 1000/1000 [00:00<00:00, 2008.41it/s]\n",
      "2024-12-05:15:26:03,988 INFO     [task.py:415] Building contexts for blimp_left_branch_island_simple_question on rank 0...\n",
      "100%|██████████| 1000/1000 [00:00<00:00, 2028.79it/s]\n",
      "2024-12-05:15:26:04,535 INFO     [task.py:415] Building contexts for blimp_matrix_question_npi_licensor_present on rank 0...\n",
      "100%|██████████| 1000/1000 [00:00<00:00, 2003.64it/s]\n",
      "2024-12-05:15:26:05,088 INFO     [task.py:415] Building contexts for blimp_npi_present_1 on rank 0...\n",
      "100%|██████████| 1000/1000 [00:00<00:00, 2012.65it/s]\n",
      "2024-12-05:15:26:05,641 INFO     [task.py:415] Building contexts for blimp_npi_present_2 on rank 0...\n",
      "100%|██████████| 1000/1000 [00:00<00:00, 2027.18it/s]\n",
      "2024-12-05:15:26:06,190 INFO     [task.py:415] Building contexts for blimp_only_npi_licensor_present on rank 0...\n",
      "100%|██████████| 1000/1000 [00:00<00:00, 2018.54it/s]\n",
      "2024-12-05:15:26:06,739 INFO     [task.py:415] Building contexts for blimp_only_npi_scope on rank 0...\n",
      "100%|██████████| 1000/1000 [00:00<00:00, 2016.99it/s]\n",
      "2024-12-05:15:26:07,289 INFO     [task.py:415] Building contexts for blimp_passive_1 on rank 0...\n",
      "100%|██████████| 1000/1000 [00:00<00:00, 2024.88it/s]\n",
      "2024-12-05:15:26:07,836 INFO     [task.py:415] Building contexts for blimp_passive_2 on rank 0...\n",
      "100%|██████████| 1000/1000 [00:00<00:00, 2032.46it/s]\n",
      "2024-12-05:15:26:08,382 INFO     [task.py:415] Building contexts for blimp_principle_A_c_command on rank 0...\n",
      "100%|██████████| 1000/1000 [00:00<00:00, 2000.48it/s]\n",
      "2024-12-05:15:26:08,936 INFO     [task.py:415] Building contexts for blimp_principle_A_case_1 on rank 0...\n",
      "100%|██████████| 1000/1000 [00:00<00:00, 2017.20it/s]\n",
      "2024-12-05:15:26:09,486 INFO     [task.py:415] Building contexts for blimp_principle_A_case_2 on rank 0...\n",
      "100%|██████████| 1000/1000 [00:00<00:00, 2017.02it/s]\n",
      "2024-12-05:15:26:10,048 INFO     [task.py:415] Building contexts for blimp_principle_A_domain_1 on rank 0...\n",
      "100%|██████████| 1000/1000 [00:00<00:00, 2026.40it/s]\n",
      "2024-12-05:15:26:10,597 INFO     [task.py:415] Building contexts for blimp_principle_A_domain_2 on rank 0...\n",
      "100%|██████████| 1000/1000 [00:00<00:00, 1230.48it/s]\n",
      "2024-12-05:15:26:11,466 INFO     [task.py:415] Building contexts for blimp_principle_A_domain_3 on rank 0...\n",
      "100%|██████████| 1000/1000 [00:00<00:00, 2019.41it/s]\n",
      "2024-12-05:15:26:12,016 INFO     [task.py:415] Building contexts for blimp_principle_A_reconstruction on rank 0...\n",
      "100%|██████████| 1000/1000 [00:00<00:00, 2022.77it/s]\n",
      "2024-12-05:15:26:12,567 INFO     [task.py:415] Building contexts for blimp_regular_plural_subject_verb_agreement_1 on rank 0...\n",
      "100%|██████████| 1000/1000 [00:00<00:00, 2030.27it/s]\n",
      "2024-12-05:15:26:13,115 INFO     [task.py:415] Building contexts for blimp_regular_plural_subject_verb_agreement_2 on rank 0...\n",
      "100%|██████████| 1000/1000 [00:00<00:00, 2019.34it/s]\n",
      "2024-12-05:15:26:13,667 INFO     [task.py:415] Building contexts for blimp_sentential_negation_npi_licensor_present on rank 0...\n",
      "100%|██████████| 1000/1000 [00:00<00:00, 2025.16it/s]\n",
      "2024-12-05:15:26:14,217 INFO     [task.py:415] Building contexts for blimp_sentential_negation_npi_scope on rank 0...\n",
      "100%|██████████| 1000/1000 [00:00<00:00, 2023.82it/s]\n",
      "2024-12-05:15:26:14,767 INFO     [task.py:415] Building contexts for blimp_sentential_subject_island on rank 0...\n",
      "100%|██████████| 1000/1000 [00:00<00:00, 2024.15it/s]\n",
      "2024-12-05:15:26:15,315 INFO     [task.py:415] Building contexts for blimp_superlative_quantifiers_1 on rank 0...\n",
      "100%|██████████| 1000/1000 [00:00<00:00, 2025.64it/s]\n",
      "2024-12-05:15:26:15,865 INFO     [task.py:415] Building contexts for blimp_superlative_quantifiers_2 on rank 0...\n",
      "100%|██████████| 1000/1000 [00:00<00:00, 2023.54it/s]\n",
      "2024-12-05:15:26:16,414 INFO     [task.py:415] Building contexts for blimp_tough_vs_raising_1 on rank 0...\n",
      "100%|██████████| 1000/1000 [00:00<00:00, 2021.72it/s]\n",
      "2024-12-05:15:26:16,965 INFO     [task.py:415] Building contexts for blimp_tough_vs_raising_2 on rank 0...\n",
      "100%|██████████| 1000/1000 [00:00<00:00, 2028.73it/s]\n",
      "2024-12-05:15:26:17,514 INFO     [task.py:415] Building contexts for blimp_transitive on rank 0...\n",
      "100%|██████████| 1000/1000 [00:00<00:00, 2030.18it/s]\n",
      "2024-12-05:15:26:18,063 INFO     [task.py:415] Building contexts for blimp_wh_island on rank 0...\n",
      "100%|██████████| 1000/1000 [00:00<00:00, 2032.27it/s]\n",
      "2024-12-05:15:26:18,611 INFO     [task.py:415] Building contexts for blimp_wh_questions_object_gap on rank 0...\n",
      "100%|██████████| 1000/1000 [00:00<00:00, 2029.35it/s]\n",
      "2024-12-05:15:26:19,160 INFO     [task.py:415] Building contexts for blimp_wh_questions_subject_gap on rank 0...\n",
      "100%|██████████| 1000/1000 [00:00<00:00, 2021.41it/s]\n",
      "2024-12-05:15:26:19,710 INFO     [task.py:415] Building contexts for blimp_wh_questions_subject_gap_long_distance on rank 0...\n",
      "100%|██████████| 1000/1000 [00:00<00:00, 2024.39it/s]\n",
      "2024-12-05:15:26:20,260 INFO     [task.py:415] Building contexts for blimp_wh_vs_that_no_gap on rank 0...\n",
      "100%|██████████| 1000/1000 [00:00<00:00, 2021.99it/s]\n",
      "2024-12-05:15:26:20,811 INFO     [task.py:415] Building contexts for blimp_wh_vs_that_no_gap_long_distance on rank 0...\n",
      "100%|██████████| 1000/1000 [00:00<00:00, 2008.50it/s]\n",
      "2024-12-05:15:26:21,365 INFO     [task.py:415] Building contexts for blimp_wh_vs_that_with_gap on rank 0...\n",
      "100%|██████████| 1000/1000 [00:00<00:00, 2028.47it/s]\n",
      "2024-12-05:15:26:21,914 INFO     [task.py:415] Building contexts for blimp_wh_vs_that_with_gap_long_distance on rank 0...\n",
      "100%|██████████| 1000/1000 [00:00<00:00, 2024.84it/s]\n",
      "2024-12-05:15:26:22,463 INFO     [task.py:415] Building contexts for lambada_openai on rank 0...\n",
      "100%|██████████| 5153/5153 [00:06<00:00, 854.27it/s]\n",
      "2024-12-05:15:26:28,548 INFO     [task.py:415] Building contexts for lambada_standard on rank 0...\n",
      "100%|██████████| 5153/5153 [00:06<00:00, 849.67it/s]\n",
      "2024-12-05:15:26:34,690 INFO     [task.py:415] Building contexts for hellaswag on rank 0...\n",
      "100%|██████████| 10042/10042 [00:02<00:00, 3521.44it/s]\n",
      "2024-12-05:15:26:38,350 INFO     [task.py:415] Building contexts for winogrande on rank 0...\n",
      "100%|██████████| 1267/1267 [00:00<00:00, 139703.55it/s]\n",
      "2024-12-05:15:26:38,394 INFO     [task.py:415] Building contexts for mmlu_high_school_mathematics on rank 0...\n",
      "100%|██████████| 270/270 [00:00<00:00, 954.01it/s]\n",
      "2024-12-05:15:26:38,689 INFO     [task.py:415] Building contexts for mmlu_electrical_engineering on rank 0...\n",
      "100%|██████████| 145/145 [00:00<00:00, 972.84it/s]\n",
      "2024-12-05:15:26:38,844 INFO     [task.py:415] Building contexts for mmlu_elementary_mathematics on rank 0...\n",
      "100%|██████████| 378/378 [00:00<00:00, 977.13it/s]\n",
      "2024-12-05:15:26:39,245 INFO     [task.py:415] Building contexts for mmlu_high_school_statistics on rank 0...\n",
      "100%|██████████| 216/216 [00:00<00:00, 982.00it/s]\n",
      "2024-12-05:15:26:39,474 INFO     [task.py:415] Building contexts for mmlu_abstract_algebra on rank 0...\n",
      "100%|██████████| 100/100 [00:00<00:00, 979.49it/s]\n",
      "2024-12-05:15:26:39,582 INFO     [task.py:415] Building contexts for mmlu_machine_learning on rank 0...\n",
      "100%|██████████| 112/112 [00:00<00:00, 975.23it/s]\n",
      "2024-12-05:15:26:39,703 INFO     [task.py:415] Building contexts for mmlu_college_mathematics on rank 0...\n",
      "100%|██████████| 100/100 [00:00<00:00, 979.62it/s]\n",
      "2024-12-05:15:26:39,812 INFO     [task.py:415] Building contexts for mmlu_conceptual_physics on rank 0...\n",
      "100%|██████████| 235/235 [00:00<00:00, 975.99it/s]\n",
      "2024-12-05:15:26:40,063 INFO     [task.py:415] Building contexts for mmlu_astronomy on rank 0...\n",
      "100%|██████████| 152/152 [00:00<00:00, 975.42it/s]\n",
      "2024-12-05:15:26:40,226 INFO     [task.py:415] Building contexts for mmlu_college_computer_science on rank 0...\n",
      "100%|██████████| 100/100 [00:00<00:00, 977.26it/s]\n",
      "2024-12-05:15:26:40,335 INFO     [task.py:415] Building contexts for mmlu_high_school_physics on rank 0...\n",
      "100%|██████████| 151/151 [00:00<00:00, 974.98it/s]\n",
      "2024-12-05:15:26:40,498 INFO     [task.py:415] Building contexts for mmlu_high_school_biology on rank 0...\n",
      "100%|██████████| 310/310 [00:00<00:00, 977.81it/s]\n",
      "2024-12-05:15:26:40,827 INFO     [task.py:415] Building contexts for mmlu_college_chemistry on rank 0...\n",
      "100%|██████████| 100/100 [00:00<00:00, 983.53it/s]\n",
      "2024-12-05:15:26:40,934 INFO     [task.py:415] Building contexts for mmlu_high_school_computer_science on rank 0...\n",
      "100%|██████████| 100/100 [00:00<00:00, 983.17it/s]\n",
      "2024-12-05:15:26:41,041 INFO     [task.py:415] Building contexts for mmlu_computer_security on rank 0...\n",
      "100%|██████████| 100/100 [00:00<00:00, 989.72it/s]\n",
      "2024-12-05:15:26:41,147 INFO     [task.py:415] Building contexts for mmlu_anatomy on rank 0...\n",
      "100%|██████████| 135/135 [00:00<00:00, 981.31it/s]\n",
      "2024-12-05:15:26:41,290 INFO     [task.py:415] Building contexts for mmlu_college_physics on rank 0...\n",
      "100%|██████████| 102/102 [00:00<00:00, 981.36it/s]\n",
      "2024-12-05:15:26:41,399 INFO     [task.py:415] Building contexts for mmlu_high_school_chemistry on rank 0...\n",
      "100%|██████████| 203/203 [00:00<00:00, 979.14it/s]\n",
      "2024-12-05:15:26:41,614 INFO     [task.py:415] Building contexts for mmlu_college_biology on rank 0...\n",
      "100%|██████████| 144/144 [00:00<00:00, 980.34it/s]\n",
      "2024-12-05:15:26:41,768 INFO     [task.py:415] Building contexts for mmlu_miscellaneous on rank 0...\n",
      "100%|██████████| 783/783 [00:00<00:00, 978.51it/s]\n",
      "2024-12-05:15:26:42,595 INFO     [task.py:415] Building contexts for mmlu_professional_medicine on rank 0...\n",
      "100%|██████████| 272/272 [00:00<00:00, 977.12it/s]\n",
      "2024-12-05:15:26:42,885 INFO     [task.py:415] Building contexts for mmlu_virology on rank 0...\n",
      "100%|██████████| 166/166 [00:00<00:00, 983.29it/s]\n",
      "2024-12-05:15:26:43,062 INFO     [task.py:415] Building contexts for mmlu_college_medicine on rank 0...\n",
      "100%|██████████| 173/173 [00:00<00:00, 985.05it/s]\n",
      "2024-12-05:15:26:43,246 INFO     [task.py:415] Building contexts for mmlu_professional_accounting on rank 0...\n",
      "100%|██████████| 282/282 [00:00<00:00, 986.56it/s]\n",
      "2024-12-05:15:26:43,543 INFO     [task.py:415] Building contexts for mmlu_management on rank 0...\n",
      "100%|██████████| 103/103 [00:00<00:00, 981.22it/s]\n",
      "2024-12-05:15:26:43,654 INFO     [task.py:415] Building contexts for mmlu_human_aging on rank 0...\n",
      "100%|██████████| 223/223 [00:00<00:00, 984.19it/s]\n",
      "2024-12-05:15:26:43,889 INFO     [task.py:415] Building contexts for mmlu_business_ethics on rank 0...\n",
      "100%|██████████| 100/100 [00:00<00:00, 974.85it/s]\n",
      "2024-12-05:15:26:43,998 INFO     [task.py:415] Building contexts for mmlu_clinical_knowledge on rank 0...\n",
      "100%|██████████| 265/265 [00:00<00:00, 977.56it/s]\n",
      "2024-12-05:15:26:44,280 INFO     [task.py:415] Building contexts for mmlu_marketing on rank 0...\n",
      "100%|██████████| 234/234 [00:00<00:00, 979.33it/s]\n",
      "2024-12-05:15:26:44,529 INFO     [task.py:415] Building contexts for mmlu_nutrition on rank 0...\n",
      "100%|██████████| 306/306 [00:00<00:00, 977.16it/s]\n",
      "2024-12-05:15:26:44,855 INFO     [task.py:415] Building contexts for mmlu_global_facts on rank 0...\n",
      "100%|██████████| 100/100 [00:00<00:00, 968.68it/s]\n",
      "2024-12-05:15:26:44,965 INFO     [task.py:415] Building contexts for mmlu_medical_genetics on rank 0...\n",
      "100%|██████████| 100/100 [00:00<00:00, 971.80it/s]\n",
      "2024-12-05:15:26:45,074 INFO     [task.py:415] Building contexts for mmlu_human_sexuality on rank 0...\n",
      "100%|██████████| 131/131 [00:00<00:00, 976.78it/s]\n",
      "2024-12-05:15:26:45,214 INFO     [task.py:415] Building contexts for mmlu_professional_psychology on rank 0...\n",
      "100%|██████████| 612/612 [00:00<00:00, 980.82it/s]\n",
      "2024-12-05:15:26:45,859 INFO     [task.py:415] Building contexts for mmlu_security_studies on rank 0...\n",
      "100%|██████████| 245/245 [00:00<00:00, 981.20it/s]\n",
      "2024-12-05:15:26:46,119 INFO     [task.py:415] Building contexts for mmlu_high_school_geography on rank 0...\n",
      "100%|██████████| 198/198 [00:00<00:00, 967.80it/s]\n",
      "2024-12-05:15:26:46,332 INFO     [task.py:415] Building contexts for mmlu_high_school_government_and_politics on rank 0...\n",
      "100%|██████████| 193/193 [00:00<00:00, 968.53it/s]\n",
      "2024-12-05:15:26:46,541 INFO     [task.py:415] Building contexts for mmlu_high_school_macroeconomics on rank 0...\n",
      "100%|██████████| 390/390 [00:00<00:00, 973.84it/s]\n",
      "2024-12-05:15:26:46,956 INFO     [task.py:415] Building contexts for mmlu_econometrics on rank 0...\n",
      "100%|██████████| 114/114 [00:00<00:00, 967.77it/s]\n",
      "2024-12-05:15:26:47,081 INFO     [task.py:415] Building contexts for mmlu_us_foreign_policy on rank 0...\n",
      "100%|██████████| 100/100 [00:00<00:00, 971.61it/s]\n",
      "2024-12-05:15:26:47,190 INFO     [task.py:415] Building contexts for mmlu_high_school_psychology on rank 0...\n",
      "100%|██████████| 545/545 [00:00<00:00, 976.55it/s]\n",
      "2024-12-05:15:26:47,768 INFO     [task.py:415] Building contexts for mmlu_sociology on rank 0...\n",
      "100%|██████████| 201/201 [00:00<00:00, 979.15it/s]\n",
      "2024-12-05:15:26:47,981 INFO     [task.py:415] Building contexts for mmlu_public_relations on rank 0...\n",
      "100%|██████████| 110/110 [00:00<00:00, 964.56it/s]\n",
      "2024-12-05:15:26:48,101 INFO     [task.py:415] Building contexts for mmlu_high_school_microeconomics on rank 0...\n",
      "100%|██████████| 238/238 [00:00<00:00, 972.72it/s]\n",
      "2024-12-05:15:26:48,356 INFO     [task.py:415] Building contexts for mmlu_international_law on rank 0...\n",
      "100%|██████████| 121/121 [00:00<00:00, 972.59it/s]\n",
      "2024-12-05:15:26:48,487 INFO     [task.py:415] Building contexts for mmlu_professional_law on rank 0...\n",
      "100%|██████████| 1534/1534 [00:01<00:00, 973.06it/s]\n",
      "2024-12-05:15:26:50,114 INFO     [task.py:415] Building contexts for mmlu_prehistory on rank 0...\n",
      "100%|██████████| 324/324 [00:00<00:00, 971.76it/s]\n",
      "2024-12-05:15:26:50,461 INFO     [task.py:415] Building contexts for mmlu_logical_fallacies on rank 0...\n",
      "100%|██████████| 163/163 [00:00<00:00, 973.72it/s]\n",
      "2024-12-05:15:26:50,637 INFO     [task.py:415] Building contexts for mmlu_formal_logic on rank 0...\n",
      "100%|██████████| 126/126 [00:00<00:00, 975.72it/s]\n",
      "2024-12-05:15:26:50,772 INFO     [task.py:415] Building contexts for mmlu_high_school_us_history on rank 0...\n",
      "100%|██████████| 204/204 [00:00<00:00, 970.79it/s]\n",
      "2024-12-05:15:26:50,990 INFO     [task.py:415] Building contexts for mmlu_moral_scenarios on rank 0...\n",
      "100%|██████████| 895/895 [00:00<00:00, 977.82it/s]\n",
      "2024-12-05:15:26:51,936 INFO     [task.py:415] Building contexts for mmlu_high_school_world_history on rank 0...\n",
      "100%|██████████| 237/237 [00:00<00:00, 976.44it/s]\n",
      "2024-12-05:15:26:52,189 INFO     [task.py:415] Building contexts for mmlu_world_religions on rank 0...\n",
      "100%|██████████| 171/171 [00:00<00:00, 977.71it/s]\n",
      "2024-12-05:15:26:52,372 INFO     [task.py:415] Building contexts for mmlu_philosophy on rank 0...\n",
      "100%|██████████| 311/311 [00:00<00:00, 974.60it/s]\n",
      "2024-12-05:15:26:52,704 INFO     [task.py:415] Building contexts for mmlu_moral_disputes on rank 0...\n",
      "100%|██████████| 346/346 [00:00<00:00, 967.89it/s]\n",
      "2024-12-05:15:26:53,076 INFO     [task.py:415] Building contexts for mmlu_jurisprudence on rank 0...\n",
      "100%|██████████| 108/108 [00:00<00:00, 973.80it/s]\n",
      "2024-12-05:15:26:53,193 INFO     [task.py:415] Building contexts for mmlu_high_school_european_history on rank 0...\n",
      "100%|██████████| 165/165 [00:00<00:00, 972.82it/s]\n",
      "2024-12-05:15:26:53,371 INFO     [task.py:415] Building contexts for arc_challenge on rank 0...\n",
      "100%|██████████| 1172/1172 [00:00<00:00, 1683.38it/s]\n",
      "2024-12-05:15:26:54,529 INFO     [evaluator.py:489] Running loglikelihood requests\n",
      "Running loglikelihood requests: 100%|██████████| 247863/247863 [25:53<00:00, 159.51it/s]\n",
      "huggingface/tokenizers: The current process just got forked, after parallelism has already been used. Disabling parallelism to avoid deadlocks...\n",
      "To disable this warning, you can either:\n",
      "\t- Avoid using `tokenizers` before the fork if possible\n",
      "\t- Explicitly set the environment variable TOKENIZERS_PARALLELISM=(true | false)\n",
      "huggingface/tokenizers: The current process just got forked, after parallelism has already been used. Disabling parallelism to avoid deadlocks...\n",
      "To disable this warning, you can either:\n",
      "\t- Avoid using `tokenizers` before the fork if possible\n",
      "\t- Explicitly set the environment variable TOKENIZERS_PARALLELISM=(true | false)\n",
      "huggingface/tokenizers: The current process just got forked, after parallelism has already been used. Disabling parallelism to avoid deadlocks...\n",
      "To disable this warning, you can either:\n",
      "\t- Avoid using `tokenizers` before the fork if possible\n",
      "\t- Explicitly set the environment variable TOKENIZERS_PARALLELISM=(true | false)\n",
      "huggingface/tokenizers: The current process just got forked, after parallelism has already been used. Disabling parallelism to avoid deadlocks...\n",
      "To disable this warning, you can either:\n",
      "\t- Avoid using `tokenizers` before the fork if possible\n",
      "\t- Explicitly set the environment variable TOKENIZERS_PARALLELISM=(true | false)\n",
      "huggingface/tokenizers: The current process just got forked, after parallelism has already been used. Disabling parallelism to avoid deadlocks...\n",
      "To disable this warning, you can either:\n",
      "\t- Avoid using `tokenizers` before the fork if possible\n",
      "\t- Explicitly set the environment variable TOKENIZERS_PARALLELISM=(true | false)\n",
      "huggingface/tokenizers: The current process just got forked, after parallelism has already been used. Disabling parallelism to avoid deadlocks...\n",
      "To disable this warning, you can either:\n",
      "\t- Avoid using `tokenizers` before the fork if possible\n",
      "\t- Explicitly set the environment variable TOKENIZERS_PARALLELISM=(true | false)\n",
      "huggingface/tokenizers: The current process just got forked, after parallelism has already been used. Disabling parallelism to avoid deadlocks...\n",
      "To disable this warning, you can either:\n",
      "\t- Avoid using `tokenizers` before the fork if possible\n",
      "\t- Explicitly set the environment variable TOKENIZERS_PARALLELISM=(true | false)\n",
      "huggingface/tokenizers: The current process just got forked, after parallelism has already been used. Disabling parallelism to avoid deadlocks...\n",
      "To disable this warning, you can either:\n",
      "\t- Avoid using `tokenizers` before the fork if possible\n",
      "\t- Explicitly set the environment variable TOKENIZERS_PARALLELISM=(true | false)\n",
      "huggingface/tokenizers: The current process just got forked, after parallelism has already been used. Disabling parallelism to avoid deadlocks...\n",
      "To disable this warning, you can either:\n",
      "\t- Avoid using `tokenizers` before the fork if possible\n",
      "\t- Explicitly set the environment variable TOKENIZERS_PARALLELISM=(true | false)\n",
      "huggingface/tokenizers: The current process just got forked, after parallelism has already been used. Disabling parallelism to avoid deadlocks...\n",
      "To disable this warning, you can either:\n",
      "\t- Avoid using `tokenizers` before the fork if possible\n",
      "\t- Explicitly set the environment variable TOKENIZERS_PARALLELISM=(true | false)\n",
      "huggingface/tokenizers: The current process just got forked, after parallelism has already been used. Disabling parallelism to avoid deadlocks...\n",
      "To disable this warning, you can either:\n",
      "\t- Avoid using `tokenizers` before the fork if possible\n",
      "\t- Explicitly set the environment variable TOKENIZERS_PARALLELISM=(true | false)\n",
      "huggingface/tokenizers: The current process just got forked, after parallelism has already been used. Disabling parallelism to avoid deadlocks...\n",
      "To disable this warning, you can either:\n",
      "\t- Avoid using `tokenizers` before the fork if possible\n",
      "\t- Explicitly set the environment variable TOKENIZERS_PARALLELISM=(true | false)\n",
      "huggingface/tokenizers: The current process just got forked, after parallelism has already been used. Disabling parallelism to avoid deadlocks...\n",
      "To disable this warning, you can either:\n",
      "\t- Avoid using `tokenizers` before the fork if possible\n",
      "\t- Explicitly set the environment variable TOKENIZERS_PARALLELISM=(true | false)\n",
      "huggingface/tokenizers: The current process just got forked, after parallelism has already been used. Disabling parallelism to avoid deadlocks...\n",
      "To disable this warning, you can either:\n",
      "\t- Avoid using `tokenizers` before the fork if possible\n",
      "\t- Explicitly set the environment variable TOKENIZERS_PARALLELISM=(true | false)\n",
      "huggingface/tokenizers: The current process just got forked, after parallelism has already been used. Disabling parallelism to avoid deadlocks...\n",
      "To disable this warning, you can either:\n",
      "\t- Avoid using `tokenizers` before the fork if possible\n",
      "\t- Explicitly set the environment variable TOKENIZERS_PARALLELISM=(true | false)\n",
      "huggingface/tokenizers: The current process just got forked, after parallelism has already been used. Disabling parallelism to avoid deadlocks...\n",
      "To disable this warning, you can either:\n",
      "\t- Avoid using `tokenizers` before the fork if possible\n",
      "\t- Explicitly set the environment variable TOKENIZERS_PARALLELISM=(true | false)\n",
      "huggingface/tokenizers: The current process just got forked, after parallelism has already been used. Disabling parallelism to avoid deadlocks...\n",
      "To disable this warning, you can either:\n",
      "\t- Avoid using `tokenizers` before the fork if possible\n",
      "\t- Explicitly set the environment variable TOKENIZERS_PARALLELISM=(true | false)\n",
      "huggingface/tokenizers: The current process just got forked, after parallelism has already been used. Disabling parallelism to avoid deadlocks...\n",
      "To disable this warning, you can either:\n",
      "\t- Avoid using `tokenizers` before the fork if possible\n",
      "\t- Explicitly set the environment variable TOKENIZERS_PARALLELISM=(true | false)\n",
      "huggingface/tokenizers: The current process just got forked, after parallelism has already been used. Disabling parallelism to avoid deadlocks...\n",
      "To disable this warning, you can either:\n",
      "\t- Avoid using `tokenizers` before the fork if possible\n",
      "\t- Explicitly set the environment variable TOKENIZERS_PARALLELISM=(true | false)\n",
      "huggingface/tokenizers: The current process just got forked, after parallelism has already been used. Disabling parallelism to avoid deadlocks...\n",
      "To disable this warning, you can either:\n",
      "\t- Avoid using `tokenizers` before the fork if possible\n",
      "\t- Explicitly set the environment variable TOKENIZERS_PARALLELISM=(true | false)\n",
      "huggingface/tokenizers: The current process just got forked, after parallelism has already been used. Disabling parallelism to avoid deadlocks...\n",
      "To disable this warning, you can either:\n",
      "\t- Avoid using `tokenizers` before the fork if possible\n",
      "\t- Explicitly set the environment variable TOKENIZERS_PARALLELISM=(true | false)\n",
      "huggingface/tokenizers: The current process just got forked, after parallelism has already been used. Disabling parallelism to avoid deadlocks...\n",
      "To disable this warning, you can either:\n",
      "\t- Avoid using `tokenizers` before the fork if possible\n",
      "\t- Explicitly set the environment variable TOKENIZERS_PARALLELISM=(true | false)\n",
      "huggingface/tokenizers: The current process just got forked, after parallelism has already been used. Disabling parallelism to avoid deadlocks...\n",
      "To disable this warning, you can either:\n",
      "\t- Avoid using `tokenizers` before the fork if possible\n",
      "\t- Explicitly set the environment variable TOKENIZERS_PARALLELISM=(true | false)\n",
      "huggingface/tokenizers: The current process just got forked, after parallelism has already been used. Disabling parallelism to avoid deadlocks...\n",
      "To disable this warning, you can either:\n",
      "\t- Avoid using `tokenizers` before the fork if possible\n",
      "\t- Explicitly set the environment variable TOKENIZERS_PARALLELISM=(true | false)\n",
      "huggingface/tokenizers: The current process just got forked, after parallelism has already been used. Disabling parallelism to avoid deadlocks...\n",
      "To disable this warning, you can either:\n",
      "\t- Avoid using `tokenizers` before the fork if possible\n",
      "\t- Explicitly set the environment variable TOKENIZERS_PARALLELISM=(true | false)\n",
      "huggingface/tokenizers: The current process just got forked, after parallelism has already been used. Disabling parallelism to avoid deadlocks...\n",
      "To disable this warning, you can either:\n",
      "\t- Avoid using `tokenizers` before the fork if possible\n",
      "\t- Explicitly set the environment variable TOKENIZERS_PARALLELISM=(true | false)\n",
      "huggingface/tokenizers: The current process just got forked, after parallelism has already been used. Disabling parallelism to avoid deadlocks...\n",
      "To disable this warning, you can either:\n",
      "\t- Avoid using `tokenizers` before the fork if possible\n",
      "\t- Explicitly set the environment variable TOKENIZERS_PARALLELISM=(true | false)\n",
      "huggingface/tokenizers: The current process just got forked, after parallelism has already been used. Disabling parallelism to avoid deadlocks...\n",
      "To disable this warning, you can either:\n",
      "\t- Avoid using `tokenizers` before the fork if possible\n",
      "\t- Explicitly set the environment variable TOKENIZERS_PARALLELISM=(true | false)\n",
      "huggingface/tokenizers: The current process just got forked, after parallelism has already been used. Disabling parallelism to avoid deadlocks...\n",
      "To disable this warning, you can either:\n",
      "\t- Avoid using `tokenizers` before the fork if possible\n",
      "\t- Explicitly set the environment variable TOKENIZERS_PARALLELISM=(true | false)\n",
      "huggingface/tokenizers: The current process just got forked, after parallelism has already been used. Disabling parallelism to avoid deadlocks...\n",
      "To disable this warning, you can either:\n",
      "\t- Avoid using `tokenizers` before the fork if possible\n",
      "\t- Explicitly set the environment variable TOKENIZERS_PARALLELISM=(true | false)\n",
      "huggingface/tokenizers: The current process just got forked, after parallelism has already been used. Disabling parallelism to avoid deadlocks...\n",
      "To disable this warning, you can either:\n",
      "\t- Avoid using `tokenizers` before the fork if possible\n",
      "\t- Explicitly set the environment variable TOKENIZERS_PARALLELISM=(true | false)\n",
      "huggingface/tokenizers: The current process just got forked, after parallelism has already been used. Disabling parallelism to avoid deadlocks...\n",
      "To disable this warning, you can either:\n",
      "\t- Avoid using `tokenizers` before the fork if possible\n",
      "\t- Explicitly set the environment variable TOKENIZERS_PARALLELISM=(true | false)\n",
      "huggingface/tokenizers: The current process just got forked, after parallelism has already been used. Disabling parallelism to avoid deadlocks...\n",
      "To disable this warning, you can either:\n",
      "\t- Avoid using `tokenizers` before the fork if possible\n",
      "\t- Explicitly set the environment variable TOKENIZERS_PARALLELISM=(true | false)\n",
      "huggingface/tokenizers: The current process just got forked, after parallelism has already been used. Disabling parallelism to avoid deadlocks...\n",
      "To disable this warning, you can either:\n",
      "\t- Avoid using `tokenizers` before the fork if possible\n",
      "\t- Explicitly set the environment variable TOKENIZERS_PARALLELISM=(true | false)\n",
      "huggingface/tokenizers: The current process just got forked, after parallelism has already been used. Disabling parallelism to avoid deadlocks...\n",
      "To disable this warning, you can either:\n",
      "\t- Avoid using `tokenizers` before the fork if possible\n",
      "\t- Explicitly set the environment variable TOKENIZERS_PARALLELISM=(true | false)\n",
      "huggingface/tokenizers: The current process just got forked, after parallelism has already been used. Disabling parallelism to avoid deadlocks...\n",
      "To disable this warning, you can either:\n",
      "\t- Avoid using `tokenizers` before the fork if possible\n",
      "\t- Explicitly set the environment variable TOKENIZERS_PARALLELISM=(true | false)\n",
      "huggingface/tokenizers: The current process just got forked, after parallelism has already been used. Disabling parallelism to avoid deadlocks...\n",
      "To disable this warning, you can either:\n",
      "\t- Avoid using `tokenizers` before the fork if possible\n",
      "\t- Explicitly set the environment variable TOKENIZERS_PARALLELISM=(true | false)\n",
      "huggingface/tokenizers: The current process just got forked, after parallelism has already been used. Disabling parallelism to avoid deadlocks...\n",
      "To disable this warning, you can either:\n",
      "\t- Avoid using `tokenizers` before the fork if possible\n",
      "\t- Explicitly set the environment variable TOKENIZERS_PARALLELISM=(true | false)\n",
      "huggingface/tokenizers: The current process just got forked, after parallelism has already been used. Disabling parallelism to avoid deadlocks...\n",
      "To disable this warning, you can either:\n",
      "\t- Avoid using `tokenizers` before the fork if possible\n",
      "\t- Explicitly set the environment variable TOKENIZERS_PARALLELISM=(true | false)\n",
      "huggingface/tokenizers: The current process just got forked, after parallelism has already been used. Disabling parallelism to avoid deadlocks...\n",
      "To disable this warning, you can either:\n",
      "\t- Avoid using `tokenizers` before the fork if possible\n",
      "\t- Explicitly set the environment variable TOKENIZERS_PARALLELISM=(true | false)\n",
      "huggingface/tokenizers: The current process just got forked, after parallelism has already been used. Disabling parallelism to avoid deadlocks...\n",
      "To disable this warning, you can either:\n",
      "\t- Avoid using `tokenizers` before the fork if possible\n",
      "\t- Explicitly set the environment variable TOKENIZERS_PARALLELISM=(true | false)\n",
      "huggingface/tokenizers: The current process just got forked, after parallelism has already been used. Disabling parallelism to avoid deadlocks...\n",
      "To disable this warning, you can either:\n",
      "\t- Avoid using `tokenizers` before the fork if possible\n",
      "\t- Explicitly set the environment variable TOKENIZERS_PARALLELISM=(true | false)\n",
      "huggingface/tokenizers: The current process just got forked, after parallelism has already been used. Disabling parallelism to avoid deadlocks...\n",
      "To disable this warning, you can either:\n",
      "\t- Avoid using `tokenizers` before the fork if possible\n",
      "\t- Explicitly set the environment variable TOKENIZERS_PARALLELISM=(true | false)\n",
      "huggingface/tokenizers: The current process just got forked, after parallelism has already been used. Disabling parallelism to avoid deadlocks...\n",
      "To disable this warning, you can either:\n",
      "\t- Avoid using `tokenizers` before the fork if possible\n",
      "\t- Explicitly set the environment variable TOKENIZERS_PARALLELISM=(true | false)\n",
      "huggingface/tokenizers: The current process just got forked, after parallelism has already been used. Disabling parallelism to avoid deadlocks...\n",
      "To disable this warning, you can either:\n",
      "\t- Avoid using `tokenizers` before the fork if possible\n",
      "\t- Explicitly set the environment variable TOKENIZERS_PARALLELISM=(true | false)\n",
      "huggingface/tokenizers: The current process just got forked, after parallelism has already been used. Disabling parallelism to avoid deadlocks...\n",
      "To disable this warning, you can either:\n",
      "\t- Avoid using `tokenizers` before the fork if possible\n",
      "\t- Explicitly set the environment variable TOKENIZERS_PARALLELISM=(true | false)\n",
      "huggingface/tokenizers: The current process just got forked, after parallelism has already been used. Disabling parallelism to avoid deadlocks...\n",
      "To disable this warning, you can either:\n",
      "\t- Avoid using `tokenizers` before the fork if possible\n",
      "\t- Explicitly set the environment variable TOKENIZERS_PARALLELISM=(true | false)\n",
      "huggingface/tokenizers: The current process just got forked, after parallelism has already been used. Disabling parallelism to avoid deadlocks...\n",
      "To disable this warning, you can either:\n",
      "\t- Avoid using `tokenizers` before the fork if possible\n",
      "\t- Explicitly set the environment variable TOKENIZERS_PARALLELISM=(true | false)\n",
      "huggingface/tokenizers: The current process just got forked, after parallelism has already been used. Disabling parallelism to avoid deadlocks...\n",
      "To disable this warning, you can either:\n",
      "\t- Avoid using `tokenizers` before the fork if possible\n",
      "\t- Explicitly set the environment variable TOKENIZERS_PARALLELISM=(true | false)\n",
      "huggingface/tokenizers: The current process just got forked, after parallelism has already been used. Disabling parallelism to avoid deadlocks...\n",
      "To disable this warning, you can either:\n",
      "\t- Avoid using `tokenizers` before the fork if possible\n",
      "\t- Explicitly set the environment variable TOKENIZERS_PARALLELISM=(true | false)\n",
      "huggingface/tokenizers: The current process just got forked, after parallelism has already been used. Disabling parallelism to avoid deadlocks...\n",
      "To disable this warning, you can either:\n",
      "\t- Avoid using `tokenizers` before the fork if possible\n",
      "\t- Explicitly set the environment variable TOKENIZERS_PARALLELISM=(true | false)\n",
      "huggingface/tokenizers: The current process just got forked, after parallelism has already been used. Disabling parallelism to avoid deadlocks...\n",
      "To disable this warning, you can either:\n",
      "\t- Avoid using `tokenizers` before the fork if possible\n",
      "\t- Explicitly set the environment variable TOKENIZERS_PARALLELISM=(true | false)\n",
      "huggingface/tokenizers: The current process just got forked, after parallelism has already been used. Disabling parallelism to avoid deadlocks...\n",
      "To disable this warning, you can either:\n",
      "\t- Avoid using `tokenizers` before the fork if possible\n",
      "\t- Explicitly set the environment variable TOKENIZERS_PARALLELISM=(true | false)\n",
      "huggingface/tokenizers: The current process just got forked, after parallelism has already been used. Disabling parallelism to avoid deadlocks...\n",
      "To disable this warning, you can either:\n",
      "\t- Avoid using `tokenizers` before the fork if possible\n",
      "\t- Explicitly set the environment variable TOKENIZERS_PARALLELISM=(true | false)\n",
      "huggingface/tokenizers: The current process just got forked, after parallelism has already been used. Disabling parallelism to avoid deadlocks...\n",
      "To disable this warning, you can either:\n",
      "\t- Avoid using `tokenizers` before the fork if possible\n",
      "\t- Explicitly set the environment variable TOKENIZERS_PARALLELISM=(true | false)\n",
      "huggingface/tokenizers: The current process just got forked, after parallelism has already been used. Disabling parallelism to avoid deadlocks...\n",
      "To disable this warning, you can either:\n",
      "\t- Avoid using `tokenizers` before the fork if possible\n",
      "\t- Explicitly set the environment variable TOKENIZERS_PARALLELISM=(true | false)\n",
      "huggingface/tokenizers: The current process just got forked, after parallelism has already been used. Disabling parallelism to avoid deadlocks...\n",
      "To disable this warning, you can either:\n",
      "\t- Avoid using `tokenizers` before the fork if possible\n",
      "\t- Explicitly set the environment variable TOKENIZERS_PARALLELISM=(true | false)\n",
      "huggingface/tokenizers: The current process just got forked, after parallelism has already been used. Disabling parallelism to avoid deadlocks...\n",
      "To disable this warning, you can either:\n",
      "\t- Avoid using `tokenizers` before the fork if possible\n",
      "\t- Explicitly set the environment variable TOKENIZERS_PARALLELISM=(true | false)\n",
      "huggingface/tokenizers: The current process just got forked, after parallelism has already been used. Disabling parallelism to avoid deadlocks...\n",
      "To disable this warning, you can either:\n",
      "\t- Avoid using `tokenizers` before the fork if possible\n",
      "\t- Explicitly set the environment variable TOKENIZERS_PARALLELISM=(true | false)\n",
      "huggingface/tokenizers: The current process just got forked, after parallelism has already been used. Disabling parallelism to avoid deadlocks...\n",
      "To disable this warning, you can either:\n",
      "\t- Avoid using `tokenizers` before the fork if possible\n",
      "\t- Explicitly set the environment variable TOKENIZERS_PARALLELISM=(true | false)\n",
      "huggingface/tokenizers: The current process just got forked, after parallelism has already been used. Disabling parallelism to avoid deadlocks...\n",
      "To disable this warning, you can either:\n",
      "\t- Avoid using `tokenizers` before the fork if possible\n",
      "\t- Explicitly set the environment variable TOKENIZERS_PARALLELISM=(true | false)\n",
      "huggingface/tokenizers: The current process just got forked, after parallelism has already been used. Disabling parallelism to avoid deadlocks...\n",
      "To disable this warning, you can either:\n",
      "\t- Avoid using `tokenizers` before the fork if possible\n",
      "\t- Explicitly set the environment variable TOKENIZERS_PARALLELISM=(true | false)\n",
      "huggingface/tokenizers: The current process just got forked, after parallelism has already been used. Disabling parallelism to avoid deadlocks...\n",
      "To disable this warning, you can either:\n",
      "\t- Avoid using `tokenizers` before the fork if possible\n",
      "\t- Explicitly set the environment variable TOKENIZERS_PARALLELISM=(true | false)\n",
      "huggingface/tokenizers: The current process just got forked, after parallelism has already been used. Disabling parallelism to avoid deadlocks...\n",
      "To disable this warning, you can either:\n",
      "\t- Avoid using `tokenizers` before the fork if possible\n",
      "\t- Explicitly set the environment variable TOKENIZERS_PARALLELISM=(true | false)\n",
      "huggingface/tokenizers: The current process just got forked, after parallelism has already been used. Disabling parallelism to avoid deadlocks...\n",
      "To disable this warning, you can either:\n",
      "\t- Avoid using `tokenizers` before the fork if possible\n",
      "\t- Explicitly set the environment variable TOKENIZERS_PARALLELISM=(true | false)\n",
      "huggingface/tokenizers: The current process just got forked, after parallelism has already been used. Disabling parallelism to avoid deadlocks...\n",
      "To disable this warning, you can either:\n",
      "\t- Avoid using `tokenizers` before the fork if possible\n",
      "\t- Explicitly set the environment variable TOKENIZERS_PARALLELISM=(true | false)\n",
      "huggingface/tokenizers: The current process just got forked, after parallelism has already been used. Disabling parallelism to avoid deadlocks...\n",
      "To disable this warning, you can either:\n",
      "\t- Avoid using `tokenizers` before the fork if possible\n",
      "\t- Explicitly set the environment variable TOKENIZERS_PARALLELISM=(true | false)\n",
      "huggingface/tokenizers: The current process just got forked, after parallelism has already been used. Disabling parallelism to avoid deadlocks...\n",
      "To disable this warning, you can either:\n",
      "\t- Avoid using `tokenizers` before the fork if possible\n",
      "\t- Explicitly set the environment variable TOKENIZERS_PARALLELISM=(true | false)\n",
      "huggingface/tokenizers: The current process just got forked, after parallelism has already been used. Disabling parallelism to avoid deadlocks...\n",
      "To disable this warning, you can either:\n",
      "\t- Avoid using `tokenizers` before the fork if possible\n",
      "\t- Explicitly set the environment variable TOKENIZERS_PARALLELISM=(true | false)\n",
      "huggingface/tokenizers: The current process just got forked, after parallelism has already been used. Disabling parallelism to avoid deadlocks...\n",
      "To disable this warning, you can either:\n",
      "\t- Avoid using `tokenizers` before the fork if possible\n",
      "\t- Explicitly set the environment variable TOKENIZERS_PARALLELISM=(true | false)\n",
      "huggingface/tokenizers: The current process just got forked, after parallelism has already been used. Disabling parallelism to avoid deadlocks...\n",
      "To disable this warning, you can either:\n",
      "\t- Avoid using `tokenizers` before the fork if possible\n",
      "\t- Explicitly set the environment variable TOKENIZERS_PARALLELISM=(true | false)\n",
      "huggingface/tokenizers: The current process just got forked, after parallelism has already been used. Disabling parallelism to avoid deadlocks...\n",
      "To disable this warning, you can either:\n",
      "\t- Avoid using `tokenizers` before the fork if possible\n",
      "\t- Explicitly set the environment variable TOKENIZERS_PARALLELISM=(true | false)\n"
     ]
    },
    {
     "name": "stdout",
     "output_type": "stream",
     "text": [
      "bootstrapping for stddev: perplexity\n"
     ]
    },
    {
     "name": "stderr",
     "output_type": "stream",
     "text": [
      "100%|██████████| 100/100 [00:01<00:00, 59.11it/s]To disable this warning, you can either:\n",
      "\t- Avoid using `tokenizers` before the fork if possible\n",
      "\t- Explicitly set the environment variable TOKENIZERS_PARALLELISM=(true | false)\n",
      "huggingface/tokenizers: The current process just got forked, after parallelism has already been used. Disabling parallelism to avoid deadlocks...\n",
      "To disable this warning, you can either:\n",
      "\t- Avoid using `tokenizers` before the fork if possible\n",
      "\t- Explicitly set the environment variable TOKENIZERS_PARALLELISM=(true | false)\n",
      "TOKENIZERS_PARALLELISM=(true | false)\n",
      "TOKENIZERS_PARALLELISM=(true | false)\n",
      "TOKENIZERS_PARALLELISM=(true | false)\n",
      "huggingface/tokenizers: The current process just got forked, after parallelism has already been used. Disabling parallelism to avoid deadlocks...\n",
      "To disable this warning, you can either:\n",
      "\t- Avoid using `tokenizers` before the fork if possible\n",
      "\t- Explicitly set the environment variable \n",
      "huggingface/tokenizers: The current process just got forked, after parallelism has already been used. Disabling parallelism to avoid deadlocks...\n",
      "To disable this warning, you can either:\n",
      "\t- Avoid using `tokenizers` before the fork if possible\n",
      "\t- Explicitly set the environment variable TOKENIZERS_PARALLELISM=(true | false)\n",
      "huggingface/tokenizers: The current process just got forked, after parallelism has already been used. Disabling parallelism to avoid deadlocks...\n",
      "To disable this warning, you can either:\n",
      "\t- Avoid using `tokenizers` before the fork if possible\n",
      "\t- Explicitly set the environment variable TOKENIZERS_PARALLELISM=(true | false)\n",
      "huggingface/tokenizers: The current process just got forked, after parallelism has already been used. Disabling parallelism to avoid deadlocks...\n",
      "To disable this warning, you can either:\n",
      "\t- Avoid using `tokenizers` before the fork if possible\n",
      "\t- Explicitly set the environment variable TOKENIZERS_PARALLELISM=(true | false)\n",
      "huggingface/tokenizers: The current process just got forked, after parallelism has already been used. Disabling parallelism to avoid deadlocks...\n",
      "To disable this warning, you can either:\n",
      "\t- Avoid using `tokenizers` before the fork if possible\n",
      "\t- Explicitly set the environment variable TOKENIZERS_PARALLELISM=(true | false)\n",
      "huggingface/tokenizers: The current process just got forked, after parallelism has already been used. Disabling parallelism to avoid deadlocks...\n",
      "To disable this warning, you can either:\n",
      "\t- Avoid using `tokenizers` before the fork if possible\n",
      "\t- Explicitly set the environment variable TOKENIZERS_PARALLELISM=(true | false)\n",
      "huggingface/tokenizers: The current process just got forked, after parallelism has already been used. Disabling parallelism to avoid deadlocks...\n",
      "To disable this warning, you can either:\n",
      "\t- Avoid using `tokenizers` before the fork if possible\n",
      "\t- Explicitly set the environment variable TOKENIZERS_PARALLELISM=(true | false)\n",
      "huggingface/tokenizers: The current process just got forked, after parallelism has already been used. Disabling parallelism to avoid deadlocks...\n",
      "To disable this warning, you can either:\n",
      "\t- Avoid using `tokenizers` before the fork if possible\n",
      "\t- Explicitly set the environment variable TOKENIZERS_PARALLELISM=(true | false)\n",
      "huggingface/tokenizers: The current process just got forked, after parallelism has already been used. Disabling parallelism to avoid deadlocks...\n",
      "To disable this warning, you can either:\n",
      "\t- Avoid using `tokenizers` before the fork if possible\n",
      "\t- Explicitly set the environment variable TOKENIZERS_PARALLELISM=(true | false)\n",
      "huggingface/tokenizers: The current process just got forked, after parallelism has already been used. Disabling parallelism to avoid deadlocks...\n",
      "To disable this warning, you can either:\n",
      "\t- Avoid using `tokenizers` before the fork if possible\n",
      "\t- Explicitly set the environment variable TOKENIZERS_PARALLELISM=(true | false)\n",
      "huggingface/tokenizers: The current process just got forked, after parallelism has already been used. Disabling parallelism to avoid deadlocks...\n",
      "To disable this warning, you can either:\n",
      "\t- Avoid using `tokenizers` before the fork if possible\n",
      "\t- Explicitly set the environment variable TOKENIZERS_PARALLELISM=(true | false)\n",
      "huggingface/tokenizers: The current process just got forked, after parallelism has already been used. Disabling parallelism to avoid deadlocks...\n",
      "To disable this warning, you can either:\n",
      "\t- Avoid using `tokenizers` before the fork if possible\n",
      "\t- Explicitly set the environment variable TOKENIZERS_PARALLELISM=(true | false)\n",
      "huggingface/tokenizers: The current process just got forked, after parallelism has already been used. Disabling parallelism to avoid deadlocks...\n",
      "To disable this warning, you can either:\n",
      "\t- Avoid using `tokenizers` before the fork if possible\n",
      "\t- Explicitly set the environment variable TOKENIZERS_PARALLELISM=(true | false)\n",
      "huggingface/tokenizers: The current process just got forked, after parallelism has already been used. Disabling parallelism to avoid deadlocks...\n",
      "To disable this warning, you can either:\n",
      "\t- Avoid using `tokenizers` before the fork if possible\n",
      "\t- Explicitly set the environment variable TOKENIZERS_PARALLELISM=(true | false)\n",
      "huggingface/tokenizers: The current process just got forked, after parallelism has already been used. Disabling parallelism to avoid deadlocks...\n",
      "To disable this warning, you can either:\n",
      "\t- Avoid using `tokenizers` before the fork if possible\n",
      "\t- Explicitly set the environment variable TOKENIZERS_PARALLELISM=(true | false)\n",
      "huggingface/tokenizers: The current process just got forked, after parallelism has already been used. Disabling parallelism to avoid deadlocks...\n",
      "To disable this warning, you can either:\n",
      "\t- Avoid using `tokenizers` before the fork if possible\n",
      "\t- Explicitly set the environment variable TOKENIZERS_PARALLELISM=(true | false)\n",
      "huggingface/tokenizers: The current process just got forked, after parallelism has already been used. Disabling parallelism to avoid deadlocks...\n",
      "To disable this warning, you can either:\n",
      "\t- Avoid using `tokenizers` before the fork if possible\n",
      "\t- Explicitly set the environment variable TOKENIZERS_PARALLELISM=(true | false)\n",
      "huggingface/tokenizers: The current process just got forked, after parallelism has already been used. Disabling parallelism to avoid deadlocks...\n",
      "To disable this warning, you can either:\n",
      "\t- Avoid using `tokenizers` before the fork if possible\n",
      "\t- Explicitly set the environment variable TOKENIZERS_PARALLELISM=(true | false)\n",
      "huggingface/tokenizers: The current process just got forked, after parallelism has already been used. Disabling parallelism to avoid deadlocks...\n",
      "To disable this warning, you can either:\n",
      "\t- Avoid using `tokenizers` before the fork if possible\n",
      "\t- Explicitly set the environment variable TOKENIZERS_PARALLELISM=(true | false)\n",
      "huggingface/tokenizers: The current process just got forked, after parallelism has already been used. Disabling parallelism to avoid deadlocks...\n",
      "To disable this warning, you can either:\n",
      "\t- Avoid using `tokenizers` before the fork if possible\n",
      "\t- Explicitly set the environment variable TOKENIZERS_PARALLELISM=(true | false)\n",
      "huggingface/tokenizers: The current process just got forked, after parallelism has already been used. Disabling parallelism to avoid deadlocks...\n",
      "To disable this warning, you can either:\n",
      "\t- Avoid using `tokenizers` before the fork if possible\n",
      "\t- Explicitly set the environment variable TOKENIZERS_PARALLELISM=(true | false)\n",
      "huggingface/tokenizers: The current process just got forked, after parallelism has already been used. Disabling parallelism to avoid deadlocks...\n",
      "To disable this warning, you can either:\n",
      "\t- Avoid using `tokenizers` before the fork if possible\n",
      "\t- Explicitly set the environment variable TOKENIZERS_PARALLELISM=(true | false)\n",
      "huggingface/tokenizers: The current process just got forked, after parallelism has already been used. Disabling parallelism to avoid deadlocks...\n",
      "To disable this warning, you can either:\n",
      "\t- Avoid using `tokenizers` before the fork if possible\n",
      "\t- Explicitly set the environment variable TOKENIZERS_PARALLELISM=(true | false)\n",
      "huggingface/tokenizers: The current process just got forked, after parallelism has already been used. Disabling parallelism to avoid deadlocks...\n",
      "To disable this warning, you can either:\n",
      "\t- Avoid using `tokenizers` before the fork if possible\n",
      "\t- Explicitly set the environment variable TOKENIZERS_PARALLELISM=(true | false)\n",
      "huggingface/tokenizers: The current process just got forked, after parallelism has already been used. Disabling parallelism to avoid deadlocks...\n",
      "To disable this warning, you can either:\n",
      "\t- Avoid using `tokenizers` before the fork if possible\n",
      "\t- Explicitly set the environment variable TOKENIZERS_PARALLELISM=(true | false)\n",
      "huggingface/tokenizers: The current process just got forked, after parallelism has already been used. Disabling parallelism to avoid deadlocks...\n",
      "To disable this warning, you can either:\n",
      "\t- Avoid using `tokenizers` before the fork if possible\n",
      "\t- Explicitly set the environment variable TOKENIZERS_PARALLELISM=(true | false)\n",
      "huggingface/tokenizers: The current process just got forked, after parallelism has already been used. Disabling parallelism to avoid deadlocks...\n",
      "To disable this warning, you can either:\n",
      "\t- Avoid using `tokenizers` before the fork if possible\n",
      "\t- Explicitly set the environment variable TOKENIZERS_PARALLELISM=(true | false)\n",
      "huggingface/tokenizers: The current process just got forked, after parallelism has already been used. Disabling parallelism to avoid deadlocks...\n",
      "To disable this warning, you can either:\n",
      "\t- Avoid using `tokenizers` before the fork if possible\n",
      "\t- Explicitly set the environment variable TOKENIZERS_PARALLELISM=(true | false)\n",
      "huggingface/tokenizers: The current process just got forked, after parallelism has already been used. Disabling parallelism to avoid deadlocks...\n",
      "To disable this warning, you can either:\n",
      "\t- Avoid using `tokenizers` before the fork if possible\n",
      "\t- Explicitly set the environment variable TOKENIZERS_PARALLELISM=(true | false)\n",
      "huggingface/tokenizers: The current process just got forked, after parallelism has already been used. Disabling parallelism to avoid deadlocks...\n",
      "To disable this warning, you can either:\n",
      "\t- Avoid using `tokenizers` before the fork if possible\n",
      "\t- Explicitly set the environment variable TOKENIZERS_PARALLELISM=(true | false)\n",
      "huggingface/tokenizers: The current process just got forked, after parallelism has already been used. Disabling parallelism to avoid deadlocks...\n",
      "To disable this warning, you can either:\n",
      "\t- Avoid using `tokenizers` before the fork if possible\n",
      "\t- Explicitly set the environment variable TOKENIZERS_PARALLELISM=(true | false)\n",
      "huggingface/tokenizers: The current process just got forked, after parallelism has already been used. Disabling parallelism to avoid deadlocks...\n",
      "To disable this warning, you can either:\n",
      "\t- Avoid using `tokenizers` before the fork if possible\n",
      "\t- Explicitly set the environment variable TOKENIZERS_PARALLELISM=(true | false)\n",
      "huggingface/tokenizers: The current process just got forked, after parallelism has already been used. Disabling parallelism to avoid deadlocks...\n",
      "To disable this warning, you can either:\n",
      "\t- Avoid using `tokenizers` before the fork if possible\n",
      "\t- Explicitly set the environment variable TOKENIZERS_PARALLELISM=(true | false)\n",
      "huggingface/tokenizers: The current process just got forked, after parallelism has already been used. Disabling parallelism to avoid deadlocks...\n",
      "To disable this warning, you can either:\n",
      "\t- Avoid using `tokenizers` before the fork if possible\n",
      "\t- Explicitly set the environment variable TOKENIZERS_PARALLELISM=(true | false)\n",
      "huggingface/tokenizers: The current process just got forked, after parallelism has already been used. Disabling parallelism to avoid deadlocks...\n",
      "To disable this warning, you can either:\n",
      "\t- Avoid using `tokenizers` before the fork if possible\n",
      "\t- Explicitly set the environment variable TOKENIZERS_PARALLELISM=(true | false)\n",
      "huggingface/tokenizers: The current process just got forked, after parallelism has already been used. Disabling parallelism to avoid deadlocks...\n",
      "To disable this warning, you can either:\n",
      "\t- Avoid using `tokenizers` before the fork if possible\n",
      "\t- Explicitly set the environment variable TOKENIZERS_PARALLELISM=(true | false)\n",
      "huggingface/tokenizers: The current process just got forked, after parallelism has already been used. Disabling parallelism to avoid deadlocks...\n",
      "To disable this warning, you can either:\n",
      "\t- Avoid using `tokenizers` before the fork if possible\n",
      "\t- Explicitly set the environment variable TOKENIZERS_PARALLELISM=(true | false)\n",
      "huggingface/tokenizers: The current process just got forked, after parallelism has already been used. Disabling parallelism to avoid deadlocks...\n",
      "To disable this warning, you can either:\n",
      "\t- Avoid using `tokenizers` before the fork if possible\n",
      "\t- Explicitly set the environment variable TOKENIZERS_PARALLELISM=(true | false)\n",
      "huggingface/tokenizers: The current process just got forked, after parallelism has already been used. Disabling parallelism to avoid deadlocks...\n",
      "To disable this warning, you can either:\n",
      "\t- Avoid using `tokenizers` before the fork if possible\n",
      "\t- Explicitly set the environment variable TOKENIZERS_PARALLELISM=(true | false)\n",
      "huggingface/tokenizers: The current process just got forked, after parallelism has already been used. Disabling parallelism to avoid deadlocks...\n",
      "To disable this warning, you can either:\n",
      "\t- Avoid using `tokenizers` before the fork if possible\n",
      "\t- Explicitly set the environment variable TOKENIZERS_PARALLELISM=(true | false)\n",
      "huggingface/tokenizers: The current process just got forked, after parallelism has already been used. Disabling parallelism to avoid deadlocks...\n",
      "To disable this warning, you can either:\n",
      "\t- Avoid using `tokenizers` before the fork if possible\n",
      "\t- Explicitly set the environment variable TOKENIZERS_PARALLELISM=(true | false)\n",
      "huggingface/tokenizers: The current process just got forked, after parallelism has already been used. Disabling parallelism to avoid deadlocks...\n",
      "To disable this warning, you can either:\n",
      "\t- Avoid using `tokenizers` before the fork if possible\n",
      "\t- Explicitly set the environment variable TOKENIZERS_PARALLELISM=(true | false)\n",
      "huggingface/tokenizers: The current process just got forked, after parallelism has already been used. Disabling parallelism to avoid deadlocks...\n",
      "To disable this warning, you can either:\n",
      "\t- Avoid using `tokenizers` before the fork if possible\n",
      "\t- Explicitly set the environment variable TOKENIZERS_PARALLELISM=(true | false)\n",
      "huggingface/tokenizers: The current process just got forked, after parallelism has already been used. Disabling parallelism to avoid deadlocks...\n",
      "To disable this warning, you can either:\n",
      "\t- Avoid using `tokenizers` before the fork if possible\n",
      "\t- Explicitly set the environment variable TOKENIZERS_PARALLELISM=(true | false)\n",
      "huggingface/tokenizers: The current process just got forked, after parallelism has already been used. Disabling parallelism to avoid deadlocks...\n",
      "To disable this warning, you can either:\n",
      "\t- Avoid using `tokenizers` before the fork if possible\n",
      "\t- Explicitly set the environment variable TOKENIZERS_PARALLELISM=(true | false)\n",
      "huggingface/tokenizers: The current process just got forked, after parallelism has already been used. Disabling parallelism to avoid deadlocks...\n",
      "To disable this warning, you can either:\n",
      "\t- Avoid using `tokenizers` before the fork if possible\n",
      "\t- Explicitly set the environment variable TOKENIZERS_PARALLELISM=(true | false)\n",
      "huggingface/tokenizers: The current process just got forked, after parallelism has already been used. Disabling parallelism to avoid deadlocks...\n",
      "To disable this warning, you can either:\n",
      "\t- Avoid using `tokenizers` before the fork if possible\n",
      "\t- Explicitly set the environment variable TOKENIZERS_PARALLELISM=(true | false)\n",
      "huggingface/tokenizers: The current process just got forked, after parallelism has already been used. Disabling parallelism to avoid deadlocks...\n",
      "To disable this warning, you can either:\n",
      "\t- Avoid using `tokenizers` before the fork if possible\n",
      "\t- Explicitly set the environment variable TOKENIZERS_PARALLELISM=(true | false)\n",
      "huggingface/tokenizers: The current process just got forked, after parallelism has already been used. Disabling parallelism to avoid deadlocks...\n",
      "To disable this warning, you can either:\n",
      "\t- Avoid using `tokenizers` before the fork if possible\n",
      "\t- Explicitly set the environment variable TOKENIZERS_PARALLELISM=(true | false)\n",
      "huggingface/tokenizers: The current process just got forked, after parallelism has already been used. Disabling parallelism to avoid deadlocks...\n",
      "To disable this warning, you can either:\n",
      "\t- Avoid using `tokenizers` before the fork if possible\n",
      "\t- Explicitly set the environment variable TOKENIZERS_PARALLELISM=(true | false)\n",
      "huggingface/tokenizers: The current process just got forked, after parallelism has already been used. Disabling parallelism to avoid deadlocks...\n",
      "To disable this warning, you can either:\n",
      "\t- Avoid using `tokenizers` before the fork if possible\n",
      "\t- Explicitly set the environment variable TOKENIZERS_PARALLELISM=(true | false)\n",
      "huggingface/tokenizers: The current process just got forked, after parallelism has already been used. Disabling parallelism to avoid deadlocks...\n",
      "To disable this warning, you can either:\n",
      "\t- Avoid using `tokenizers` before the fork if possible\n",
      "\t- Explicitly set the environment variable TOKENIZERS_PARALLELISM=(true | false)\n",
      "huggingface/tokenizers: The current process just got forked, after parallelism has already been used. Disabling parallelism to avoid deadlocks...\n",
      "To disable this warning, you can either:\n",
      "\t- Avoid using `tokenizers` before the fork if possible\n",
      "\t- Explicitly set the environment variable TOKENIZERS_PARALLELISM=(true | false)\n",
      "huggingface/tokenizers: The current process just got forked, after parallelism has already been used. Disabling parallelism to avoid deadlocks...\n",
      "To disable this warning, you can either:\n",
      "\t- Avoid using `tokenizers` before the fork if possible\n",
      "\t- Explicitly set the environment variable TOKENIZERS_PARALLELISM=(true | false)\n",
      "huggingface/tokenizers: The current process just got forked, after parallelism has already been used. Disabling parallelism to avoid deadlocks...\n",
      "To disable this warning, you can either:\n",
      "\t- Avoid using `tokenizers` before the fork if possible\n",
      "\t- Explicitly set the environment variable TOKENIZERS_PARALLELISM=(true | false)\n",
      "huggingface/tokenizers: The current process just got forked, after parallelism has already been used. Disabling parallelism to avoid deadlocks...\n",
      "To disable this warning, you can either:\n",
      "\t- Avoid using `tokenizers` before the fork if possible\n",
      "\t- Explicitly set the environment variable TOKENIZERS_PARALLELISM=(true | false)\n",
      "huggingface/tokenizers: The current process just got forked, after parallelism has already been used. Disabling parallelism to avoid deadlocks...\n",
      "To disable this warning, you can either:\n",
      "\t- Avoid using `tokenizers` before the fork if possible\n",
      "\t- Explicitly set the environment variable TOKENIZERS_PARALLELISM=(true | false)\n",
      "huggingface/tokenizers: The current process just got forked, after parallelism has already been used. Disabling parallelism to avoid deadlocks...\n",
      "To disable this warning, you can either:\n",
      "\t- Avoid using `tokenizers` before the fork if possible\n",
      "\t- Explicitly set the environment variable TOKENIZERS_PARALLELISM=(true | false)\n",
      "huggingface/tokenizers: The current process just got forked, after parallelism has already been used. Disabling parallelism to avoid deadlocks...\n",
      "To disable this warning, you can either:\n",
      "\t- Avoid using `tokenizers` before the fork if possible\n",
      "\t- Explicitly set the environment variable TOKENIZERS_PARALLELISM=(true | false)\n",
      "huggingface/tokenizers: The current process just got forked, after parallelism has already been used. Disabling parallelism to avoid deadlocks...\n",
      "To disable this warning, you can either:\n",
      "\t- Avoid using `tokenizers` before the fork if possible\n",
      "\t- Explicitly set the environment variable TOKENIZERS_PARALLELISM=(true | false)\n",
      "huggingface/tokenizers: The current process just got forked, after parallelism has already been used. Disabling parallelism to avoid deadlocks...\n",
      "To disable this warning, you can either:\n",
      "\t- Avoid using `tokenizers` before the fork if possible\n",
      "\t- Explicitly set the environment variable TOKENIZERS_PARALLELISM=(true | false)\n",
      "huggingface/tokenizers: The current process just got forked, after parallelism has already been used. Disabling parallelism to avoid deadlocks...\n",
      "To disable this warning, you can either:\n",
      "\t- Avoid using `tokenizers` before the fork if possible\n",
      "\t- Explicitly set the environment variable TOKENIZERS_PARALLELISM=(true | false)\n",
      "huggingface/tokenizers: The current process just got forked, after parallelism has already been used. Disabling parallelism to avoid deadlocks...\n",
      "To disable this warning, you can either:\n",
      "\t- Avoid using `tokenizers` before the fork if possible\n",
      "\t- Explicitly set the environment variable TOKENIZERS_PARALLELISM=(true | false)\n",
      "huggingface/tokenizers: The current process just got forked, after parallelism has already been used. Disabling parallelism to avoid deadlocks...\n",
      "To disable this warning, you can either:\n",
      "\t- Avoid using `tokenizers` before the fork if possible\n",
      "\t- Explicitly set the environment variable TOKENIZERS_PARALLELISM=(true | false)\n",
      "huggingface/tokenizers: The current process just got forked, after parallelism has already been used. Disabling parallelism to avoid deadlocks...\n",
      "To disable this warning, you can either:\n",
      "\t- Avoid using `tokenizers` before the fork if possible\n",
      "\t- Explicitly set the environment variable TOKENIZERS_PARALLELISM=(true | false)\n",
      "huggingface/tokenizers: The current process just got forked, after parallelism has already been used. Disabling parallelism to avoid deadlocks...\n",
      "To disable this warning, you can either:\n",
      "\t- Avoid using `tokenizers` before the fork if possible\n",
      "\t- Explicitly set the environment variable TOKENIZERS_PARALLELISM=(true | false)\n",
      "huggingface/tokenizers: The current process just got forked, after parallelism has already been used. Disabling parallelism to avoid deadlocks...\n",
      "To disable this warning, you can either:\n",
      "\t- Avoid using `tokenizers` before the fork if possible\n",
      "\t- Explicitly set the environment variable TOKENIZERS_PARALLELISM=(true | false)\n",
      "huggingface/tokenizers: The current process just got forked, after parallelism has already been used. Disabling parallelism to avoid deadlocks...\n",
      "To disable this warning, you can either:\n",
      "\t- Avoid using `tokenizers` before the fork if possible\n",
      "\t- Explicitly set the environment variable TOKENIZERS_PARALLELISM=(true | false)\n",
      "huggingface/tokenizers: The current process just got forked, after parallelism has already been used. Disabling parallelism to avoid deadlocks...\n",
      "To disable this warning, you can either:\n",
      "\t- Avoid using `tokenizers` before the fork if possible\n",
      "\t- Explicitly set the environment variable TOKENIZERS_PARALLELISM=(true | false)\n",
      "huggingface/tokenizers: The current process just got forked, after parallelism has already been used. Disabling parallelism to avoid deadlocks...\n",
      "To disable this warning, you can either:\n",
      "\t- Avoid using `tokenizers` before the fork if possible\n",
      "\t- Explicitly set the environment variable TOKENIZERS_PARALLELISM=(true | false)\n",
      "huggingface/tokenizers: The current process just got forked, after parallelism has already been used. Disabling parallelism to avoid deadlocks...\n",
      "To disable this warning, you can either:\n",
      "\t- Avoid using `tokenizers` before the fork if possible\n",
      "\t- Explicitly set the environment variable TOKENIZERS_PARALLELISM=(true | false)\n",
      "huggingface/tokenizers: The current process just got forked, after parallelism has already been used. Disabling parallelism to avoid deadlocks...\n",
      "To disable this warning, you can either:\n",
      "\t- Avoid using `tokenizers` before the fork if possible\n",
      "\t- Explicitly set the environment variable TOKENIZERS_PARALLELISM=(true | false)\n",
      "huggingface/tokenizers: The current process just got forked, after parallelism has already been used. Disabling parallelism to avoid deadlocks...\n",
      "To disable this warning, you can either:\n",
      "\t- Avoid using `tokenizers` before the fork if possible\n",
      "\t- Explicitly set the environment variable TOKENIZERS_PARALLELISM=(true | false)\n"
     ]
    },
    {
     "name": "stdout",
     "output_type": "stream",
     "text": [
      "bootstrapping for stddev: perplexity\n"
     ]
    },
    {
     "name": "stderr",
     "output_type": "stream",
     "text": [
      "100%|██████████| 100/100 [00:01<00:00, 57.70it/s]TOKENIZERS_PARALLELISM=(true | false)\n",
      "TOKENIZERS_PARALLELISM=(true | false)\n",
      "TOKENIZERS_PARALLELISM=(true | false)\n",
      "TOKENIZERS_PARALLELISM=(true | false)\n",
      "\n",
      "TOKENIZERS_PARALLELISM=(true | false)\n",
      "TOKENIZERS_PARALLELISM=(true | false)\n",
      "TOKENIZERS_PARALLELISM=(true | false)\n",
      "huggingface/tokenizers: The current process just got forked, after parallelism has already been used. Disabling parallelism to avoid deadlocks...\n",
      "To disable this warning, you can either:\n",
      "\t- Avoid using `tokenizers` before the fork if possible\n",
      "\t- Explicitly set the environment variable TOKENIZERS_PARALLELISM=(true | false)\n",
      "2024-12-05:15:54:51,601 WARNING  [huggingface.py:1353] Failed to get model SHA for GPTNeoXForCausalLM(\n",
      "  (gpt_neox): GPTNeoXModel(\n",
      "    (embed_in): Embedding(50304, 768)\n",
      "    (emb_dropout): Dropout(p=0.0, inplace=False)\n",
      "    (layers): ModuleList(\n",
      "      (0-11): 12 x GPTNeoXLayer(\n",
      "        (input_layernorm): LayerNorm((768,), eps=1e-05, elementwise_affine=True)\n",
      "        (post_attention_layernorm): LayerNorm((768,), eps=1e-05, elementwise_affine=True)\n",
      "        (post_attention_dropout): Dropout(p=0.0, inplace=False)\n",
      "        (post_mlp_dropout): Dropout(p=0.0, inplace=False)\n",
      "        (attention): GPTNeoXSdpaAttention(\n",
      "          (rotary_emb): GPTNeoXRotaryEmbedding()\n",
      "          (query_key_value): Linear(in_features=768, out_features=2304, bias=True)\n",
      "          (dense): Linear(in_features=768, out_features=768, bias=True)\n",
      "          (attention_dropout): Dropout(p=0.0, inplace=False)\n",
      "        )\n",
      "        (mlp): GPTNeoXMLP(\n",
      "          (dense_h_to_4h): Linear(in_features=768, out_features=3072, bias=True)\n",
      "          (dense_4h_to_h): Linear(in_features=3072, out_features=768, bias=True)\n",
      "          (act): GELUActivation()\n",
      "        )\n",
      "      )\n",
      "    )\n",
      "    (final_layer_norm): LayerNorm((768,), eps=1e-05, elementwise_affine=True)\n",
      "    (rotary_emb): GPTNeoXRotaryEmbedding()\n",
      "  )\n",
      "  (embed_out): Linear(in_features=768, out_features=50304, bias=False)\n",
      ") at revision main. Error: Repo id must be a string, not <class 'transformers.models.gpt_neox.modeling_gpt_neox.GPTNeoXForCausalLM'>: 'GPTNeoXForCausalLM(\n",
      "  (gpt_neox): GPTNeoXModel(\n",
      "    (embed_in): Embedding(50304, 768)\n",
      "    (emb_dropout): Dropout(p=0.0, inplace=False)\n",
      "    (layers): ModuleList(\n",
      "      (0-11): 12 x GPTNeoXLayer(\n",
      "        (input_layernorm): LayerNorm((768,), eps=1e-05, elementwise_affine=True)\n",
      "        (post_attention_layernorm): LayerNorm((768,), eps=1e-05, elementwise_affine=True)\n",
      "        (post_attention_dropout): Dropout(p=0.0, inplace=False)\n",
      "        (post_mlp_dropout): Dropout(p=0.0, inplace=False)\n",
      "        (attention): GPTNeoXSdpaAttention(\n",
      "          (rotary_emb): GPTNeoXRotaryEmbedding()\n",
      "          (query_key_value): Linear(in_features=768, out_features=2304, bias=True)\n",
      "          (dense): Linear(in_features=768, out_features=768, bias=True)\n",
      "          (attention_dropout): Dropout(p=0.0, inplace=False)\n",
      "        )\n",
      "        (mlp): GPTNeoXMLP(\n",
      "          (dense_h_to_4h): Linear(in_features=768, out_features=3072, bias=True)\n",
      "          (dense_4h_to_h): Linear(in_features=3072, out_features=768, bias=True)\n",
      "          (act): GELUActivation()\n",
      "        )\n",
      "      )\n",
      "    )\n",
      "    (final_layer_norm): LayerNorm((768,), eps=1e-05, elementwise_affine=True)\n",
      "    (rotary_emb): GPTNeoXRotaryEmbedding()\n",
      "  )\n",
      "  (embed_out): Linear(in_features=768, out_features=50304, bias=False)\n",
      ")'.\n",
      "fatal: Kein Git-Repository (oder irgendein Elternverzeichnis bis zum Einhängepunkt /vol)\n",
      "Stoppe bei Dateisystemgrenze (GIT_DISCOVERY_ACROSS_FILESYSTEM nicht gesetzt).\n"
     ]
    },
    {
     "name": "stdout",
     "output_type": "stream",
     "text": [
      "|                           Tasks                            |Version|Filter|n-shot|  Metric  |   |    Value    |   |   Stderr   |\n",
      "|------------------------------------------------------------|------:|------|-----:|----------|---|------------:|---|-----------:|\n",
      "|arc_challenge                                               |      1|none  |     0|acc       |↑  |       0.1894|±  |      0.0115|\n",
      "|                                                            |       |none  |     0|acc_norm  |↑  |       0.2355|±  |      0.0124|\n",
      "|blimp                                                       |      2|none  |      |acc       |↑  |       0.5481|±  |      0.0017|\n",
      "| - blimp_adjunct_island                                     |      1|none  |     0|acc       |↑  |       0.6390|±  |      0.0152|\n",
      "| - blimp_anaphor_gender_agreement                           |      1|none  |     0|acc       |↑  |       0.1920|±  |      0.0125|\n",
      "| - blimp_anaphor_number_agreement                           |      1|none  |     0|acc       |↑  |       0.3700|±  |      0.0153|\n",
      "| - blimp_animate_subject_passive                            |      1|none  |     0|acc       |↑  |       0.6180|±  |      0.0154|\n",
      "| - blimp_animate_subject_trans                              |      1|none  |     0|acc       |↑  |       0.7740|±  |      0.0132|\n",
      "| - blimp_causative                                          |      1|none  |     0|acc       |↑  |       0.5210|±  |      0.0158|\n",
      "| - blimp_complex_NP_island                                  |      1|none  |     0|acc       |↑  |       0.5150|±  |      0.0158|\n",
      "| - blimp_coordinate_structure_constraint_complex_left_branch|      1|none  |     0|acc       |↑  |       0.1450|±  |      0.0111|\n",
      "| - blimp_coordinate_structure_constraint_object_extraction  |      1|none  |     0|acc       |↑  |       0.5260|±  |      0.0158|\n",
      "| - blimp_determiner_noun_agreement_1                        |      1|none  |     0|acc       |↑  |       0.4900|±  |      0.0158|\n",
      "| - blimp_determiner_noun_agreement_2                        |      1|none  |     0|acc       |↑  |       0.4880|±  |      0.0158|\n",
      "| - blimp_determiner_noun_agreement_irregular_1              |      1|none  |     0|acc       |↑  |       0.4850|±  |      0.0158|\n",
      "| - blimp_determiner_noun_agreement_irregular_2              |      1|none  |     0|acc       |↑  |       0.5290|±  |      0.0158|\n",
      "| - blimp_determiner_noun_agreement_with_adj_2               |      1|none  |     0|acc       |↑  |       0.4730|±  |      0.0158|\n",
      "| - blimp_determiner_noun_agreement_with_adj_irregular_1     |      1|none  |     0|acc       |↑  |       0.4580|±  |      0.0158|\n",
      "| - blimp_determiner_noun_agreement_with_adj_irregular_2     |      1|none  |     0|acc       |↑  |       0.5370|±  |      0.0158|\n",
      "| - blimp_determiner_noun_agreement_with_adjective_1         |      1|none  |     0|acc       |↑  |       0.5200|±  |      0.0158|\n",
      "| - blimp_distractor_agreement_relational_noun               |      1|none  |     0|acc       |↑  |       0.3460|±  |      0.0151|\n",
      "| - blimp_distractor_agreement_relative_clause               |      1|none  |     0|acc       |↑  |       0.3940|±  |      0.0155|\n",
      "| - blimp_drop_argument                                      |      1|none  |     0|acc       |↑  |       0.7010|±  |      0.0145|\n",
      "| - blimp_ellipsis_n_bar_1                                   |      1|none  |     0|acc       |↑  |       0.1530|±  |      0.0114|\n",
      "| - blimp_ellipsis_n_bar_2                                   |      1|none  |     0|acc       |↑  |       0.3400|±  |      0.0150|\n",
      "| - blimp_existential_there_object_raising                   |      1|none  |     0|acc       |↑  |       0.7940|±  |      0.0128|\n",
      "| - blimp_existential_there_quantifiers_1                    |      1|none  |     0|acc       |↑  |       0.8040|±  |      0.0126|\n",
      "| - blimp_existential_there_quantifiers_2                    |      1|none  |     0|acc       |↑  |       0.1050|±  |      0.0097|\n",
      "| - blimp_existential_there_subject_raising                  |      1|none  |     0|acc       |↑  |       0.4740|±  |      0.0158|\n",
      "| - blimp_expletive_it_object_raising                        |      1|none  |     0|acc       |↑  |       0.6770|±  |      0.0148|\n",
      "| - blimp_inchoative                                         |      1|none  |     0|acc       |↑  |       0.4050|±  |      0.0155|\n",
      "| - blimp_intransitive                                       |      1|none  |     0|acc       |↑  |       0.5910|±  |      0.0156|\n",
      "| - blimp_irregular_past_participle_adjectives               |      1|none  |     0|acc       |↑  |       0.7310|±  |      0.0140|\n",
      "| - blimp_irregular_past_participle_verbs                    |      1|none  |     0|acc       |↑  |       0.7180|±  |      0.0142|\n",
      "| - blimp_irregular_plural_subject_verb_agreement_1          |      1|none  |     0|acc       |↑  |       0.5530|±  |      0.0157|\n",
      "| - blimp_irregular_plural_subject_verb_agreement_2          |      1|none  |     0|acc       |↑  |       0.5300|±  |      0.0158|\n",
      "| - blimp_left_branch_island_echo_question                   |      1|none  |     0|acc       |↑  |       0.8760|±  |      0.0104|\n",
      "| - blimp_left_branch_island_simple_question                 |      1|none  |     0|acc       |↑  |       0.2250|±  |      0.0132|\n",
      "| - blimp_matrix_question_npi_licensor_present               |      1|none  |     0|acc       |↑  |       0.0080|±  |      0.0028|\n",
      "| - blimp_npi_present_1                                      |      1|none  |     0|acc       |↑  |       0.5210|±  |      0.0158|\n",
      "| - blimp_npi_present_2                                      |      1|none  |     0|acc       |↑  |       0.4920|±  |      0.0158|\n",
      "| - blimp_only_npi_licensor_present                          |      1|none  |     0|acc       |↑  |       0.2390|±  |      0.0135|\n",
      "| - blimp_only_npi_scope                                     |      1|none  |     0|acc       |↑  |       0.2820|±  |      0.0142|\n",
      "| - blimp_passive_1                                          |      1|none  |     0|acc       |↑  |       0.7430|±  |      0.0138|\n",
      "| - blimp_passive_2                                          |      1|none  |     0|acc       |↑  |       0.6110|±  |      0.0154|\n",
      "| - blimp_principle_A_c_command                              |      1|none  |     0|acc       |↑  |       0.6730|±  |      0.0148|\n",
      "| - blimp_principle_A_case_1                                 |      1|none  |     0|acc       |↑  |       1.0000|±  |      0.0000|\n",
      "| - blimp_principle_A_case_2                                 |      1|none  |     0|acc       |↑  |       0.5890|±  |      0.0156|\n",
      "| - blimp_principle_A_domain_1                               |      1|none  |     0|acc       |↑  |       0.9990|±  |      0.0010|\n",
      "| - blimp_principle_A_domain_2                               |      1|none  |     0|acc       |↑  |       0.5860|±  |      0.0156|\n",
      "| - blimp_principle_A_domain_3                               |      1|none  |     0|acc       |↑  |       0.5090|±  |      0.0158|\n",
      "| - blimp_principle_A_reconstruction                         |      1|none  |     0|acc       |↑  |       0.4920|±  |      0.0158|\n",
      "| - blimp_regular_plural_subject_verb_agreement_1            |      1|none  |     0|acc       |↑  |       0.5930|±  |      0.0155|\n",
      "| - blimp_regular_plural_subject_verb_agreement_2            |      1|none  |     0|acc       |↑  |       0.5830|±  |      0.0156|\n",
      "| - blimp_sentential_negation_npi_licensor_present           |      1|none  |     0|acc       |↑  |       1.0000|±  |      0.0000|\n",
      "| - blimp_sentential_negation_npi_scope                      |      1|none  |     0|acc       |↑  |       0.6610|±  |      0.0150|\n",
      "| - blimp_sentential_subject_island                          |      1|none  |     0|acc       |↑  |       0.6020|±  |      0.0155|\n",
      "| - blimp_superlative_quantifiers_1                          |      1|none  |     0|acc       |↑  |       0.5090|±  |      0.0158|\n",
      "| - blimp_superlative_quantifiers_2                          |      1|none  |     0|acc       |↑  |       0.3830|±  |      0.0154|\n",
      "| - blimp_tough_vs_raising_1                                 |      1|none  |     0|acc       |↑  |       0.3010|±  |      0.0145|\n",
      "| - blimp_tough_vs_raising_2                                 |      1|none  |     0|acc       |↑  |       0.7160|±  |      0.0143|\n",
      "| - blimp_transitive                                         |      1|none  |     0|acc       |↑  |       0.6480|±  |      0.0151|\n",
      "| - blimp_wh_island                                          |      1|none  |     0|acc       |↑  |       0.6340|±  |      0.0152|\n",
      "| - blimp_wh_questions_object_gap                            |      1|none  |     0|acc       |↑  |       0.6860|±  |      0.0147|\n",
      "| - blimp_wh_questions_subject_gap                           |      1|none  |     0|acc       |↑  |       0.9840|±  |      0.0040|\n",
      "| - blimp_wh_questions_subject_gap_long_distance             |      1|none  |     0|acc       |↑  |       0.9860|±  |      0.0037|\n",
      "| - blimp_wh_vs_that_no_gap                                  |      1|none  |     0|acc       |↑  |       1.0000|±  |      0.0000|\n",
      "| - blimp_wh_vs_that_no_gap_long_distance                    |      1|none  |     0|acc       |↑  |       0.9990|±  |      0.0010|\n",
      "| - blimp_wh_vs_that_with_gap                                |      1|none  |     0|acc       |↑  |       0.0000|±  |      0.0000|\n",
      "| - blimp_wh_vs_that_with_gap_long_distance                  |      1|none  |     0|acc       |↑  |       0.0000|±  |      0.0000|\n",
      "|hellaswag                                                   |      1|none  |     0|acc       |↑  |       0.2604|±  |      0.0044|\n",
      "|                                                            |       |none  |     0|acc_norm  |↑  |       0.2535|±  |      0.0043|\n",
      "|lambada_openai                                              |      1|none  |     0|acc       |↑  |       0.0000|±  |      0.0000|\n",
      "|                                                            |       |none  |     0|perplexity|↓  | 1854408.3999|±  | 148101.5978|\n",
      "|lambada_standard                                            |      1|none  |     0|acc       |↑  |       0.0000|±  |      0.0000|\n",
      "|                                                            |       |none  |     0|perplexity|↓  |11927123.2514|±  |1063672.9283|\n",
      "|mmlu                                                        |      2|none  |      |acc       |↑  |       0.2295|±  |      0.0035|\n",
      "| - humanities                                               |      2|none  |      |acc       |↑  |       0.2421|±  |      0.0062|\n",
      "|  - formal_logic                                            |      1|none  |     0|acc       |↑  |       0.2857|±  |      0.0404|\n",
      "|  - high_school_european_history                            |      1|none  |     0|acc       |↑  |       0.2182|±  |      0.0323|\n",
      "|  - high_school_us_history                                  |      1|none  |     0|acc       |↑  |       0.2500|±  |      0.0304|\n",
      "|  - high_school_world_history                               |      1|none  |     0|acc       |↑  |       0.2700|±  |      0.0289|\n",
      "|  - international_law                                       |      1|none  |     0|acc       |↑  |       0.2397|±  |      0.0390|\n",
      "|  - jurisprudence                                           |      1|none  |     0|acc       |↑  |       0.2593|±  |      0.0424|\n",
      "|  - logical_fallacies                                       |      1|none  |     0|acc       |↑  |       0.2209|±  |      0.0326|\n",
      "|  - moral_disputes                                          |      1|none  |     0|acc       |↑  |       0.2486|±  |      0.0233|\n",
      "|  - moral_scenarios                                         |      1|none  |     0|acc       |↑  |       0.2380|±  |      0.0142|\n",
      "|  - philosophy                                              |      1|none  |     0|acc       |↑  |       0.1865|±  |      0.0221|\n",
      "|  - prehistory                                              |      1|none  |     0|acc       |↑  |       0.2160|±  |      0.0229|\n",
      "|  - professional_law                                        |      1|none  |     0|acc       |↑  |       0.2458|±  |      0.0110|\n",
      "|  - world_religions                                         |      1|none  |     0|acc       |↑  |       0.3216|±  |      0.0358|\n",
      "| - other                                                    |      2|none  |      |acc       |↑  |       0.2398|±  |      0.0076|\n",
      "|  - business_ethics                                         |      1|none  |     0|acc       |↑  |       0.3000|±  |      0.0461|\n",
      "|  - clinical_knowledge                                      |      1|none  |     0|acc       |↑  |       0.2151|±  |      0.0253|\n",
      "|  - college_medicine                                        |      1|none  |     0|acc       |↑  |       0.2081|±  |      0.0310|\n",
      "|  - global_facts                                            |      1|none  |     0|acc       |↑  |       0.1800|±  |      0.0386|\n",
      "|  - human_aging                                             |      1|none  |     0|acc       |↑  |       0.3139|±  |      0.0311|\n",
      "|  - management                                              |      1|none  |     0|acc       |↑  |       0.1748|±  |      0.0376|\n",
      "|  - marketing                                               |      1|none  |     0|acc       |↑  |       0.2906|±  |      0.0297|\n",
      "|  - medical_genetics                                        |      1|none  |     0|acc       |↑  |       0.3000|±  |      0.0461|\n",
      "|  - miscellaneous                                           |      1|none  |     0|acc       |↑  |       0.2375|±  |      0.0152|\n",
      "|  - nutrition                                               |      1|none  |     0|acc       |↑  |       0.2255|±  |      0.0239|\n",
      "|  - professional_accounting                                 |      1|none  |     0|acc       |↑  |       0.2340|±  |      0.0253|\n",
      "|  - professional_medicine                                   |      1|none  |     0|acc       |↑  |       0.1838|±  |      0.0235|\n",
      "|  - virology                                                |      1|none  |     0|acc       |↑  |       0.2831|±  |      0.0351|\n",
      "| - social sciences                                          |      2|none  |      |acc       |↑  |       0.2171|±  |      0.0074|\n",
      "|  - econometrics                                            |      1|none  |     0|acc       |↑  |       0.2368|±  |      0.0400|\n",
      "|  - high_school_geography                                   |      1|none  |     0|acc       |↑  |       0.1768|±  |      0.0272|\n",
      "|  - high_school_government_and_politics                     |      1|none  |     0|acc       |↑  |       0.1969|±  |      0.0287|\n",
      "|  - high_school_macroeconomics                              |      1|none  |     0|acc       |↑  |       0.2026|±  |      0.0204|\n",
      "|  - high_school_microeconomics                              |      1|none  |     0|acc       |↑  |       0.2101|±  |      0.0265|\n",
      "|  - high_school_psychology                                  |      1|none  |     0|acc       |↑  |       0.1927|±  |      0.0169|\n",
      "|  - human_sexuality                                         |      1|none  |     0|acc       |↑  |       0.2595|±  |      0.0384|\n",
      "|  - professional_psychology                                 |      1|none  |     0|acc       |↑  |       0.2500|±  |      0.0175|\n",
      "|  - public_relations                                        |      1|none  |     0|acc       |↑  |       0.2182|±  |      0.0396|\n",
      "|  - security_studies                                        |      1|none  |     0|acc       |↑  |       0.1878|±  |      0.0250|\n",
      "|  - sociology                                               |      1|none  |     0|acc       |↑  |       0.2438|±  |      0.0304|\n",
      "|  - us_foreign_policy                                       |      1|none  |     0|acc       |↑  |       0.2800|±  |      0.0451|\n",
      "| - stem                                                     |      2|none  |      |acc       |↑  |       0.2125|±  |      0.0073|\n",
      "|  - abstract_algebra                                        |      1|none  |     0|acc       |↑  |       0.2200|±  |      0.0416|\n",
      "|  - anatomy                                                 |      1|none  |     0|acc       |↑  |       0.1852|±  |      0.0336|\n",
      "|  - astronomy                                               |      1|none  |     0|acc       |↑  |       0.1776|±  |      0.0311|\n",
      "|  - college_biology                                         |      1|none  |     0|acc       |↑  |       0.2569|±  |      0.0365|\n",
      "|  - college_chemistry                                       |      1|none  |     0|acc       |↑  |       0.2000|±  |      0.0402|\n",
      "|  - college_computer_science                                |      1|none  |     0|acc       |↑  |       0.2600|±  |      0.0441|\n",
      "|  - college_mathematics                                     |      1|none  |     0|acc       |↑  |       0.2100|±  |      0.0409|\n",
      "|  - college_physics                                         |      1|none  |     0|acc       |↑  |       0.2157|±  |      0.0409|\n",
      "|  - computer_security                                       |      1|none  |     0|acc       |↑  |       0.2800|±  |      0.0451|\n",
      "|  - conceptual_physics                                      |      1|none  |     0|acc       |↑  |       0.2638|±  |      0.0288|\n",
      "|  - electrical_engineering                                  |      1|none  |     0|acc       |↑  |       0.2414|±  |      0.0357|\n",
      "|  - elementary_mathematics                                  |      1|none  |     0|acc       |↑  |       0.2090|±  |      0.0209|\n",
      "|  - high_school_biology                                     |      1|none  |     0|acc       |↑  |       0.1774|±  |      0.0217|\n",
      "|  - high_school_chemistry                                   |      1|none  |     0|acc       |↑  |       0.1527|±  |      0.0253|\n",
      "|  - high_school_computer_science                            |      1|none  |     0|acc       |↑  |       0.2500|±  |      0.0435|\n",
      "|  - high_school_mathematics                                 |      1|none  |     0|acc       |↑  |       0.2111|±  |      0.0249|\n",
      "|  - high_school_physics                                     |      1|none  |     0|acc       |↑  |       0.1987|±  |      0.0326|\n",
      "|  - high_school_statistics                                  |      1|none  |     0|acc       |↑  |       0.1528|±  |      0.0245|\n",
      "|  - machine_learning                                        |      1|none  |     0|acc       |↑  |       0.3125|±  |      0.0440|\n",
      "|winogrande                                                  |      1|none  |     0|acc       |↑  |       0.5122|±  |      0.0140|\n",
      "\n"
     ]
    }
   ],
   "source": [
    "## Evaluation - Pythia 160M Trained on Self-Created MiniPile\n",
    "\n",
    "device = \"cuda\" if torch.cuda.is_available() else \"cpu\"\n",
    "pythia_minipile = AutoModelForCausalLM.from_pretrained(base_path / \"pythia160m_minipile_Recreation_trained\", local_files_only=True)\n",
    "tokenizer = AutoTokenizer.from_pretrained(base_path / \"pythia160m_dedup_untrained\", use_fast=True, local_files_only=True) # Use exact same tokenizer\n",
    "pythia_minipile = pythia_minipile.to(device)\n",
    " \n",
    "batch_size_hflm = 1\n",
    "\n",
    "pythia_minipile_hflm = HFLM(pretrained=pythia_minipile,\n",
    "                        tokenizer=tokenizer,\n",
    "                        batch_size=batch_size_hflm)\n",
    "\n",
    "results = simple_evaluate(model=pythia_minipile_hflm,\n",
    "                          tasks=[\"arc_challenge\", \"mmlu\", \"winogrande\", \"hellaswag\", \"lambada\", \"blimp\"],\n",
    "                          num_fewshot=0,\n",
    "                          batch_size=batch_size_hflm,\n",
    "                          device=\"cuda\",\n",
    "                          limit=None)\n",
    "\n",
    "with open('03_eval_160M_minipile_recreation.txt', 'w') as f:\n",
    "    f.write(str(results))\n",
    "\n",
    "print(utils.make_table(results))"
   ]
  },
  {
   "cell_type": "markdown",
   "metadata": {},
   "source": [
    "One can consider this point a moment of truth for the study project.\n",
    "\n",
    "If benchmark scores indicate significant deviation, a multitude of causes could be the reason, e.g.:\n",
    "- Embedding process may be logically flawed\n",
    "- Switch for `e5-base-4k` may not pay off when looking at embedding accuracy (our gamble for performance didn't work)\n",
    "- Clustering process may be logically flawed\n",
    "- Hand-selected clusters do not match the categories as layed out by the paper (interpretative difference mount to fundamentally different dataset characteristics)\n",
    "- The index-based logical system used for saving memory and processing time may be inconsistent, leading us to sample wildly inaccurately\n",
    "- The paper may not have been clear enough and actually clusters were sampled from with regards to their size, and not flat out equal sample counts across each of them\n",
    "- All or some of the above.\n",
    "\n",
    "However, if benchmark scores *do not* indicate significant deviation, this implies:\n",
    "- The approach as layed out by the paper is reproducible\n",
    "- The pipeline built until now works and can be safely improved upon\n",
    "- The project from here on out may shift towards optimization and generalization, contributing to furthering the working approach\n",
    "\n",
    "I split the results comparison into two parts. The first table compares the just now trained `160M Recreation` against `160M Pile Deduplicated`, while the second table compares `160M Recreation` against `160M MiniPile`.\n",
    "\n",
    "### 160M Pile-Deduplicated vs. 160M Recreation\n",
    "\n",
    "| Benchmark        | Measure    |     | 160M Pile Deduplicated | 160M Recreation             | Percentage Difference of Means | 95% Confidence Interval       | Interpretation                            |\n",
    "| ---------------- | ---------- | --- | ---------------------- | --------------------------- | ------------------------------ | ----------------------------- | ----------------------------------------- |\n",
    "| ARC-Challenge    | acc        | ↑   | **0.1997 ± 0.0117**    | 0.1894 ± 0.0115             | -5.1577                        | (0.0219; -0.0425)             | **Difference not significant**                |\n",
    "| MMLU             | acc        | ↑   | **0.2299 ± 0.0035**    | 0.2295 ± 0.0035             | -0.1740                        | (0.0093; -0.0101)             | **Difference not significant**                |\n",
    "| HellaSwag        | acc        | ↑   | **0.2903 ± 0.0045**    | 0.2604 ± 0.0044             | -10.2997                       | (-0.0176; -0.0422)            | Pile Deduplicated-trained better          |\n",
    "| WinoGrande       | acc        | ↑   | 0.4964 ± 0.0141        | **0.5122 ± 0.0140**         | 3.1829                         | (0.0547; -0.0231)             | **Difference not significant**                |\n",
    "| Lambada (OpenAI) | acc        | ↑   | **0.3689 ± 0.0067**    | 0.0000 ± 0.0000             | -100.0                         | (-0.3558; -0.3820)            | Pile Deduplicated-trained severely better |\n",
    "| Lambada (OpenAI) | perplexity | ↓   | **31.2589 ± 1.1594**   | 1854408.3999 ± 148101.5978  | 5932317.3272                   | (2144656.2727; 1564098.0093)  | Pile Deduplicated-trained severely better |\n",
    "| Lambada (Std)    | acc        | ↑   | **0.2335 ± 0.0059**    | 0.0000 ± 0.0000             | -100.0                         | (-0.2219; -0.2451)            | Pile Deduplicated-trained severely better |\n",
    "| Lambada (Std)    | perplexity | ↓   | **172.7619 ± 7.7265**  | 11927123.2514 ± 1063672.928 | 6903692.5905                   | (14011749.4290; 9842151.5500) | Pile Deduplicated-trained severely better |\n",
    "| BLiMP            | acc        | ↑   | **0.7294 ± 0.0015**    | 0.5481 ± 0.0017             | -24.8560                       | (-0.1769; -0.1857)            | Pile Deduplicated-trained better          |\n",
    "\n",
    "### 160 MiniPile vs. 160M Recreation\n",
    "\n",
    "| Benchmark        | Measure    |     | 160M MiniPile               | 160M Recreation                 | Percentage Difference of Means | 95% Confidence Interval         | Interpretation             |\n",
    "| ---------------- | ---------- | --- | --------------------------- | ------------------------------- | ------------------------------ | ------------------------------- | -------------------------- |\n",
    "| ARC-Challenge    | acc        | ↑   | **0.2125 ± 0.0120**         | 0.1894 ± <br>0.0115             | -10.8706                       | (0.0095; -0.0577)               | **Difference not significant** |\n",
    "| MMLU             | acc        | ↑   | **0.2699 ± 0.0037**         | 0.2295 ± 0.0035                 | -14.9685                       | (-0.0304; -0.0504)              | MiniPile-trained better    |\n",
    "| HellaSwag        | acc        | ↑   | 0.2560 ± 0.0044             | **0.2604 ± 0.0044**             | 1.7188                         | (0.0166; -0.0078)               | **Difference not significant** |\n",
    "| WinoGrande       | acc        | ↑   | 0.4720 ± 0.0140             | **0.5122 ± 0.0140**             | 8.5169                         | (0.0790; 0.0014)                | **Recreation better**          |\n",
    "| Lambada (OpenAI) | acc        | ↑   | 0.0000 ± 0.0000             | 0.0000 ± 0.0000                 | -                              | -                               | -                          |\n",
    "| Lambada (OpenAI) | perplexity | ↓   | 3033175.2693 ± 288926.5827  | **1854408.3999 ± 148101.5978**  | -38.8625                       | (-542407.4980; -1815126.2408)   | **Recreation severely better** |\n",
    "| Lambada (Std)    | acc        | ↑   | 0.0000 ± 0.0000             | 0.0000 ± 0.0000                 | -                              | -                               | -                          |\n",
    "| Lambada (Std)    | perplexity | ↓   | 27067951.3460 ± 2710040.191 | **11927123.2514 ± 1063672.928** | -55.9364                       | (-9434663.1814; -20846993.0080) | **Recreation severely better** |\n",
    "| BLiMP            | acc        | ↑   | 0.5194 ± 0.0018             | **0.5481 ± 0.0017**             | 5.5256                         | (0.0336; 0.0238)                | **Recreation better**          |\n",
    "\n",
    "Not only can we see a match with the original MiniPile across all but one (MMLU) benchmark, but we substantially increased the model's capability on both Lambada benchmarks when evaluated for perplexity, and achieved better results on WinoGrande and BLiMP. \n",
    "\n",
    "This is interesting, because we composed `MiniPile_Recreation` with the exact same amount of samples.<br>\n",
    "While this is the case, the dataset is ~500MB (in text, rest is additional idx column values + metadata) larger, but this difference, which itself can be explained by sampling and embedding expression deviations, has brought down perplexity by ~39% and ~56% respectively.\n",
    "\n",
    "**What does this noticable upwards trend on the perplexities imply?**\n",
    "I consider Lambada (OpenAI) and Lambada (Std) as benchmarks that aim to be useful for checking whether dataset reduction impacts capability to capture even subtle, general grammatical distinctions. The Lambadas realize this via evaluating grammatical knowledge across $67$ distinct linguistic phenomena/subtasks in English.\n",
    "It seems that the data sampled represents nuances of the English language better and in such a way that the trained model could generalize grammatical rules from across the identified clusters much more easily.\n",
    "\n",
    "I conclude that the selection and assembly of `MiniPile_Recreation` has been successful to that extent that it can be tried out for training on Pythia $1.4B$."
   ]
  },
  {
   "cell_type": "markdown",
   "metadata": {},
   "source": [
    "---\n",
    "\n",
    "## Evaluate Pythia $1.4\\text{B}$ Pile vs. Pythia $1.4\\text{B}$ MiniPile (recreated)\n",
    "\n",
    "Once again, we will use an exact copy of the training and the test setup previously used for benchmarking Pythia $160\\text{M}$-Pile and $160\\text{M}$-MiniPile-Original.<br>\n",
    "Training is performed with the script `03_train_1.4B_recreation.py`."
   ]
  },
  {
   "cell_type": "markdown",
   "metadata": {},
   "source": [
    "---\n",
    "\n",
    "## Improve the Dataset Creation Process\n",
    "\n",
    "The results from the recreation process directly influence the improvement.<br>\n",
    "**The aim is to create a new SuperMiniPile dataset that is ideally smaller and more information-retaining, while leaving less of the data point selection to chance.**\n",
    "\n",
    "Ideas:\n",
    "\n",
    "- I won't touch the embedding part, it is necessary and works well\n",
    "- Coverage-centered selection of documents for the SuperMiniPile dataset (larger clusters represented by more documents, smaller by less)\n",
    "- Calculate an \"importance value\" for random examples, those ideally being distributed across the cluster, per each (post-filter) clustrr\n",
    "- \n",
    "- \"Findings indicate that it is not the proportion of tokens occupied by high-utility data that aids acquisition, but rather the proportion of training steps assigned to such data\" [On the effect of curriculum learning with developmental data for grammar acquisition (Opper, et al. 2023)](https://aclanthology.org/2023.conll-babylm.pdf)\n",
    "\n",
    "- https://openreview.net/pdf?id=7D5EECbOaf9\n",
    "- https://arxiv.org/pdf/2406.03057\n",
    "- https://arxiv.org/pdf/2210.15809\n",
    "- https://arxiv.org/pdf/2204.08499\n",
    "- https://arxiv.org/pdf/2303.09540\n",
    "- https://arxiv.org/pdf/2308.12284"
   ]
  },
  {
   "cell_type": "markdown",
   "metadata": {},
   "source": [
    "---\n",
    "\n",
    "## Evaluate Pythia $160\\text{M}$ SuperMiniPile"
   ]
  },
  {
   "cell_type": "markdown",
   "metadata": {},
   "source": [
    "---\n",
    "\n",
    "## Evaluate Pythia $1.4\\text{B}$ Pretrained vs. Pythia $1.4\\text{B}$ SuperMiniPile"
   ]
  },
  {
   "cell_type": "code",
   "execution_count": null,
   "metadata": {},
   "outputs": [],
   "source": [
    "import torch\n",
    "import numpy as np\n",
    "from pathlib import Path\n",
    "from datasets import load_dataset\n",
    "from transformers import AutoTokenizer, AutoModel\n",
    "import torch.nn.functional as F\n",
    "from tqdm import tqdm\n",
    "\n",
    "def average_pool(last_hidden_states, attention_mask):\n",
    "    last_hidden = last_hidden_states.masked_fill(~attention_mask[..., None].bool(), 0.0)\n",
    "    return last_hidden.sum(dim=1) / attention_mask.sum(dim=1)[..., None]\n",
    "\n",
    "@torch.no_grad()\n",
    "def get_embedding(text, tokenizer, model):\n",
    "    inputs = tokenizer(f\"query: {text}\", max_length=1024, padding=\"max_length\", truncation=True, return_tensors='pt')\n",
    "    inputs = {k: v.to(model.device) for k, v in inputs.items()}\n",
    "    outputs = model(**inputs)\n",
    "    embeddings = average_pool(outputs.last_hidden_state, inputs['attention_mask'])\n",
    "    embeddings = F.normalize(embeddings, p=2, dim=1)\n",
    "    return embeddings.cpu().numpy()[0]\n",
    "\n",
    "# Load model and tokenizer\n",
    "model_path = \"/mnt/data/e5-base-4k\"\n",
    "tokenizer = AutoTokenizer.from_pretrained(model_path, use_fast=True)\n",
    "model = AutoModel.from_pretrained(model_path, attn_implementation=\"sdpa\")\n",
    "model.eval()\n",
    "model.to('cuda' if torch.cuda.is_available() else 'cpu')\n",
    "\n",
    "# Directory containing parquet files\n",
    "parquet_dir = Path(\"/mnt/data/Pile_Deduplicated_Embd\")\n",
    "\n",
    "for i in range(3):\n",
    "    parquet_file = parquet_dir / f\"shard_{i:09d}.parquet\"\n",
    "    if not parquet_file.exists():\n",
    "        print(f\"File {parquet_file} not found. Skipping.\")\n",
    "        continue\n",
    "\n",
    "    dataset = load_dataset(\"parquet\", data_files=str(parquet_file))[\"train\"]\n",
    "    print(f\"Iterating over shard {i}....\")\n",
    "    for entry in tqdm(dataset):\n",
    "        stored_embedding = np.array(entry['embedding'])\n",
    "        text = entry['text']\n",
    "        # Generate new embedding\n",
    "        new_embedding = get_embedding(text, tokenizer, model)\n",
    "        # Convert both for fp16 precision\n",
    "        stored_embedding_fp16 = stored_embedding.astype(np.float16)\n",
    "        new_embedding_fp16 = new_embedding.astype(np.float16)\n",
    "        cosine_similarity = np.dot(stored_embedding_fp16, new_embedding_fp16) / (np.linalg.norm(stored_embedding_fp16) * np.linalg.norm(new_embedding_fp16))\n",
    "        # 1.0 as in identical, 0.0 as in orthogonal\n",
    "        if cosine_similarity != 1.0:\n",
    "            print(f\"Text: {text}\")\n",
    "            print(f\"Cosine similarity: {cosine_similarity}\")"
   ]
  },
  {
   "cell_type": "code",
   "execution_count": null,
   "metadata": {},
   "outputs": [],
   "source": [
    "from datasets import load_dataset\n",
    "\n",
    "# Specify the path to your Parquet file\n",
    "data_files_1 = {\"train\": \"/vol/tmp/koppelmm/Pile_Deduplicated_Embd/shard_000000001.parquet\"}\n",
    "data_files_2 = {\"train\": \"/vol/tmp/koppelmm/Pile_Deduplicated_Embd/shard_000000002.parquet\"}\n",
    "\n",
    "# Load the dataset\n",
    "dataset_1 = load_dataset(\"parquet\", data_files=data_files_1, split=\"train\")\n",
    "dataset_2 = load_dataset(\"parquet\", data_files=data_files_2, split=\"train\")\n",
    "\n",
    "# Print the number of entries in the dataset\n",
    "print(f\"Number of entries in shard 0: {len(dataset_1)} ({128*8192})\")\n",
    "print(f\"Number of entries in shard 1: {len(dataset_2)} ({128*8192})\")\n",
    "\n",
    "# Print the first entry from each dataset\n",
    "first_entry_1 = dataset_1[0]\n",
    "first_entry_2 = dataset_2[0]\n",
    "\n",
    "print(\"First entry in shard 0:\")\n",
    "print(first_entry_1)\n",
    "\n",
    "print(\"First entry in shard 1:\")\n",
    "print(first_entry_2)\n",
    "\n",
    "# Check if the first entries are different\n",
    "if first_entry_1 == first_entry_2:\n",
    "    print(\"The first entries are identical.\")\n",
    "else:\n",
    "    print(\"The first entries are different.\")"
   ]
  },
  {
   "cell_type": "code",
   "execution_count": 11,
   "metadata": {},
   "outputs": [
    {
     "ename": "AssertionError",
     "evalue": "Unexpected heap contents: [{'value': 95}, {'value': 96}, {'value': 97}, {'value': 98}, {'value': 99}] vs. expected [{'value': 5}, {'value': 6}, {'value': 7}, {'value': 8}, {'value': 9}]",
     "output_type": "error",
     "traceback": [
      "\u001b[0;31m---------------------------------------------------------------------------\u001b[0m",
      "\u001b[0;31mAssertionError\u001b[0m                            Traceback (most recent call last)",
      "Cell \u001b[0;32mIn[11], line 36\u001b[0m\n\u001b[1;32m     32\u001b[0m     \u001b[38;5;28;01massert\u001b[39;00m result \u001b[38;5;241m==\u001b[39m expected, \u001b[38;5;124mf\u001b[39m\u001b[38;5;124m\"\u001b[39m\u001b[38;5;124mUnexpected heap contents: \u001b[39m\u001b[38;5;132;01m{\u001b[39;00mresult\u001b[38;5;132;01m}\u001b[39;00m\u001b[38;5;124m\"\u001b[39m\n\u001b[1;32m     34\u001b[0m     \u001b[38;5;28mprint\u001b[39m(\u001b[38;5;124m\"\u001b[39m\u001b[38;5;124mAll tests passed!\u001b[39m\u001b[38;5;124m\"\u001b[39m)\n\u001b[0;32m---> 36\u001b[0m \u001b[43mtest_update_heap\u001b[49m\u001b[43m(\u001b[49m\u001b[43m)\u001b[49m\n",
      "Cell \u001b[0;32mIn[11], line 21\u001b[0m, in \u001b[0;36mtest_update_heap\u001b[0;34m()\u001b[0m\n\u001b[1;32m     18\u001b[0m result \u001b[38;5;241m=\u001b[39m [entry[\u001b[38;5;241m1\u001b[39m] \u001b[38;5;28;01mfor\u001b[39;00m entry \u001b[38;5;129;01min\u001b[39;00m \u001b[38;5;28msorted\u001b[39m(heap, key\u001b[38;5;241m=\u001b[39m\u001b[38;5;28;01mlambda\u001b[39;00m x: x[\u001b[38;5;241m0\u001b[39m])]\n\u001b[1;32m     19\u001b[0m expected \u001b[38;5;241m=\u001b[39m [{\u001b[38;5;124m'\u001b[39m\u001b[38;5;124mvalue\u001b[39m\u001b[38;5;124m'\u001b[39m: i} \u001b[38;5;28;01mfor\u001b[39;00m i \u001b[38;5;129;01min\u001b[39;00m \u001b[38;5;28mrange\u001b[39m(\u001b[38;5;241m5\u001b[39m, \u001b[38;5;241m10\u001b[39m)]\n\u001b[0;32m---> 21\u001b[0m \u001b[38;5;28;01massert\u001b[39;00m result \u001b[38;5;241m==\u001b[39m expected, \u001b[38;5;124mf\u001b[39m\u001b[38;5;124m\"\u001b[39m\u001b[38;5;124mUnexpected heap contents: \u001b[39m\u001b[38;5;132;01m{\u001b[39;00mresult\u001b[38;5;132;01m}\u001b[39;00m\u001b[38;5;124m vs. expected \u001b[39m\u001b[38;5;132;01m{\u001b[39;00mexpected\u001b[38;5;132;01m}\u001b[39;00m\u001b[38;5;124m\"\u001b[39m\n\u001b[1;32m     23\u001b[0m \u001b[38;5;66;03m# Test descending order heap (keep smallest items based on `value`)\u001b[39;00m\n\u001b[1;32m     24\u001b[0m heap \u001b[38;5;241m=\u001b[39m []\n",
      "\u001b[0;31mAssertionError\u001b[0m: Unexpected heap contents: [{'value': 95}, {'value': 96}, {'value': 97}, {'value': 98}, {'value': 99}] vs. expected [{'value': 5}, {'value': 6}, {'value': 7}, {'value': 8}, {'value': 9}]"
     ]
    }
   ],
   "source": [
    "import heapq\n",
    "\n",
    "def update_heap(heap, item, key_func, max_size=5, reverse=False):\n",
    "    key = key_func(item)\n",
    "    heapq.heappush(heap, (key if not reverse else -key, item))\n",
    "    if len(heap) > max_size:\n",
    "        heapq.heappop(heap)\n",
    "\n",
    "def test_update_heap():\n",
    "    # Test ascending order heap (keep largest items based on `value`)\n",
    "    heap = []\n",
    "    items = [{'value': i} for i in range(100)]  # Items with values from 0 to 9\n",
    "\n",
    "    for item in items:\n",
    "        update_heap(heap, item, key_func=lambda x: x['value'], max_size=5, reverse=False)\n",
    "\n",
    "    # Extract the final items from the heap, sorted by `value`\n",
    "    result = [entry[1] for entry in sorted(heap, key=lambda x: x[0])]\n",
    "    expected = [{'value': i} for i in range(5, 10)]\n",
    "\n",
    "    assert result == expected, f\"Unexpected heap contents: {result} vs. expected {expected}\"\n",
    "\n",
    "    # Test descending order heap (keep smallest items based on `value`)\n",
    "    heap = []\n",
    "    for item in items:\n",
    "        update_heap(heap, item, key_func=lambda x: x['value'], max_size=5, reverse=True)\n",
    "\n",
    "    # Extract the final items from the heap, sorted by `value`\n",
    "    result = [entry[1] for entry in sorted(heap, key=lambda x: x[0], reverse=True)]\n",
    "    expected = [{'value': i} for i in range(5)]\n",
    "\n",
    "    assert result == expected, f\"Unexpected heap contents: {result}\"\n",
    "\n",
    "    print(\"All tests passed!\")\n",
    "\n",
    "test_update_heap()"
   ]
  },
  {
   "cell_type": "code",
   "execution_count": 3,
   "metadata": {},
   "outputs": [
    {
     "name": "stdout",
     "output_type": "stream",
     "text": [
      "36\n"
     ]
    }
   ],
   "source": [
    "from multiprocessing import cpu_count\n",
    "\n",
    "print(cpu_count() // 2)"
   ]
  },
  {
   "cell_type": "code",
   "execution_count": null,
   "metadata": {},
   "outputs": [],
   "source": []
  }
 ],
 "metadata": {
  "kernelspec": {
   "display_name": "minipile",
   "language": "python",
   "name": "python3"
  },
  "language_info": {
   "codemirror_mode": {
    "name": "ipython",
    "version": 3
   },
   "file_extension": ".py",
   "mimetype": "text/x-python",
   "name": "python",
   "nbconvert_exporter": "python",
   "pygments_lexer": "ipython3",
   "version": "undefined.undefined.undefined"
  }
 },
 "nbformat": 4,
 "nbformat_minor": 2
}
