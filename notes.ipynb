{
 "cells": [
  {
   "cell_type": "markdown",
   "metadata": {},
   "source": [
    "# MiniPile from Pile"
   ]
  },
  {
   "cell_type": "code",
   "execution_count": null,
   "metadata": {},
   "outputs": [],
   "source": [
    "!pip install datasets\n",
    "\n",
    "# from datasets import load_dataset\n",
    "# dataset = load_dataset(\"EleutherAI/pile\")"
   ]
  },
  {
   "cell_type": "markdown",
   "metadata": {},
   "source": [
    "[EleutherAI/pile](https://huggingface.co/datasets/EleutherAI/pile)"
   ]
  },
  {
   "cell_type": "code",
   "execution_count": null,
   "metadata": {},
   "outputs": [],
   "source": [
    "from datasets import load_dataset\n",
    "\n",
    "dataset = load_dataset(\"EleutherAI/pile\", split=\"train\", streaming=True)\n",
    "\n",
    "\n",
    "# Example: Iterating over the dataset\n",
    "for example in dataset:\n",
    "    print(example['text'])  # Process each example\n",
    "\n",
    "# Example: Grab first example\n",
    "first_example = next(iter(dataset))\n",
    "print(first_example['text'])\n",
    "\n",
    "# Example: Shuffle the dataset with a buffer of 10000 and a seed of 42\n",
    "shuffled_dataset = dataset.shuffle(buffer_size=10_000, seed=42)\n",
    "\n",
    "# Example: Take the first 1000 examples\n",
    "subset = dataset.take(1000)\n",
    "\n",
    "# Example: Skip the first 1000 examples\n",
    "skipped_dataset = dataset.skip(1000)\n",
    "\n",
    "# Example: Tokenize the dataset\n",
    "def tokenize_function(example):\n",
    "    return tokenizer(example[\"text\"]) # Some Tokenizer\n",
    "tokenized_dataset = dataset.map(tokenize_function, batched=True)"
   ]
  },
  {
   "cell_type": "markdown",
   "metadata": {},
   "source": [
    "### Usage by Tech Companies\n",
    "Several major tech and AI companies have reportedly used The Pile for training their models:\n",
    "\n",
    "- Anthropic\n",
    "- Salesforce\n",
    "- Apple (for training OpenELM)\n",
    "- Nvidia\n",
    "- Bloomberg\n",
    "- Databricks\n",
    "\n",
    "### Ethical and Legal Considerations\n",
    "\n",
    "- Copyright Concerns: The inclusion of YouTube content and other web-scraped data has led to discussions about copyright and fair use in AI training datasets."
   ]
  },
  {
   "cell_type": "markdown",
   "metadata": {},
   "source": []
  }
 ],
 "metadata": {
  "language_info": {
   "name": "python"
  }
 },
 "nbformat": 4,
 "nbformat_minor": 2
}
