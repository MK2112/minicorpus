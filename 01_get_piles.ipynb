{
 "cells": [
  {
   "cell_type": "markdown",
   "metadata": {},
   "source": [
    "# 1 - Downloading The Pile - Deduplicated and MiniPile\n",
    "\n",
    "**Objectives:**\n",
    "- [x] Download \"The Pile - Deduplicated\" to a specified directory\n",
    "- [x] Download \"MiniPile\" to a specified directory"
   ]
  },
  {
   "cell_type": "markdown",
   "metadata": {},
   "source": [
    "We want to download the datasets [EleutherAI/the_pile_deduplicated](https://huggingface.co/datasets/EleutherAI/the_pile_deduplicated) and [JeanKaddour/minipile](https://huggingface.co/datasets/JeanKaddour/minipile) through HuggingFace to a specific directory.<br>\n",
    "HuggingFace can be a bit stubborn in that it loads the datasets and their caches to some default directory.<br>\n",
    "We can't do that here, so we need to implement a custom download function based on the HuggingFace API.<br>\n",
    "Thankfully, the HuggingFace-Hub's `snapshot_download` function performs much of the heavy lifting for us in that regard."
   ]
  },
  {
   "cell_type": "code",
   "execution_count": null,
   "metadata": {},
   "outputs": [],
   "source": [
    "import os\n",
    "from pathlib import Path\n",
    "from huggingface_hub import snapshot_download"
   ]
  },
  {
   "cell_type": "code",
   "execution_count": null,
   "metadata": {},
   "outputs": [],
   "source": [
    "down_dir = \"/vol/tmp/koppelmm\""
   ]
  },
  {
   "cell_type": "code",
   "execution_count": null,
   "metadata": {},
   "outputs": [],
   "source": [
    "def download_dataset(down_dir: str, target_folder: str, cache_folder: str, repo_id: str) -> None:\n",
    "    # Download a dataset without affecting local cache. \n",
    "    # Download genuinely only to target_folder.\n",
    "    down_dir = Path(down_dir)\n",
    "    target_dir = down_dir / target_folder\n",
    "    cache_dir = down_dir / cache_folder\n",
    "\n",
    "    os.makedirs(target_dir, exist_ok=True)\n",
    "    os.makedirs(cache_dir, exist_ok=True)\n",
    "\n",
    "    print(f\"Downloading {repo_id}...\")\n",
    "\n",
    "    # I tried fiddling with os.environs, I wanted to use the load_dataset function\n",
    "    # but that's really not needed, snapshot_download suffices\n",
    "    while True:\n",
    "        try:\n",
    "            snapshot_download(repo_id, repo_type=\"dataset\", cache_dir=str(cache_dir), local_dir=str(target_dir))\n",
    "            break\n",
    "        except Exception as _:\n",
    "            continue"
   ]
  },
  {
   "cell_type": "markdown",
   "metadata": {},
   "source": [
    "With the download logic in place, we can go right ahead and download the datasets to their intended directories."
   ]
  },
  {
   "cell_type": "code",
   "execution_count": null,
   "metadata": {},
   "outputs": [],
   "source": [
    "download_dataset(down_dir=down_dir, target_folder=\"Pile_Deduplicated\", \n",
    "                 cache_folder=\"Pile_Deduplicated_Cache\", repo_id=\"EleutherAI/the_pile_deduplicated\")"
   ]
  },
  {
   "cell_type": "markdown",
   "metadata": {},
   "source": [
    "[The Pile Deduplicated](https://huggingface.co/datasets/EleutherAI/the_pile_deduplicated) is stated to measure $451$ GB at $134,318,121$ rows.<br>\n",
    "The dataset only consists of a train split. Each row only consists of the value to the single attribute `text`."
   ]
  },
  {
   "cell_type": "code",
   "execution_count": null,
   "metadata": {},
   "outputs": [],
   "source": [
    "download_dataset(down_dir=down_dir, target_folder=\"MiniPile\", \n",
    "                 cache_folder=\"MiniPile_Cache\", repo_id=\"JeanKaddour/minipile\")"
   ]
  },
  {
   "cell_type": "markdown",
   "metadata": {},
   "source": [
    "[MiniPile](https://huggingface.co/datasets/JeanKaddour/minipile) is stated to measure $3.18$ GB at $1,000,000:500:10,000$ train:val:test rows.<br>\n",
    "Again, each row only consists of the value to the single attribute `text`.\n",
    "\n",
    "MiniPile's training set is therefore $0.745\\%$ the size of The Pile Deduplicated, while retaining a memory footprint of $0.705\\%$."
   ]
  }
 ],
 "metadata": {
  "kernelspec": {
   "display_name": "ai",
   "language": "python",
   "name": "python3"
  },
  "language_info": {
   "codemirror_mode": {
    "name": "ipython",
    "version": 3
   },
   "file_extension": ".py",
   "mimetype": "text/x-python",
   "name": "python",
   "nbconvert_exporter": "python",
   "pygments_lexer": "ipython3",
   "version": "3.12.2"
  }
 },
 "nbformat": 4,
 "nbformat_minor": 2
}
