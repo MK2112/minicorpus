{
 "cells": [
  {
   "cell_type": "markdown",
   "metadata": {},
   "source": [
    "# 1 - Downloading The Pile - Deduplicated and MiniPile\n",
    "\n",
    "**Objectives:**\n",
    "- [x] Download \"The Pile - Deduplicated\" to a specified directory\n",
    "- [x] Download \"MiniPile\" to a specified directory"
   ]
  },
  {
   "cell_type": "markdown",
   "metadata": {},
   "source": [
    "We want to download the datasets [EleutherAI/the_pile_deduplicated](https://huggingface.co/datasets/EleutherAI/the_pile_deduplicated) and [JeanKaddour/minipile](https://huggingface.co/datasets/JeanKaddour/minipile) through HuggingFace to a specific directory.<br>\n",
    "HuggingFace can be a bit stubborn in that it loads the datasets and their caches to some default directory.<br>\n",
    "We can't do that here, so we need to implement a custom download function based on the HuggingFace API.<br>\n",
    "Thankfully, the HuggingFace-Hub's `snapshot_download` function performs much of the heavy lifting for us in that regard."
   ]
  },
  {
   "cell_type": "code",
   "execution_count": 1,
   "metadata": {},
   "outputs": [],
   "source": [
    "import os\n",
    "from pathlib import Path\n",
    "from huggingface_hub import snapshot_download"
   ]
  },
  {
   "cell_type": "code",
   "execution_count": 2,
   "metadata": {},
   "outputs": [],
   "source": [
    "down_dir = \"/vol/tmp/koppelmm\""
   ]
  },
  {
   "cell_type": "code",
   "execution_count": 3,
   "metadata": {},
   "outputs": [],
   "source": [
    "def download_dataset(down_dir: str, target_folder: str, cache_folder: str, repo_id: str) -> None:\n",
    "    # Download a dataset without affecting local cache. \n",
    "    # Download genuinely only to target_folder.\n",
    "    down_dir = Path(down_dir)\n",
    "    target_dir = down_dir / target_folder\n",
    "    cache_dir = down_dir / cache_folder\n",
    "\n",
    "    os.makedirs(target_dir, exist_ok=True)\n",
    "    os.makedirs(cache_dir, exist_ok=True)\n",
    "\n",
    "    print(f\"Downloading {repo_id}...\")\n",
    "\n",
    "    # I tried fiddling with os.environs, I wanted to use the load_dataset function\n",
    "    # but that's really not needed, snapshot_download suffices\n",
    "    while True:\n",
    "        try:\n",
    "            snapshot_download(repo_id, repo_type=\"dataset\", cache_dir=str(cache_dir), local_dir=str(target_dir))\n",
    "            break\n",
    "        except Exception as _:\n",
    "            continue"
   ]
  },
  {
   "cell_type": "markdown",
   "metadata": {},
   "source": [
    "With the download logic in place, we can go right ahead and download the datasets to their intended directories."
   ]
  },
  {
   "cell_type": "code",
   "execution_count": null,
   "metadata": {},
   "outputs": [],
   "source": [
    "download_dataset(down_dir=down_dir, target_folder=\"Pile_Deduplicated\", \n",
    "                 cache_folder=\"Pile_Deduplicated_Cache\", repo_id=\"EleutherAI/the_pile_deduplicated\")"
   ]
  },
  {
   "cell_type": "markdown",
   "metadata": {},
   "source": [
    "[The Pile Deduplicated](https://huggingface.co/datasets/EleutherAI/the_pile_deduplicated) is stated to measure $451$ GB at $134,318,121$ rows.<br>\n",
    "The dataset only consists of a train split. Each row only consists of the value to the single attribute `text`."
   ]
  },
  {
   "cell_type": "code",
   "execution_count": null,
   "metadata": {},
   "outputs": [],
   "source": [
    "download_dataset(down_dir=down_dir, target_folder=\"MiniPile\", \n",
    "                 cache_folder=\"MiniPile_Cache\", repo_id=\"JeanKaddour/minipile\")"
   ]
  },
  {
   "cell_type": "markdown",
   "metadata": {},
   "source": [
    "[MiniPile](https://huggingface.co/datasets/JeanKaddour/minipile) is stated to measure $3.18$ GB at $1,000,000:500:10,000$ train:val:test rows.<br>\n",
    "Again, each row only consists of the value to the single attribute `text`.\n",
    "\n",
    "MiniPile's training set is therefore $0.745\\%$ the size of The Pile Deduplicated, while retaining a memory footprint of $0.705\\%$."
   ]
  },
  {
   "cell_type": "markdown",
   "metadata": {},
   "source": [
    "---\n",
    "\n",
    "## (Some) Exploratory Data Analysis\n",
    "\n",
    "For comparison, and mostly for fun.<br>\n",
    "I stumbled across [PyGWalker](https://github.com/Kanaries/pygwalker) and decided to give it a shot for looking a bit further into training data from MiniPile."
   ]
  },
  {
   "cell_type": "code",
   "execution_count": null,
   "metadata": {},
   "outputs": [],
   "source": [
    "!pip install matplotlib seaborn wordcloud"
   ]
  },
  {
   "cell_type": "code",
   "execution_count": 13,
   "metadata": {},
   "outputs": [],
   "source": [
    "import pandas as pd\n",
    "from datasets import load_dataset\n",
    "import matplotlib.pyplot as plt\n",
    "import seaborn as sns\n",
    "from collections import Counter\n",
    "from wordcloud import WordCloud\n",
    "\n",
    "%matplotlib inline"
   ]
  },
  {
   "cell_type": "code",
   "execution_count": 17,
   "metadata": {},
   "outputs": [
    {
     "data": {
      "image/png": "[encoded data removed]",
      "text/plain": [
       "<Figure size 1000x600 with 1 Axes>"
      ]
     },
     "metadata": {},
     "output_type": "display_data"
    },
    {
     "name": "stdout",
     "output_type": "stream",
     "text": [
      "[('the', 46273675), ('of', 23645711), ('and', 20278174), ('to', 19549375), ('a', 16105849), ('in', 15588963), ('is', 9679999), ('that', 8111288), ('for', 8014297), ('with', 5896119), ('on', 5010363), ('as', 4912927), ('was', 4342515), ('be', 4315514), ('this', 4178044), ('it', 4153150), ('by', 4075041), ('i', 3997621), ('=', 3966025), ('are', 3891138), ('at', 3458970), ('from', 3430069), ('or', 3279427), ('not', 3182725), ('you', 3124774), ('we', 2998420), ('have', 2956292), ('an', 2917529), ('if', 2299889), ('but', 2214059), ('-', 2096678), ('were', 2080686), ('he', 2074007), ('which', 2016593), ('can', 1954685), ('has', 1874547), ('+', 1780226), ('{', 1774643), ('will', 1714208), ('all', 1713836), ('they', 1691760), ('his', 1675734), ('one', 1566157), ('}', 1539036), ('their', 1452464), ('when', 1451952), ('more', 1411543), ('what', 1392283), ('your', 1308072), ('had', 1274550)]\n"
     ]
    }
   ],
   "source": [
    "down_path = Path(down_dir)\n",
    "\n",
    "# Loading minipile train + val splits from the local directory \n",
    "# https://stackoverflow.com/questions/77020278/how-to-load-a-huggingface-dataset-from-local-path\n",
    "# https://github.com/MK2112/mobileYOLOv3/blob/main/mobileyolov3-cocotext.ipynb\n",
    "# Split is named exactly like with the original dataset https://huggingface.co/datasets/JeanKaddour/minipile\n",
    "minipile_train = load_dataset(\"parquet\",\n",
    "                              data_files={\n",
    "                                  \"train\": str(down_path / \"MiniPile\" / \"data\" / \"train-*.parquet\"),\n",
    "                                  \"validation\": str(down_path / \"MiniPile\" / \"data\" / \"validation-*.parquet\"),\n",
    "                                  \"test\": str(down_path / \"MiniPile\" / \"data\" / \"test-*.parquet\")\n",
    "                              },\n",
    "                              cache_dir=str(down_path / \"MiniPile_Cache\"),\n",
    "                              split=\"train\")\n",
    "\n",
    "df = pd.DataFrame(minipile_train)[['text']]\n",
    "\n",
    "# Word Counts\n",
    "df['word_count'] = df['text'].str.split().str.len()\n",
    "plt.figure(figsize=(10, 6))\n",
    "sns.histplot(df['word_count'], bins=50, kde=True)\n",
    "plt.title('Word Count Distribution')\n",
    "plt.xlabel('Word Count')\n",
    "plt.ylabel('Frequency of Occurence')\n",
    "plt.show()\n",
    "\n",
    "print(Counter(' '.join(df['text']).lower().split()).most_common(50))"
   ]
  },
  {
   "cell_type": "markdown",
   "metadata": {},
   "source": [
    "I find that conducting EDA like this, while informative, takes hilarious amounts of time.<br>\n",
    "I will elect not to apply this further, but instead utilize HuggingFace's SQL-based Interaction options for aggregations and informations about the dataset. For example, after seeing the above graphs, I wanted to know the largest and the smallest example in the dataset, as the distribution is shown to be pretty extreme.\n",
    "\n",
    "On HuggingFace, I ran this to get the answers within about a minute:<br>\n",
    "`SELECT MIN(LENGTH(text)), MAX(LENGTH(text)) FROM train;`\n",
    "\n",
    "`JeanKaddour/MiniPile` contains a smallest example of char size $8$, and a largest one with size $5,766,478$."
   ]
  }
 ],
 "metadata": {
  "kernelspec": {
   "display_name": "minipile",
   "language": "python",
   "name": "python3"
  },
  "language_info": {
   "codemirror_mode": {
    "name": "ipython",
    "version": 3
   },
   "file_extension": ".py",
   "mimetype": "text/x-python",
   "name": "python",
   "nbconvert_exporter": "python",
   "pygments_lexer": "ipython3",
   "version": "3.12.2"
  }
 },
 "nbformat": 4,
 "nbformat_minor": 2
}
