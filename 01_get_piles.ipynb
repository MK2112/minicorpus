{
 "cells": [
  {
   "cell_type": "markdown",
   "metadata": {},
   "source": [
    "# 1 - Downloading 'The Piles' (The Pile - Deduplicated, MiniPile)\n",
    "\n",
    "Ideally run notebooks via SSH Bridge inside VS Code, because `rdesktop` can be unpredictable.<br>\n",
    "Use conda env `minipile` from here on out (`conda activate minipile`).<br>\n",
    "\n",
    "The conda environment being willing and able to process jupyter notebooks is not enough for VS Code.<br>\n",
    "Make sure you:\n",
    "- Have the VS-Code-integrated `Jupyter` extension installed on remote\n",
    "- Explicitly selected the Notebook kernel to be `minipile`\n",
    "\n",
    "(Make sure the code-referenced `down_dir` exists, this script picks up the download from where it left off)\n",
    "\n",
    "**Objectives:**\n",
    "- [x] Download \"The Pile - Deduplicated\" to a specified directory\n",
    "- [x] Download \"MiniPile\" to a specified directory"
   ]
  },
  {
   "cell_type": "code",
   "execution_count": null,
   "metadata": {},
   "outputs": [],
   "source": [
    "import os\n",
    "from pathlib import Path\n",
    "from huggingface_hub import snapshot_download"
   ]
  },
  {
   "cell_type": "code",
   "execution_count": null,
   "metadata": {},
   "outputs": [],
   "source": [
    "def download_dataset(down_dir: str, target_folder: str, cache_folder: str, repo_id: str) -> None:\n",
    "    down_dir = Path(down_dir)\n",
    "    target_dir = down_dir / target_folder\n",
    "    cache_dir = down_dir / cache_folder\n",
    "\n",
    "    os.makedirs(target_dir, exist_ok=True)\n",
    "    os.makedirs(cache_dir, exist_ok=True)\n",
    "\n",
    "    print(f\"Downloading {repo_id}...\")\n",
    "\n",
    "    # I tried fiddling with the os.environs, cause I wanted to use the load_dataset function\n",
    "    # but we actually don't need that, snapshot_download suffices fully\n",
    "    while True:\n",
    "        try:\n",
    "            snapshot_download(repo_id, repo_type=\"dataset\", cache_dir=str(cache_dir), local_dir=str(target_dir))\n",
    "            break\n",
    "        except Exception as _:\n",
    "            continue"
   ]
  },
  {
   "cell_type": "code",
   "execution_count": null,
   "metadata": {},
   "outputs": [],
   "source": [
    "download_dataset(down_dir=\"/vol/tmp/koppelmm\", target_folder=\"Pile_Deduplicated\", \n",
    "                 cache_folder=\"Pile_Deduplicated_Cache\", repo_id=\"EleutherAI/the_pile_deduplicated\")"
   ]
  },
  {
   "cell_type": "code",
   "execution_count": null,
   "metadata": {},
   "outputs": [],
   "source": [
    "download_dataset(down_dir=\"/vol/tmp/koppelmm\", target_folder=\"MiniPile\", \n",
    "                 cache_folder=\"MiniPile_Cache\", repo_id=\"JeanKaddour/minipile\")"
   ]
  }
 ],
 "metadata": {
  "kernelspec": {
   "display_name": "ai",
   "language": "python",
   "name": "python3"
  },
  "language_info": {
   "codemirror_mode": {
    "name": "ipython",
    "version": 3
   },
   "file_extension": ".py",
   "mimetype": "text/x-python",
   "name": "python",
   "nbconvert_exporter": "python",
   "pygments_lexer": "ipython3",
   "version": "3.12.2"
  }
 },
 "nbformat": 4,
 "nbformat_minor": 2
}
