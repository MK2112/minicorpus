{
 "cells": [
  {
   "cell_type": "markdown",
   "metadata": {},
   "source": [
    "# Applying the MiniPile Pipeline to RefinedWeb"
   ]
  },
  {
   "cell_type": "markdown",
   "metadata": {},
   "source": [
    "**Objectives:**\n",
    "- [.] Analyze the RefinedWeb dataset\n",
    "- [] Adapting SuperMiniPile pipeline for RefinedWeb, aiming for creating an equally performant yet smaller dataset (MiniRefinedWeb)\n",
    "- [] Train Pythia $160\\text{M}$ on RefinedWeb and MiniRefinedWeb, evaluate on MMLU and ARC-Challenge\n",
    "- [] Train Pythia $1.4\\text{B}$ with MiniRefinedWeb, evaluate pipeline performance on the MMLU and ARC benchmarks\n",
    "\n",
    "The MiniPile paper doesn't specify if they processed full documents or truncated them.<br>\n",
    "Since E5-Large has a max sequence length, we necessarily truncate, but we could truncate sooner.\n",
    "\n",
    "I run the sampling pipeline on 10% of the data (1-2 days)\n",
    "Using this sample to:\n",
    "a. Test your clustering pipeline\n",
    "b. Validate the entire workflow\n",
    "c. Start developing the cluster analysis tools\n",
    "While this runs, I continue with the objectives."
   ]
  },
  {
   "cell_type": "markdown",
   "metadata": {},
   "source": [
    "---\n",
    "\n",
    "# Analyze the RefinedWeb dataset\n",
    "\n",
    "**By no means** can we download this dataset in the way we did with \"The Pile Deduplicated\". We will have to flat out stream it from the cloud at all times.<br>\n",
    "This introduces network latency and bandwidth as bottlenecks.\n"
   ]
  },
  {
   "cell_type": "code",
   "execution_count": 1,
   "metadata": {},
   "outputs": [],
   "source": [
    "# tiiuae/falcon-refinedweb\n",
    "\n",
    "import numpy as np\n",
    "from datasets import load_dataset\n",
    "from transformers import AutoTokenizer, AutoModel\n",
    "from sklearn.cluster import MiniBatchKMeans\n",
    "from collections import Counter\n",
    "import torch\n",
    "from tqdm import tqdm\n",
    "\n",
    "# Load the dataset and tokenizer\n",
    "dataset = load_dataset(\"tiiuae/falcon-refinedweb\", streaming=True)\n",
    "tokenizer = AutoTokenizer.from_pretrained(\"intfloat/e5-large\")\n",
    "model = AutoModel.from_pretrained(\"intfloat/e5-large\")\n",
    "\n",
    "# Function to get embeddings\n",
    "def get_embedding(text):\n",
    "    inputs = tokenizer(text, return_tensors=\"pt\", truncation=True, max_length=512, padding=True)\n",
    "    with torch.no_grad():\n",
    "        outputs = model(**inputs)\n",
    "    return outputs.last_hidden_state.mean(dim=1).squeeze().numpy()\n",
    "\n",
    "# Initialize variables for analysis\n",
    "total_tokens = 0\n",
    "total_documents = 0\n",
    "content_types = Counter()\n",
    "embedding_sum = np.zeros(1024)  # E5-Large embedding size\n",
    "kmeans = MiniBatchKMeans(n_clusters=220, batch_size=16384)\n",
    "\n",
    "# Analyze the dataset\n",
    "for i, example in enumerate(tqdm(dataset[\"train\"])):\n",
    "    # Count tokens and documents\n",
    "    tokens = tokenizer.tokenize(example['content'])\n",
    "    total_tokens += len(tokens)\n",
    "    total_documents += 1\n",
    "\n",
    "    # Analyze content types\n",
    "    content_type = example['url'].split('.')[-1]\n",
    "    content_types[content_type] += 1\n",
    "\n",
    "    # Get embedding and update clustering\n",
    "    embedding = get_embedding(example['content'])\n",
    "    embedding_sum += embedding\n",
    "    kmeans.partial_fit(embedding.reshape(1, -1))\n",
    "\n",
    "    # Print interim results every 10000 documents\n",
    "    if i % 10000 == 0 and i > 0:\n",
    "        print(f\"\\nInterim results after {i} documents:\")\n",
    "        print(f\"Average tokens per document: {total_tokens / total_documents:.2f}\")\n",
    "        print(f\"Top 5 content types: {content_types.most_common(5)}\")\n",
    "        print(f\"Number of clusters: {len(set(kmeans.labels_))}\")\n",
    "\n",
    "# Final results\n",
    "print(\"\\nFinal results:\")\n",
    "print(f\"Total documents processed: {total_documents}\")\n",
    "print(f\"Average tokens per document: {total_tokens / total_documents:.2f}\")\n",
    "print(f\"Top 10 content types: {content_types.most_common(10)}\")\n",
    "print(f\"Number of clusters: {len(set(kmeans.labels_))}\")\n",
    "\n",
    "# Calculate and print average embedding\n",
    "avg_embedding = embedding_sum / total_documents\n",
    "print(f\"Average embedding (first 10 dimensions): {avg_embedding[:10]}\")"
   ]
  }
 ],
 "metadata": {
  "kernelspec": {
   "display_name": "minipile",
   "language": "python",
   "name": "python3"
  },
  "language_info": {
   "codemirror_mode": {
    "name": "ipython",
    "version": 3
   },
   "file_extension": ".py",
   "mimetype": "text/x-python",
   "name": "python",
   "nbconvert_exporter": "python",
   "pygments_lexer": "ipython3",
   "version": "3.12.7"
  }
 },
 "nbformat": 4,
 "nbformat_minor": 2
}
